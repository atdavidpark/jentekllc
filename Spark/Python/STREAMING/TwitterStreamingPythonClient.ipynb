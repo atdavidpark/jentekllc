{
 "cells": [
  {
   "cell_type": "markdown",
   "metadata": {},
   "source": [
    "This is to connect to the server, see separate TwitterStreamingPythonServer and receives tweets, then save the tweets into\n",
    "HIVE table tweets through Spark SQL"
   ]
  },
  {
   "cell_type": "code",
   "execution_count": 1,
   "metadata": {},
   "outputs": [],
   "source": [
    "import socket\n",
    "\n",
    "HOST = '10.0.0.46'  # The server's hostname or IP address\n",
    "PORT = 20000        # The port used by the server"
   ]
  },
  {
   "cell_type": "code",
   "execution_count": 2,
   "metadata": {},
   "outputs": [],
   "source": [
    "import findspark\n",
    "findspark.init()\n",
    "\n",
    "import pyspark\n",
    "from pyspark.sql import SparkSession\n",
    "import datetime"
   ]
  },
  {
   "cell_type": "code",
   "execution_count": 3,
   "metadata": {},
   "outputs": [],
   "source": [
    "spark = SparkSession \\\n",
    "          .builder \\\n",
    "          .config(\"spark.master\", \"local\") \\\n",
    "          .appName(\"interfacing spark sql to hive metastore with no configuration file\") \\\n",
    "          .config(\"hive.metastore.uris\", \"thrift://10.0.0.46:9083\") \\\n",
    "          .enableHiveSupport() \\\n",
    "          .getOrCreate()"
   ]
  },
  {
   "cell_type": "code",
   "execution_count": 4,
   "metadata": {},
   "outputs": [],
   "source": [
    "sc=spark.sparkContext"
   ]
  },
  {
   "cell_type": "code",
   "execution_count": 5,
   "metadata": {},
   "outputs": [],
   "source": [
    "sc.setLogLevel(\"ERROR\")"
   ]
  },
  {
   "cell_type": "code",
   "execution_count": 6,
   "metadata": {},
   "outputs": [
    {
     "data": {
      "text/plain": [
       "DataFrame[]"
      ]
     },
     "execution_count": 6,
     "metadata": {},
     "output_type": "execute_result"
    }
   ],
   "source": [
    "spark.sql(\"CREATE TABLE IF NOT EXISTS tweets (datetime STRING, text STRING) USING hive\")"
   ]
  },
  {
   "cell_type": "code",
   "execution_count": 7,
   "metadata": {},
   "outputs": [
    {
     "name": "stdout",
     "output_type": "stream",
     "text": [
      "grantdmckenzie And ultimately you know best for your students needs! For semester long course, 2 weeks is not that… https://t.co/zzSjVrJn2f\n",
      "Checkout CursorTek is #selling #bulk #data of 3k plus #categories like:#bars #hotels #restaurants #plumbers… https://t.co/l3sKNmjzJqRT DynamicDuda338: Sooo... today... I wasn’t feeling too good. 😵 I decided to stay in my PJs and complete 8 short classes of Python coding…\n",
      "RT pauli_rearea: grantdmckenzie And ultimately you know best for your students needs! For semester long course, 2 weeks is not that much…\n"
     ]
    }
   ],
   "source": [
    "with socket.socket(socket.AF_INET, socket.SOCK_STREAM) as s:\n",
    "    s.connect((HOST, PORT))\n",
    "    try:\n",
    "        while True:\n",
    "            data = s.recv(1024)\n",
    "            decoded_data=data.decode()\n",
    "            filtered_data=\"\".join(list(filter(lambda x: x!=\"@\" and x!=\"'\" and x!='\"' and x!=\"\\n\" and x!='{' and x!='}' and x!='(' and x!=')',decoded_data)))\n",
    "            print(filtered_data)\n",
    "            spark.sql(\"INSERT INTO tweets values ('\"+str(datetime.datetime.now())+\"','\"+filtered_data+\"')\")\n",
    "            \n",
    "            \n",
    "            \n",
    "    except KeyboardInterrupt:\n",
    "        pass\n"
   ]
  },
  {
   "cell_type": "code",
   "execution_count": null,
   "metadata": {},
   "outputs": [],
   "source": []
  }
 ],
 "metadata": {
  "kernelspec": {
   "display_name": "Python 3",
   "language": "python",
   "name": "python3"
  },
  "language_info": {
   "codemirror_mode": {
    "name": "ipython",
    "version": 3
   },
   "file_extension": ".py",
   "mimetype": "text/x-python",
   "name": "python",
   "nbconvert_exporter": "python",
   "pygments_lexer": "ipython3",
   "version": "3.6.9"
  }
 },
 "nbformat": 4,
 "nbformat_minor": 2
}
