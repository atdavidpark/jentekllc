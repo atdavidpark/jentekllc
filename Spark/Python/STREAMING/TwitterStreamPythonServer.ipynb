{
 "cells": [
  {
   "cell_type": "code",
   "execution_count": 1,
   "metadata": {},
   "outputs": [],
   "source": [
    "import socket\n",
    "import sys\n",
    "import requests\n",
    "import requests_oauthlib\n",
    "import json"
   ]
  },
  {
   "cell_type": "code",
   "execution_count": 2,
   "metadata": {},
   "outputs": [],
   "source": [
    "CONSUMER_KEY = 'your twitter consumer key'\n",
    "CONSUMER_SECRET = 'your twitter consumer secret'\n",
    "ACCESS_TOKEN = 'your twitter access token'\n",
    "ACCESS_SECRET = 'your twitter access secret'\n",
    "my_auth = requests_oauthlib.OAuth1(CONSUMER_KEY, CONSUMER_SECRET,ACCESS_TOKEN, ACCESS_SECRET)"
   ]
  },
  {
   "cell_type": "markdown",
   "metadata": {},
   "source": [
    "In this example, it searches and streams tweets with keywoard Python"
   ]
  },
  {
   "cell_type": "code",
   "execution_count": 5,
   "metadata": {},
   "outputs": [],
   "source": [
    "def download_matched_tweets():\n",
    "    url = 'https://stream.twitter.com/1.1/statuses/filter.json'\n",
    "    parameters = [('language', 'en'),('track','Python')]\n",
    "    query_url = url + '?' + '&'.join([str(t[0]) + '=' + str(t[1]) for t in parameters])\n",
    "    response = requests.get(query_url, auth=my_auth, stream=True)\n",
    "    return response"
   ]
  },
  {
   "cell_type": "markdown",
   "metadata": {},
   "source": [
    "response.iter_lines() is an endless iterator, in this example, it will be stopped by KeyboardInterrupt exception"
   ]
  },
  {
   "cell_type": "code",
   "execution_count": 6,
   "metadata": {},
   "outputs": [],
   "source": [
    "def send_over_socket(http_resp, connection):\n",
    "    try:\n",
    "        for line in http_resp.iter_lines():\n",
    "            try:\n",
    "                full_tweet = json.loads(line)\n",
    "                tweet_text = full_tweet['text']\n",
    "                print(\"Tweet Text: \" + tweet_text)\n",
    "                print (\"------------------------------------------\")\n",
    "                tweet=tweet_text+'\\n'\n",
    "#send over tcp socket requires byte object instead of string, therefore use encode() to convert to bytes\n",
    "                connection.send(tweet.encode())\n",
    "            except:    \n",
    "                err = sys.exc_info()[0]\n",
    "                print(\"Error: %s\" % err)\n",
    "    except KeyboardInterrupt:\n",
    "        pass   "
   ]
  },
  {
   "cell_type": "code",
   "execution_count": 7,
   "metadata": {},
   "outputs": [
    {
     "name": "stdout",
     "output_type": "stream",
     "text": [
      "Waiting for TCP connection...\n",
      "Connected...\n",
      "Error: <class 'json.decoder.JSONDecodeError'>\n",
      "Tweet Text: @grantdmckenzie And ultimately you know best for your students needs! For semester long course, 2 weeks is not that… https://t.co/zzSjVrJn2f\n",
      "------------------------------------------\n",
      "Tweet Text: Checkout CursorTek is #selling #bulk #data of 3k plus #categories like:\n",
      "\n",
      "#bars #hotels #restaurants #plumbers… https://t.co/l3sKNmjzJq\n",
      "------------------------------------------\n",
      "Tweet Text: RT @DynamicDuda338: Sooo... today... I wasn’t feeling too good. 😵 I decided to stay in my PJs and complete 8 short classes of Python coding…\n",
      "------------------------------------------\n",
      "Tweet Text: RT @pauli_rearea: @grantdmckenzie And ultimately you know best for your students needs! For semester long course, 2 weeks is not that much…\n",
      "------------------------------------------\n"
     ]
    }
   ],
   "source": [
    "TCP_IP = \"10.0.0.46\"\n",
    "TCP_PORT = 20000\n",
    "conn = None\n",
    "sock = socket.socket(socket.AF_INET, socket.SOCK_STREAM)\n",
    "sock.bind((TCP_IP, TCP_PORT))\n",
    "sock.listen(1)\n",
    "print(\"Waiting for TCP connection...\")\n",
    "conn, addr = sock.accept()\n",
    "print(\"Connected...\")\n",
    "resp = download_matched_tweets()\n",
    "send_over_socket(resp, conn)"
   ]
  },
  {
   "cell_type": "code",
   "execution_count": null,
   "metadata": {},
   "outputs": [],
   "source": []
  },
  {
   "cell_type": "code",
   "execution_count": null,
   "metadata": {},
   "outputs": [],
   "source": []
  }
 ],
 "metadata": {
  "kernelspec": {
   "display_name": "Python 3",
   "language": "python",
   "name": "python3"
  },
  "language_info": {
   "codemirror_mode": {
    "name": "ipython",
    "version": 3
   },
   "file_extension": ".py",
   "mimetype": "text/x-python",
   "name": "python",
   "nbconvert_exporter": "python",
   "pygments_lexer": "ipython3",
   "version": "3.6.9"
  }
 },
 "nbformat": 4,
 "nbformat_minor": 2
}
