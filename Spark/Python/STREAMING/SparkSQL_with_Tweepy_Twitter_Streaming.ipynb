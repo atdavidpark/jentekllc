{
 "cells": [
  {
   "cell_type": "markdown",
   "metadata": {},
   "source": [
    "Easy to use Python API, for detail see\n",
    "\n",
    "https://tweepy.readthedocs.io/en/latest/index.html\n"
   ]
  },
  {
   "cell_type": "code",
   "execution_count": null,
   "metadata": {},
   "outputs": [],
   "source": [
    "import findspark\n",
    "findspark.init()\n",
    "\n",
    "import pyspark\n",
    "from pyspark.sql import SparkSession\n",
    "import datetime"
   ]
  },
  {
   "cell_type": "code",
   "execution_count": null,
   "metadata": {},
   "outputs": [],
   "source": [
    "spark = SparkSession \\\n",
    "          .builder \\\n",
    "          .config(\"spark.master\", \"local\") \\\n",
    "          .appName(\"interfacing spark sql to hive metastore with no configuration file\") \\\n",
    "          .config(\"hive.metastore.uris\", \"thrift://10.0.0.46:9083\") \\\n",
    "          .enableHiveSupport() \\\n",
    "          .getOrCreate()"
   ]
  },
  {
   "cell_type": "code",
   "execution_count": null,
   "metadata": {},
   "outputs": [],
   "source": [
    "sc=spark.sparkContext"
   ]
  },
  {
   "cell_type": "code",
   "execution_count": null,
   "metadata": {},
   "outputs": [],
   "source": [
    "sc.setLogLevel(\"ERROR\")"
   ]
  },
  {
   "cell_type": "code",
   "execution_count": null,
   "metadata": {},
   "outputs": [],
   "source": [
    "spark.sql(\"CREATE TABLE IF NOT EXISTS tweets (datetime STRING, text STRING) USING hive\")"
   ]
  },
  {
   "cell_type": "markdown",
   "metadata": {},
   "source": [
    "Now start streaming with tweepy"
   ]
  },
  {
   "cell_type": "code",
   "execution_count": null,
   "metadata": {},
   "outputs": [],
   "source": [
    "CONSUMER_KEY = 'your consumer key'\n",
    "CONSUMER_SECRET = 'your consumer secret'\n",
    "ACCESS_TOKEN = 'your access token'\n",
    "ACCESS_SECRET = 'your access secret'"
   ]
  },
  {
   "cell_type": "code",
   "execution_count": null,
   "metadata": {},
   "outputs": [],
   "source": [
    "from tweepy.streaming import StreamListener\n",
    "from tweepy import OAuthHandler\n",
    "from tweepy import Stream\n",
    "import json, time, sys\n",
    "\n",
    "import tweepy\n",
    "auth = tweepy.OAuthHandler(CONSUMER_KEY, CONSUMER_SECRET)\n",
    "auth.set_access_token(ACCESS_TOKEN, ACCESS_SECRET)\n",
    "\n",
    "class MyListener(StreamListener):\n",
    "    def __init__(self, api=None):\n",
    "        super().__init__()\n",
    "\n",
    "    def on_status(self, status):\n",
    "        \n",
    "        text = status.text\n",
    "        created = str(status.created_at)\n",
    "        record = {'Text': text, 'Created At': created}\n",
    "#Save to HIVE table tweets        \n",
    "        filtered_data=\"\".join(list(filter(lambda x: x!=\"@\" and x!=\"'\" and x!='\"' \\\n",
    "                                          and x!=\"\\n\" and x!='{' and x!='}' and x!='(' and x!=')',text)))\n",
    "        print(filtered_data)\n",
    "        spark.sql(\"INSERT INTO tweets values ('\"+created+\"','\"+filtered_data+\"')\")\n",
    "\n",
    "\n",
    "    def on_error(self, status):\n",
    "        print ('Something wrong with status', status)\n",
    "\n",
    "    def on_limit(self, status):\n",
    "        print ('Over the threshold', status)\n",
    "\n",
    "    def on_timeout(self, status):\n",
    "        print ('Timeout...')\n",
    "\n",
    "\n",
    "stream = Stream(auth=auth, listener=MyListener())\n",
    "stream.filter(track=['stock market'])"
   ]
  },
  {
   "cell_type": "code",
   "execution_count": null,
   "metadata": {},
   "outputs": [],
   "source": []
  },
  {
   "cell_type": "code",
   "execution_count": null,
   "metadata": {},
   "outputs": [],
   "source": []
  }
 ],
 "metadata": {
  "kernelspec": {
   "display_name": "Python 3",
   "language": "python",
   "name": "python3"
  },
  "language_info": {
   "codemirror_mode": {
    "name": "ipython",
    "version": 3
   },
   "file_extension": ".py",
   "mimetype": "text/x-python",
   "name": "python",
   "nbconvert_exporter": "python",
   "pygments_lexer": "ipython3",
   "version": "3.6.9"
  }
 },
 "nbformat": 4,
 "nbformat_minor": 2
}
