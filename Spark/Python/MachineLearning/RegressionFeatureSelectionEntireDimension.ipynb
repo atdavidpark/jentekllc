{
 "cells": [
  {
   "cell_type": "markdown",
   "metadata": {},
   "source": [
    "Data set downloaded from current Kaggle competition\n",
    "\n",
    "https://www.kaggle.com/c/house-prices-advanced-regression-techniques/data\n",
    "\n",
    "When attempting to predict housing price, more often than not, it a regression.  \n",
    "\n",
    "This dataset has 80 feature columns and 1 label column, which is price of house sold. It contains both numeric and alphanumeric columns, from that perspective, it is better than popular Boston Housing dataset, which has lot fewer feature variables and no alphanumeric columns.  \n",
    "\n",
    "For biginner and students, this is a great dataset try machine learning regression.\n",
    "\n",
    "You can download by following commandline:\n",
    "\n",
    "kaggle competitions download -c house-prices-advanced-regression-techniques\n",
    "\n",
    "\n"
   ]
  },
  {
   "cell_type": "markdown",
   "metadata": {},
   "source": [
    "Data preprocessing is a big part of the data science and data engineering, it is arguably a most time consuming part. Feature engineering is a portion of data preprocessing, part of the feature engineering work is to understand available feature variables or columns in business meaning and selection, transforming and optimization of the feature variables or columns to participate training machine learning models. <br>\n",
    "\n",
    "Quality of data preprocessing determines the success or failure of the machine learning project. <br>\n",
    "\n",
    "Continuous/ratio/numeric feature columns that are continuous:<br>\n",
    "\n",
    "LotFrontage: Linear feet of street connected to property (number)<br>\n",
    "LotArea: Lot size in square feet (number)<br>\n",
    "YearBuilt: Original construction date (number)<br>\n",
    "YearRemodAdd: Remodel date (number)<br>\n",
    "BsmtFinSF1: Type 1 finished square feet (number)<br>\n",
    "BsmtFinSF2: Type 2 finished square feet (number)<br>\n",
    "BsmtUnfSF: Unfinished square feet of basement area (number)<br> \n",
    "TotalBsmtSF: Total square feet of basement area (number)<br>\n",
    "BsmtFinSF2: Type 2 finished square feet (number)<br>\n",
    "BsmtUnfSF: Unfinished square feet of basement area (number)<br> \n",
    "TotalBsmtSF: Total square feet of basement area (number)<br>\n",
    "BsmtFullBath: Basement full bathrooms (number)<br>\n",
    "BsmtHalfBath: Basement half bathrooms (number)<br>\n",
    "FullBath: Full bathrooms above grade (number)<br>\n",
    "HalfBath: Half baths above grade (number)<br>\n",
    "Bedroom: Number of bedrooms above basement level (number)<br> \n",
    "Kitchen: Number of kitchens (number)<br>\n",
    "WoodDeckSF: Wood deck area in square feet (number)<br> \n",
    "OpenPorchSF: Open porch area in square feet (number)<br>\n",
    "EnclosedPorch: Enclosed porch area in square feet (number)<br>\n",
    "3SsnPorch: Three season porch area in square feet (number)<br>\n",
    "ScreenPorch: Screen porch area in square feet (number)<br>\n",
    "PoolArea: Pool area in square feet (number)<br>\n",
    "MiscVal: Value of miscellaneous feature (number) <br>\n",
    "MoSold: Month Sold (number) <br>\n",
    "YrSold: Year Sold (number) <br>\n",
    "1stFlrSF: First Floor square feet (number) <br>\n",
    "2ndFlrSF: Second floor square feet (number) <br>\n",
    "LowQualFinSF: Low quality finished square feet (all floors) (number) <br> \n",
    "GrLivArea: Above grade (ground) living area square feet (number) <br>\n",
    "\n",
    "\n",
    "\n",
    "Ordinal/Norminal Data (there are number column, but they are caterical or ordinal): <br>\n",
    "\n",
    "MSSubClass: The building class (number, cat) <br>\n",
    "MSZoning: The general zoning classification (String) <br> \n",
    "Street: Type of road access (String) <br>\n",
    "Alley: Type of alley access (String) <br>\n",
    "LotShape: General shape of property (String) <br>\n",
    "LandContour: Flatness of the property (String) <br>\n",
    "Utilities: Type of utilities available (String) <br>\n",
    "LotConfig: Lot configuration (String) <br>\n",
    "LandSlope: Slope of property (String) <br>\n",
    "Neighborhood: Physical locations within Ames city limits (String) <br>\n",
    "Condition1: Proximity to main road or railroad (String) <br>\n",
    "Condition2: Proximity to main road or railroad (if a second is present) (String) <br> \n",
    "BldgType: Type of dwelling (String) <br>\n",
    "HouseStyle: Style of dwelling (String) <br>\n",
    "OverallQual: Overall material and finish quality (number, cat) <br> \n",
    "OverallCond: Overall condition rating (number, cat) <br>\n",
    "RoofStyle: Type of roof (String) <br>\n",
    "RoofMatl: Roof material (String) <br>\n",
    "Exterior1st: Exterior covering on house (String) <br> \n",
    "Exterior2nd: Exterior covering on house (if more than one material) (String) <br> \n",
    "MasVnrType: Masonry veneer type (String) <br>\n",
    "ExterQual: Exterior material quality (String) <br>\n",
    "ExterCond: Present condition of the material on the exterior (String) <br> \n",
    "Foundation: Type of foundation (String) <br>\n",
    "BsmtQual: Height of the basement (String) <br>\n",
    "BsmtCond: General condition of the basement (String) <br> \n",
    "BsmtExposure: Walkout or garden level basement walls (String) <br> \n",
    "BsmtFinType1: Quality of basement finished area (String) <br>\n",
    "BsmtFinType2: Quality of second finished area (if present) (String) <br> \n",
    "Heating: Type of heating (String) <br>\n",
    "HeatingQC: Heating quality and condition (String) <br> \n",
    "CentralAir: Central air conditioning (String) <br>\n",
    "Electrical: Electrical system (String) <br>\n",
    "KitchenQual: Kitchen quality (String) <br>\n",
    "TotRmsAbvGrd: Total rooms above grade (does not include bathrooms) (number) <br> \n",
    "Functional: Home functionality rating (String) <br>\n",
    "Fireplaces: Number of fireplaces (number) <br>\n",
    "FireplaceQu: Fireplace quality (String) <br>\n",
    "GarageType: Garage location (String) <br>\n",
    "GarageYrBlt: Year garage was built (number) <br>\n",
    "GarageFinish: Interior finish of the garage (String) <br>\n",
    "GarageCars: Size of garage in car capacity (number) <br>\n",
    "GarageArea: Size of garage in square feet (number) <br>\n",
    "GarageQual: Garage quality (String) <br>\n",
    "GarageCond: Garage condition (String) <br>\n",
    "PavedDrive: Paved driveway (String) <br>\n",
    "PoolQC: Pool quality Fence: Fence quality (String) <br>\n",
    "MiscFeature: Miscellaneous feature not covered in other categories (String) <br> \n",
    "SaleType: Type of sale (String) <br>\n",
    "SaleCondition: Condition of sale (String) <br>\n",
    "\n",
    "Target: <br>\n",
    "\n",
    "SalePrice - the property's sale price in dollars. This is the target variable that you're trying to predict. <br>\n",
    "\n"
   ]
  },
  {
   "cell_type": "markdown",
   "metadata": {},
   "source": [
    "Data preprocessing is a big part of the data science and data engineering, it is arguably a most time consuming part. Feature engineering is a portion of data preprocessing, part of the feature engineering work is to understand available feature variables or columns in business meaning and selection, transforming and optimization of the feature variables or columns to participate training machine learning models. <br>\n",
    "\n",
    "Quality of data preprocessing determines the success or failure of the machine learning project. <br>\n",
    "\n",
    "Continuous/ratio/numeric feature columns that are continuous:<br>\n",
    "\n",
    "LotFrontage: Linear feet of street connected to property (number)<br>\n",
    "LotArea: Lot size in square feet (number)<br>\n",
    "YearBuilt: Original construction date (number)<br>\n",
    "YearRemodAdd: Remodel date (number)<br>\n",
    "BsmtFinSF1: Type 1 finished square feet (number)<br>\n",
    "BsmtFinSF2: Type 2 finished square feet (number)<br>\n",
    "BsmtUnfSF: Unfinished square feet of basement area (number)<br> \n",
    "TotalBsmtSF: Total square feet of basement area (number)<br>\n",
    "BsmtFinSF2: Type 2 finished square feet (number)<br>\n",
    "BsmtUnfSF: Unfinished square feet of basement area (number)<br> \n",
    "TotalBsmtSF: Total square feet of basement area (number)<br>\n",
    "BsmtFullBath: Basement full bathrooms (number)<br>\n",
    "BsmtHalfBath: Basement half bathrooms (number)<br>\n",
    "FullBath: Full bathrooms above grade (number)<br>\n",
    "HalfBath: Half baths above grade (number)<br>\n",
    "Bedroom: Number of bedrooms above basement level (number)<br> \n",
    "Kitchen: Number of kitchens (number)<br>\n",
    "WoodDeckSF: Wood deck area in square feet (number)<br> \n",
    "OpenPorchSF: Open porch area in square feet (number)<br>\n",
    "EnclosedPorch: Enclosed porch area in square feet (number)<br>\n",
    "3SsnPorch: Three season porch area in square feet (number)<br>\n",
    "ScreenPorch: Screen porch area in square feet (number)<br>\n",
    "PoolArea: Pool area in square feet (number)<br>\n",
    "MiscVal: Value of miscellaneous feature (number) <br>\n",
    "MoSold: Month Sold (number) <br>\n",
    "YrSold: Year Sold (number) <br>\n",
    "1stFlrSF: First Floor square feet (number) <br>\n",
    "2ndFlrSF: Second floor square feet (number) <br>\n",
    "LowQualFinSF: Low quality finished square feet (all floors) (number) <br> \n",
    "GrLivArea: Above grade (ground) living area square feet (number) <br>\n",
    "\n",
    "\n",
    "\n",
    "Ordinal/Norminal Data (there are number column, but they are caterical or ordinal): <br>\n",
    "\n",
    "MSSubClass: The building class (number, cat) <br>\n",
    "MSZoning: The general zoning classification (String) <br> \n",
    "Street: Type of road access (String) <br>\n",
    "Alley: Type of alley access (String) <br>\n",
    "LotShape: General shape of property (String) <br>\n",
    "LandContour: Flatness of the property (String) <br>\n",
    "Utilities: Type of utilities available (String) <br>\n",
    "LotConfig: Lot configuration (String) <br>\n",
    "LandSlope: Slope of property (String) <br>\n",
    "Neighborhood: Physical locations within Ames city limits (String) <br>\n",
    "Condition1: Proximity to main road or railroad (String) <br>\n",
    "Condition2: Proximity to main road or railroad (if a second is present) (String) <br> \n",
    "BldgType: Type of dwelling (String) <br>\n",
    "HouseStyle: Style of dwelling (String) <br>\n",
    "OverallQual: Overall material and finish quality (number, cat) <br> \n",
    "OverallCond: Overall condition rating (number, cat) <br>\n",
    "RoofStyle: Type of roof (String) <br>\n",
    "RoofMatl: Roof material (String) <br>\n",
    "Exterior1st: Exterior covering on house (String) <br> \n",
    "Exterior2nd: Exterior covering on house (if more than one material) (String) <br> \n",
    "MasVnrType: Masonry veneer type (String) <br>\n",
    "ExterQual: Exterior material quality (String) <br>\n",
    "ExterCond: Present condition of the material on the exterior (String) <br> \n",
    "Foundation: Type of foundation (String) <br>\n",
    "BsmtQual: Height of the basement (String) <br>\n",
    "BsmtCond: General condition of the basement (String) <br> \n",
    "BsmtExposure: Walkout or garden level basement walls (String) <br> \n",
    "BsmtFinType1: Quality of basement finished area (String) <br>\n",
    "BsmtFinType2: Quality of second finished area (if present) (String) <br> \n",
    "Heating: Type of heating (String) <br>\n",
    "HeatingQC: Heating quality and condition (String) <br> \n",
    "CentralAir: Central air conditioning (String) <br>\n",
    "Electrical: Electrical system (String) <br>\n",
    "KitchenQual: Kitchen quality (String) <br>\n",
    "TotRmsAbvGrd: Total rooms above grade (does not include bathrooms) (number) <br> \n",
    "Functional: Home functionality rating (String) <br>\n",
    "Fireplaces: Number of fireplaces (number) <br>\n",
    "FireplaceQu: Fireplace quality (String) <br>\n",
    "GarageType: Garage location (String) <br>\n",
    "GarageYrBlt: Year garage was built (number) <br>\n",
    "GarageFinish: Interior finish of the garage (String) <br>\n",
    "GarageCars: Size of garage in car capacity (number) <br>\n",
    "GarageArea: Size of garage in square feet (number) <br>\n",
    "GarageQual: Garage quality (String) <br>\n",
    "GarageCond: Garage condition (String) <br>\n",
    "PavedDrive: Paved driveway (String) <br>\n",
    "PoolQC: Pool quality Fence: Fence quality (String) <br>\n",
    "MiscFeature: Miscellaneous feature not covered in other categories (String) <br> \n",
    "SaleType: Type of sale (String) <br>\n",
    "SaleCondition: Condition of sale (String) <br>\n",
    "\n",
    "Target: <br>\n",
    "\n",
    "SalePrice - the property's sale price in dollars. This is the target variable that you're trying to predict. <br>\n",
    "\n"
   ]
  },
  {
   "cell_type": "markdown",
   "metadata": {},
   "source": [
    "import numpy as np\n",
    "import pandas as pd\n",
    "import math"
   ]
  },
  {
   "cell_type": "code",
   "execution_count": 3,
   "metadata": {},
   "outputs": [],
   "source": [
    "import numpy as np\n",
    "import pandas as pd\n",
    "import math"
   ]
  },
  {
   "cell_type": "code",
   "execution_count": 4,
   "metadata": {},
   "outputs": [],
   "source": [
    "#Load csv file into pandas dataframe\n",
    "\n",
    "df=pd.read_csv(\"/home/bigdata2/kaggle/train.csv\",sep=',',header='infer')"
   ]
  },
  {
   "cell_type": "code",
   "execution_count": 5,
   "metadata": {},
   "outputs": [
    {
     "data": {
      "text/html": [
       "<div>\n",
       "<style scoped>\n",
       "    .dataframe tbody tr th:only-of-type {\n",
       "        vertical-align: middle;\n",
       "    }\n",
       "\n",
       "    .dataframe tbody tr th {\n",
       "        vertical-align: top;\n",
       "    }\n",
       "\n",
       "    .dataframe thead th {\n",
       "        text-align: right;\n",
       "    }\n",
       "</style>\n",
       "<table border=\"1\" class=\"dataframe\">\n",
       "  <thead>\n",
       "    <tr style=\"text-align: right;\">\n",
       "      <th></th>\n",
       "      <th>Id</th>\n",
       "      <th>MSSubClass</th>\n",
       "      <th>MSZoning</th>\n",
       "      <th>LotFrontage</th>\n",
       "      <th>LotArea</th>\n",
       "      <th>Street</th>\n",
       "      <th>Alley</th>\n",
       "      <th>LotShape</th>\n",
       "      <th>LandContour</th>\n",
       "      <th>Utilities</th>\n",
       "      <th>...</th>\n",
       "      <th>PoolArea</th>\n",
       "      <th>PoolQC</th>\n",
       "      <th>Fence</th>\n",
       "      <th>MiscFeature</th>\n",
       "      <th>MiscVal</th>\n",
       "      <th>MoSold</th>\n",
       "      <th>YrSold</th>\n",
       "      <th>SaleType</th>\n",
       "      <th>SaleCondition</th>\n",
       "      <th>SalePrice</th>\n",
       "    </tr>\n",
       "  </thead>\n",
       "  <tbody>\n",
       "    <tr>\n",
       "      <th>0</th>\n",
       "      <td>1</td>\n",
       "      <td>60</td>\n",
       "      <td>RL</td>\n",
       "      <td>65.0</td>\n",
       "      <td>8450</td>\n",
       "      <td>Pave</td>\n",
       "      <td>NaN</td>\n",
       "      <td>Reg</td>\n",
       "      <td>Lvl</td>\n",
       "      <td>AllPub</td>\n",
       "      <td>...</td>\n",
       "      <td>0</td>\n",
       "      <td>NaN</td>\n",
       "      <td>NaN</td>\n",
       "      <td>NaN</td>\n",
       "      <td>0</td>\n",
       "      <td>2</td>\n",
       "      <td>2008</td>\n",
       "      <td>WD</td>\n",
       "      <td>Normal</td>\n",
       "      <td>208500</td>\n",
       "    </tr>\n",
       "    <tr>\n",
       "      <th>1</th>\n",
       "      <td>2</td>\n",
       "      <td>20</td>\n",
       "      <td>RL</td>\n",
       "      <td>80.0</td>\n",
       "      <td>9600</td>\n",
       "      <td>Pave</td>\n",
       "      <td>NaN</td>\n",
       "      <td>Reg</td>\n",
       "      <td>Lvl</td>\n",
       "      <td>AllPub</td>\n",
       "      <td>...</td>\n",
       "      <td>0</td>\n",
       "      <td>NaN</td>\n",
       "      <td>NaN</td>\n",
       "      <td>NaN</td>\n",
       "      <td>0</td>\n",
       "      <td>5</td>\n",
       "      <td>2007</td>\n",
       "      <td>WD</td>\n",
       "      <td>Normal</td>\n",
       "      <td>181500</td>\n",
       "    </tr>\n",
       "    <tr>\n",
       "      <th>2</th>\n",
       "      <td>3</td>\n",
       "      <td>60</td>\n",
       "      <td>RL</td>\n",
       "      <td>68.0</td>\n",
       "      <td>11250</td>\n",
       "      <td>Pave</td>\n",
       "      <td>NaN</td>\n",
       "      <td>IR1</td>\n",
       "      <td>Lvl</td>\n",
       "      <td>AllPub</td>\n",
       "      <td>...</td>\n",
       "      <td>0</td>\n",
       "      <td>NaN</td>\n",
       "      <td>NaN</td>\n",
       "      <td>NaN</td>\n",
       "      <td>0</td>\n",
       "      <td>9</td>\n",
       "      <td>2008</td>\n",
       "      <td>WD</td>\n",
       "      <td>Normal</td>\n",
       "      <td>223500</td>\n",
       "    </tr>\n",
       "  </tbody>\n",
       "</table>\n",
       "<p>3 rows × 81 columns</p>\n",
       "</div>"
      ],
      "text/plain": [
       "   Id  MSSubClass MSZoning  LotFrontage  LotArea Street Alley LotShape  \\\n",
       "0   1          60       RL         65.0     8450   Pave   NaN      Reg   \n",
       "1   2          20       RL         80.0     9600   Pave   NaN      Reg   \n",
       "2   3          60       RL         68.0    11250   Pave   NaN      IR1   \n",
       "\n",
       "  LandContour Utilities  ... PoolArea PoolQC Fence MiscFeature MiscVal MoSold  \\\n",
       "0         Lvl    AllPub  ...        0    NaN   NaN         NaN       0      2   \n",
       "1         Lvl    AllPub  ...        0    NaN   NaN         NaN       0      5   \n",
       "2         Lvl    AllPub  ...        0    NaN   NaN         NaN       0      9   \n",
       "\n",
       "  YrSold  SaleType  SaleCondition  SalePrice  \n",
       "0   2008        WD         Normal     208500  \n",
       "1   2007        WD         Normal     181500  \n",
       "2   2008        WD         Normal     223500  \n",
       "\n",
       "[3 rows x 81 columns]"
      ]
     },
     "execution_count": 5,
     "metadata": {},
     "output_type": "execute_result"
    }
   ],
   "source": [
    "df.head(3)"
   ]
  },
  {
   "cell_type": "code",
   "execution_count": 6,
   "metadata": {},
   "outputs": [],
   "source": [
    "#The data contains both number and non number columns, get all the number columns into pandas dataframe df_num\n",
    "\n",
    "df_num=df.select_dtypes(include='number')"
   ]
  },
  {
   "cell_type": "code",
   "execution_count": 7,
   "metadata": {},
   "outputs": [],
   "source": [
    "#Get all the non number columns into anothet pandas dataframe df_non_num\n",
    "\n",
    "df_non_num=df.select_dtypes(exclude='number')"
   ]
  },
  {
   "cell_type": "code",
   "execution_count": 8,
   "metadata": {},
   "outputs": [],
   "source": [
    "#Convert datatype of all non number columns into category datatype\n",
    "\n",
    "df_non_num=df_non_num.astype('category')"
   ]
  },
  {
   "cell_type": "code",
   "execution_count": 9,
   "metadata": {},
   "outputs": [],
   "source": [
    "#Get all the non number columns name into an pandas core index, similar to a list of columns, cat_columns\n",
    "\n",
    "cat_columns = df_non_num.select_dtypes(['category']).columns"
   ]
  },
  {
   "cell_type": "code",
   "execution_count": 10,
   "metadata": {},
   "outputs": [],
   "source": [
    "#Convert each categorical column text values into numeric values, which is called label encoding, ML algorithm can only deal with numeric values.\n",
    "\n",
    "df_non_num[cat_columns]=df_non_num[cat_columns].apply(lambda x: x.cat.codes)"
   ]
  },
  {
   "cell_type": "code",
   "execution_count": 11,
   "metadata": {},
   "outputs": [],
   "source": [
    "#Finally, join df_non_num with df_num, the last column of df_num is saleprice, which is the target, and which\n",
    "#is last column of combined dataframe df_all_num\n",
    "\n",
    "df_all_num=df_non_num.join(df_num)"
   ]
  },
  {
   "cell_type": "code",
   "execution_count": 12,
   "metadata": {},
   "outputs": [
    {
     "data": {
      "text/html": [
       "<div>\n",
       "<style scoped>\n",
       "    .dataframe tbody tr th:only-of-type {\n",
       "        vertical-align: middle;\n",
       "    }\n",
       "\n",
       "    .dataframe tbody tr th {\n",
       "        vertical-align: top;\n",
       "    }\n",
       "\n",
       "    .dataframe thead th {\n",
       "        text-align: right;\n",
       "    }\n",
       "</style>\n",
       "<table border=\"1\" class=\"dataframe\">\n",
       "  <thead>\n",
       "    <tr style=\"text-align: right;\">\n",
       "      <th></th>\n",
       "      <th>MSZoning</th>\n",
       "      <th>Street</th>\n",
       "      <th>Alley</th>\n",
       "      <th>LotShape</th>\n",
       "      <th>LandContour</th>\n",
       "      <th>Utilities</th>\n",
       "      <th>LotConfig</th>\n",
       "      <th>LandSlope</th>\n",
       "      <th>Neighborhood</th>\n",
       "      <th>Condition1</th>\n",
       "      <th>...</th>\n",
       "      <th>WoodDeckSF</th>\n",
       "      <th>OpenPorchSF</th>\n",
       "      <th>EnclosedPorch</th>\n",
       "      <th>3SsnPorch</th>\n",
       "      <th>ScreenPorch</th>\n",
       "      <th>PoolArea</th>\n",
       "      <th>MiscVal</th>\n",
       "      <th>MoSold</th>\n",
       "      <th>YrSold</th>\n",
       "      <th>SalePrice</th>\n",
       "    </tr>\n",
       "  </thead>\n",
       "  <tbody>\n",
       "    <tr>\n",
       "      <th>0</th>\n",
       "      <td>3</td>\n",
       "      <td>1</td>\n",
       "      <td>-1</td>\n",
       "      <td>3</td>\n",
       "      <td>3</td>\n",
       "      <td>0</td>\n",
       "      <td>4</td>\n",
       "      <td>0</td>\n",
       "      <td>5</td>\n",
       "      <td>2</td>\n",
       "      <td>...</td>\n",
       "      <td>0</td>\n",
       "      <td>61</td>\n",
       "      <td>0</td>\n",
       "      <td>0</td>\n",
       "      <td>0</td>\n",
       "      <td>0</td>\n",
       "      <td>0</td>\n",
       "      <td>2</td>\n",
       "      <td>2008</td>\n",
       "      <td>208500</td>\n",
       "    </tr>\n",
       "    <tr>\n",
       "      <th>1</th>\n",
       "      <td>3</td>\n",
       "      <td>1</td>\n",
       "      <td>-1</td>\n",
       "      <td>3</td>\n",
       "      <td>3</td>\n",
       "      <td>0</td>\n",
       "      <td>2</td>\n",
       "      <td>0</td>\n",
       "      <td>24</td>\n",
       "      <td>1</td>\n",
       "      <td>...</td>\n",
       "      <td>298</td>\n",
       "      <td>0</td>\n",
       "      <td>0</td>\n",
       "      <td>0</td>\n",
       "      <td>0</td>\n",
       "      <td>0</td>\n",
       "      <td>0</td>\n",
       "      <td>5</td>\n",
       "      <td>2007</td>\n",
       "      <td>181500</td>\n",
       "    </tr>\n",
       "  </tbody>\n",
       "</table>\n",
       "<p>2 rows × 81 columns</p>\n",
       "</div>"
      ],
      "text/plain": [
       "   MSZoning  Street  Alley  LotShape  LandContour  Utilities  LotConfig  \\\n",
       "0         3       1     -1         3            3          0          4   \n",
       "1         3       1     -1         3            3          0          2   \n",
       "\n",
       "   LandSlope  Neighborhood  Condition1  ...  WoodDeckSF  OpenPorchSF  \\\n",
       "0          0             5           2  ...           0           61   \n",
       "1          0            24           1  ...         298            0   \n",
       "\n",
       "   EnclosedPorch  3SsnPorch  ScreenPorch  PoolArea  MiscVal  MoSold  YrSold  \\\n",
       "0              0          0            0         0        0       2    2008   \n",
       "1              0          0            0         0        0       5    2007   \n",
       "\n",
       "   SalePrice  \n",
       "0     208500  \n",
       "1     181500  \n",
       "\n",
       "[2 rows x 81 columns]"
      ]
     },
     "execution_count": 12,
     "metadata": {},
     "output_type": "execute_result"
    }
   ],
   "source": [
    "df_all_num.head(2)"
   ]
  },
  {
   "cell_type": "code",
   "execution_count": 13,
   "metadata": {},
   "outputs": [],
   "source": [
    "#There are NaN values in df_all_num, which can not be handled by ML algorithm, replace NaN with 0\n",
    "\n",
    "df_all_num=df_all_num.fillna(0)"
   ]
  },
  {
   "cell_type": "code",
   "execution_count": 14,
   "metadata": {},
   "outputs": [
    {
     "data": {
      "text/html": [
       "<div>\n",
       "<style scoped>\n",
       "    .dataframe tbody tr th:only-of-type {\n",
       "        vertical-align: middle;\n",
       "    }\n",
       "\n",
       "    .dataframe tbody tr th {\n",
       "        vertical-align: top;\n",
       "    }\n",
       "\n",
       "    .dataframe thead th {\n",
       "        text-align: right;\n",
       "    }\n",
       "</style>\n",
       "<table border=\"1\" class=\"dataframe\">\n",
       "  <thead>\n",
       "    <tr style=\"text-align: right;\">\n",
       "      <th></th>\n",
       "      <th>MSZoning</th>\n",
       "      <th>Street</th>\n",
       "      <th>Alley</th>\n",
       "      <th>LotShape</th>\n",
       "      <th>LandContour</th>\n",
       "      <th>Utilities</th>\n",
       "      <th>LotConfig</th>\n",
       "      <th>LandSlope</th>\n",
       "      <th>Neighborhood</th>\n",
       "      <th>Condition1</th>\n",
       "      <th>...</th>\n",
       "      <th>WoodDeckSF</th>\n",
       "      <th>OpenPorchSF</th>\n",
       "      <th>EnclosedPorch</th>\n",
       "      <th>3SsnPorch</th>\n",
       "      <th>ScreenPorch</th>\n",
       "      <th>PoolArea</th>\n",
       "      <th>MiscVal</th>\n",
       "      <th>MoSold</th>\n",
       "      <th>YrSold</th>\n",
       "      <th>SalePrice</th>\n",
       "    </tr>\n",
       "  </thead>\n",
       "  <tbody>\n",
       "    <tr>\n",
       "      <th>0</th>\n",
       "      <td>3</td>\n",
       "      <td>1</td>\n",
       "      <td>-1</td>\n",
       "      <td>3</td>\n",
       "      <td>3</td>\n",
       "      <td>0</td>\n",
       "      <td>4</td>\n",
       "      <td>0</td>\n",
       "      <td>5</td>\n",
       "      <td>2</td>\n",
       "      <td>...</td>\n",
       "      <td>0</td>\n",
       "      <td>61</td>\n",
       "      <td>0</td>\n",
       "      <td>0</td>\n",
       "      <td>0</td>\n",
       "      <td>0</td>\n",
       "      <td>0</td>\n",
       "      <td>2</td>\n",
       "      <td>2008</td>\n",
       "      <td>208500</td>\n",
       "    </tr>\n",
       "    <tr>\n",
       "      <th>1</th>\n",
       "      <td>3</td>\n",
       "      <td>1</td>\n",
       "      <td>-1</td>\n",
       "      <td>3</td>\n",
       "      <td>3</td>\n",
       "      <td>0</td>\n",
       "      <td>2</td>\n",
       "      <td>0</td>\n",
       "      <td>24</td>\n",
       "      <td>1</td>\n",
       "      <td>...</td>\n",
       "      <td>298</td>\n",
       "      <td>0</td>\n",
       "      <td>0</td>\n",
       "      <td>0</td>\n",
       "      <td>0</td>\n",
       "      <td>0</td>\n",
       "      <td>0</td>\n",
       "      <td>5</td>\n",
       "      <td>2007</td>\n",
       "      <td>181500</td>\n",
       "    </tr>\n",
       "  </tbody>\n",
       "</table>\n",
       "<p>2 rows × 81 columns</p>\n",
       "</div>"
      ],
      "text/plain": [
       "   MSZoning  Street  Alley  LotShape  LandContour  Utilities  LotConfig  \\\n",
       "0         3       1     -1         3            3          0          4   \n",
       "1         3       1     -1         3            3          0          2   \n",
       "\n",
       "   LandSlope  Neighborhood  Condition1  ...  WoodDeckSF  OpenPorchSF  \\\n",
       "0          0             5           2  ...           0           61   \n",
       "1          0            24           1  ...         298            0   \n",
       "\n",
       "   EnclosedPorch  3SsnPorch  ScreenPorch  PoolArea  MiscVal  MoSold  YrSold  \\\n",
       "0              0          0            0         0        0       2    2008   \n",
       "1              0          0            0         0        0       5    2007   \n",
       "\n",
       "   SalePrice  \n",
       "0     208500  \n",
       "1     181500  \n",
       "\n",
       "[2 rows x 81 columns]"
      ]
     },
     "execution_count": 14,
     "metadata": {},
     "output_type": "execute_result"
    }
   ],
   "source": [
    "df_all_num.head(2)"
   ]
  },
  {
   "cell_type": "code",
   "execution_count": 15,
   "metadata": {},
   "outputs": [],
   "source": [
    "#Now create feature matrix X and target vector y.\n",
    "#column 0 to column 79 of pandas dataframe df_all_num are in feature matrix, a numpy array X\n",
    "#column 80, saleprice, the target, in numpy array y\n",
    "\n",
    "X=df_all_num.iloc[:,0:79].to_numpy()\n",
    "y=df_all_num.iloc[:,80].to_numpy()"
   ]
  },
  {
   "cell_type": "code",
   "execution_count": 16,
   "metadata": {},
   "outputs": [],
   "source": [
    "#Then split X, y into Xtrain, Ytrain 70%, Xtest, Ytest 30%\n",
    "import sklearn\n",
    "from sklearn.model_selection import train_test_split\n",
    "Xtrain, Xtest, Ytrain, Ytest=train_test_split(X,y,test_size=0.30, random_state=0)\n"
   ]
  },
  {
   "cell_type": "code",
   "execution_count": 41,
   "metadata": {},
   "outputs": [],
   "source": [
    "#Now start regression.\n",
    "#Start with LinearRegression on all columns\n",
    "\n",
    "from sklearn.linear_model import LinearRegression\n",
    "model = LinearRegression()\n",
    "model.fit(Xtrain, Ytrain)\n",
    "y_pred=model.predict(Xtest)\n",
    "\n",
    "\n"
   ]
  },
  {
   "cell_type": "code",
   "execution_count": 42,
   "metadata": {},
   "outputs": [
    {
     "data": {
      "text/plain": [
       "49110.59234491527"
      ]
     },
     "execution_count": 42,
     "metadata": {},
     "output_type": "execute_result"
    }
   ],
   "source": [
    "#Evalue mean squared error and R square, the higher the R Square, towards 1, the better\n",
    "\n",
    "from sklearn.metrics import mean_squared_error,r2_score\n",
    "MSE=mean_squared_error(Ytest,y_pred)\n",
    "math.sqrt(MSE)"
   ]
  },
  {
   "cell_type": "code",
   "execution_count": 43,
   "metadata": {},
   "outputs": [
    {
     "data": {
      "text/plain": [
       "0.6447410043978035"
      ]
     },
     "execution_count": 43,
     "metadata": {},
     "output_type": "execute_result"
    }
   ],
   "source": [
    "#0.63, not too great\n",
    "\n",
    "r2_score(Ytest,y_pred)"
   ]
  },
  {
   "cell_type": "code",
   "execution_count": 20,
   "metadata": {},
   "outputs": [],
   "source": [
    "#Let's try Ridge regression, which is also called L2 regularization, it is LinearRegression, but less influenced by outliers\n",
    "\n",
    "from sklearn.linear_model import Ridge\n",
    "ridge_model = Ridge(alpha=0.5,normalize=True)\n",
    "ridge_model.fit(Xtrain, Ytrain)\n",
    "y_pred=ridge_model.predict(Xtest)\n"
   ]
  },
  {
   "cell_type": "code",
   "execution_count": 21,
   "metadata": {},
   "outputs": [
    {
     "data": {
      "text/plain": [
       "41237.45761418597"
      ]
     },
     "execution_count": 21,
     "metadata": {},
     "output_type": "execute_result"
    }
   ],
   "source": [
    "#Better R Square at 0.75\n",
    "\n",
    "MSE=mean_squared_error(Ytest,y_pred)\n",
    "math.sqrt(MSE)"
   ]
  },
  {
   "cell_type": "code",
   "execution_count": 22,
   "metadata": {},
   "outputs": [
    {
     "data": {
      "text/plain": [
       "0.7495168575082853"
      ]
     },
     "execution_count": 22,
     "metadata": {},
     "output_type": "execute_result"
    }
   ],
   "source": [
    "r2_score(Ytest,y_pred)"
   ]
  },
  {
   "cell_type": "code",
   "execution_count": 23,
   "metadata": {},
   "outputs": [],
   "source": [
    "from sklearn.linear_model import Lasso\n",
    "lasso_model =Lasso(alpha=2.0, normalize=True)\n",
    "lasso_model.fit(Xtrain, Ytrain)\n",
    "y_pred=lasso_model.predict(Xtest)\n"
   ]
  },
  {
   "cell_type": "code",
   "execution_count": 24,
   "metadata": {},
   "outputs": [
    {
     "data": {
      "text/plain": [
       "48127.71999544179"
      ]
     },
     "execution_count": 24,
     "metadata": {},
     "output_type": "execute_result"
    }
   ],
   "source": [
    "MSE=mean_squared_error(Ytest,y_pred)\n",
    "math.sqrt(MSE)"
   ]
  },
  {
   "cell_type": "code",
   "execution_count": 25,
   "metadata": {},
   "outputs": [
    {
     "data": {
      "text/plain": [
       "0.6588186254023227"
      ]
     },
     "execution_count": 25,
     "metadata": {},
     "output_type": "execute_result"
    }
   ],
   "source": [
    "r2_score(Ytest,y_pred)"
   ]
  },
  {
   "cell_type": "code",
   "execution_count": 26,
   "metadata": {},
   "outputs": [],
   "source": [
    "#That usually tells the dataset are not linear, non linear regression should be tried.\n",
    "#Technically, there are 3 basic regression for non linear dataset, they are\n",
    "#Decision tree, Random Forest Regressor and Gradient Boost Regressor\n",
    "#Try each of them\n",
    "\n",
    "#Start with DecisionTree Regressor\n",
    "\n",
    "\n",
    "from sklearn.tree import DecisionTreeRegressor\n",
    "dt_model=DecisionTreeRegressor()\n",
    "dt_model.fit(Xtrain, Ytrain)\n",
    "y_pred=dt_model.predict(Xtest)\n",
    "\n",
    "\n"
   ]
  },
  {
   "cell_type": "code",
   "execution_count": 27,
   "metadata": {},
   "outputs": [
    {
     "data": {
      "text/plain": [
       "41864.72075683708"
      ]
     },
     "execution_count": 27,
     "metadata": {},
     "output_type": "execute_result"
    }
   ],
   "source": [
    "#Not promising using DecisoinTree with default hyperpameters, R Square at 0.60\n",
    "\n",
    "MSE=mean_squared_error(Ytest,y_pred)\n",
    "math.sqrt(MSE)"
   ]
  },
  {
   "cell_type": "code",
   "execution_count": 28,
   "metadata": {},
   "outputs": [
    {
     "data": {
      "text/plain": [
       "0.7418387017734527"
      ]
     },
     "execution_count": 28,
     "metadata": {},
     "output_type": "execute_result"
    }
   ],
   "source": [
    "r2_score(Ytest,y_pred)"
   ]
  },
  {
   "cell_type": "code",
   "execution_count": 29,
   "metadata": {},
   "outputs": [],
   "source": [
    "#Let's tune the decision tree, by set the tree depth, i.e., level of tree, set max_depth 2\n",
    "\n",
    "dt_model=DecisionTreeRegressor(criterion='mse', max_depth=2, max_features=None,\n",
    "                      max_leaf_nodes=None, min_impurity_decrease=0.0,\n",
    "                      min_impurity_split=None, min_samples_leaf=1,\n",
    "                      min_samples_split=2, min_weight_fraction_leaf=0.0,\n",
    "                      presort=False, random_state=None, splitter='best')\n",
    "dt_model.fit(Xtrain, Ytrain)\n",
    "y_pred=dt_model.predict(Xtest)\n",
    "\n",
    "\n"
   ]
  },
  {
   "cell_type": "code",
   "execution_count": 30,
   "metadata": {},
   "outputs": [
    {
     "data": {
      "text/plain": [
       "49653.906258927025"
      ]
     },
     "execution_count": 30,
     "metadata": {},
     "output_type": "execute_result"
    }
   ],
   "source": [
    "#Slightly improve R Square to 0.64 by setting max_depth of DecisionTreeREgressor to 2\n",
    "\n",
    "MSE=mean_squared_error(Ytest,y_pred)\n",
    "math.sqrt(MSE)"
   ]
  },
  {
   "cell_type": "code",
   "execution_count": 31,
   "metadata": {},
   "outputs": [
    {
     "data": {
      "text/plain": [
       "0.6368370135372332"
      ]
     },
     "execution_count": 31,
     "metadata": {},
     "output_type": "execute_result"
    }
   ],
   "source": [
    "r2_score(Ytest,y_pred)"
   ]
  },
  {
   "cell_type": "code",
   "execution_count": 32,
   "metadata": {},
   "outputs": [],
   "source": [
    "#Now set the hyperparameter max_depth of DecisionTreeRegressor to 5\n",
    "\n",
    "dt_model=DecisionTreeRegressor(criterion='mse', max_depth=5, max_features=None,\n",
    "                      max_leaf_nodes=None, min_impurity_decrease=0.0,\n",
    "                      min_impurity_split=None, min_samples_leaf=1,\n",
    "                      min_samples_split=2, min_weight_fraction_leaf=0.0,\n",
    "                      presort=False, random_state=None, splitter='best')\n",
    "dt_model.fit(Xtrain, Ytrain)\n",
    "y_pred=dt_model.predict(Xtest)\n"
   ]
  },
  {
   "cell_type": "code",
   "execution_count": 33,
   "metadata": {},
   "outputs": [
    {
     "data": {
      "text/plain": [
       "35999.177170275"
      ]
     },
     "execution_count": 33,
     "metadata": {},
     "output_type": "execute_result"
    }
   ],
   "source": [
    "#Increase tree depth by set max_depth to 5, improve R Square to 0.77,\n",
    "#increae tree depth can lead to another problem, overfitting\n",
    "#For decision tree, more proper tree depth would be 2\n",
    "\n",
    "MSE=mean_squared_error(Ytest,y_pred)\n",
    "math.sqrt(MSE)"
   ]
  },
  {
   "cell_type": "code",
   "execution_count": 34,
   "metadata": {},
   "outputs": [
    {
     "data": {
      "text/plain": [
       "0.8091114463457022"
      ]
     },
     "execution_count": 34,
     "metadata": {},
     "output_type": "execute_result"
    }
   ],
   "source": [
    "r2_score(Ytest,y_pred)"
   ]
  },
  {
   "cell_type": "code",
   "execution_count": 35,
   "metadata": {},
   "outputs": [
    {
     "name": "stderr",
     "output_type": "stream",
     "text": [
      "/home/bigdata2/anaconda3/envs/spark/lib/python3.6/site-packages/sklearn/ensemble/forest.py:246: FutureWarning: The default value of n_estimators will change from 10 in version 0.20 to 100 in 0.22.\n",
      "  \"10 in version 0.20 to 100 in 0.22.\", FutureWarning)\n"
     ]
    }
   ],
   "source": [
    "from sklearn.ensemble import RandomForestRegressor,GradientBoostingRegressor\n",
    "rf_model=RandomForestRegressor()\n",
    "rf_model.fit(Xtrain, Ytrain)\n",
    "y_pred=rf_model.predict(Xtest)\n",
    "\n",
    "\n"
   ]
  },
  {
   "cell_type": "code",
   "execution_count": 36,
   "metadata": {},
   "outputs": [
    {
     "data": {
      "text/plain": [
       "30476.88658479888"
      ]
     },
     "execution_count": 36,
     "metadata": {},
     "output_type": "execute_result"
    }
   ],
   "source": [
    "#RandomForestRegressor yields better R Square, at 0.85\n",
    "\n",
    "MSE=mean_squared_error(Ytest,y_pred)\n",
    "math.sqrt(MSE)"
   ]
  },
  {
   "cell_type": "code",
   "execution_count": 37,
   "metadata": {},
   "outputs": [
    {
     "data": {
      "text/plain": [
       "0.8631843000569566"
      ]
     },
     "execution_count": 37,
     "metadata": {},
     "output_type": "execute_result"
    }
   ],
   "source": [
    "r2_score(Ytest,y_pred)"
   ]
  },
  {
   "cell_type": "code",
   "execution_count": 38,
   "metadata": {},
   "outputs": [],
   "source": [
    "#Then try GradientBoostingRegressor\n",
    "\n",
    "gb_model=GradientBoostingRegressor()\n",
    "gb_model.fit(Xtrain, Ytrain)\n",
    "y_pred=gb_model.predict(Xtest)\n",
    "\n"
   ]
  },
  {
   "cell_type": "code",
   "execution_count": 39,
   "metadata": {},
   "outputs": [
    {
     "data": {
      "text/plain": [
       "29600.848515368365"
      ]
     },
     "execution_count": 39,
     "metadata": {},
     "output_type": "execute_result"
    }
   ],
   "source": [
    "#GradientBoostingRegressor has also relative good R Square value at 0.85\n",
    "\n",
    "MSE=mean_squared_error(Ytest,y_pred)\n",
    "math.sqrt(MSE)"
   ]
  },
  {
   "cell_type": "code",
   "execution_count": 40,
   "metadata": {},
   "outputs": [
    {
     "data": {
      "text/plain": [
       "0.8709366125367382"
      ]
     },
     "execution_count": 40,
     "metadata": {},
     "output_type": "execute_result"
    }
   ],
   "source": [
    "r2_score(Ytest,y_pred)"
   ]
  },
  {
   "cell_type": "code",
   "execution_count": null,
   "metadata": {},
   "outputs": [],
   "source": []
  }
 ],
 "metadata": {
  "kernelspec": {
   "display_name": "Python 3",
   "language": "python",
   "name": "python3"
  },
  "language_info": {
   "codemirror_mode": {
    "name": "ipython",
    "version": 3
   },
   "file_extension": ".py",
   "mimetype": "text/x-python",
   "name": "python",
   "nbconvert_exporter": "python",
   "pygments_lexer": "ipython3",
   "version": "3.7.4"
  }
 },
 "nbformat": 4,
 "nbformat_minor": 2
}
