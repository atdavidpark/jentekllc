{
 "cells": [
  {
   "cell_type": "code",
   "execution_count": 1,
   "metadata": {},
   "outputs": [
    {
     "data": {
      "text/plain": [
       "Intitializing Scala interpreter ..."
      ]
     },
     "metadata": {},
     "output_type": "display_data"
    },
    {
     "data": {
      "text/plain": [
       "Spark Web UI available at http://bigdata:4041\n",
       "SparkContext available as 'sc' (version = 3.0.0-preview, master = local[*], app id = local-1577255721967)\n",
       "SparkSession available as 'spark'\n"
      ]
     },
     "metadata": {},
     "output_type": "display_data"
    },
    {
     "data": {
      "text/plain": [
       "import org.apache.spark._\r\n",
       "import org.apache.spark.SparkContext._\r\n",
       "import org.apache.spark.streaming._\r\n",
       "import org.apache.spark.streaming.twitter._\r\n",
       "import org.apache.spark.streaming.StreamingContext._\r\n",
       "import org.apache.log4j.{Level, Logger}\r\n"
      ]
     },
     "execution_count": 1,
     "metadata": {},
     "output_type": "execute_result"
    }
   ],
   "source": [
    "import org.apache.spark._\n",
    "import org.apache.spark.SparkContext._\n",
    "import org.apache.spark.streaming._\n",
    "import org.apache.spark.streaming.twitter._\n",
    "import org.apache.spark.streaming.StreamingContext._\n",
    "\n",
    "import org.apache.log4j.{Level, Logger}"
   ]
  },
  {
   "cell_type": "markdown",
   "metadata": {},
   "source": [
    " /** Configures Twitter consumer/access token credential using config.txt in the main workspace directory, the file looks like following (be careful not to add extra\n",
    "space at each end of line):\n",
    "\n",
    "consumerKey <copy and paste your consumer key>\n",
    "consumerSecret <copy and paste your consumer secret>\n",
    "accessToken <copy and paste your access token>\n",
    "accessTokenSecret <copy and paste your token secret>\n",
    "<extra one blank line here>\n",
    "\n",
    "You will need to include external jar files for you to be able to import org.apache.spark.streaming.twitter._\n",
    "they are:\n",
    "\n",
    "dstream-twitter_<your version of Scala>-SNAPSHOT.jar\n",
    "twitter4j-core-4.0.4.jar\n",
    "twitter4j-stream-4.0.4.jar\n",
    "\n",
    "They are downloadable online, you need to search and download\n",
    "\n",
    "*/"
   ]
  },
  {
   "cell_type": "code",
   "execution_count": 2,
   "metadata": {},
   "outputs": [
    {
     "data": {
      "text/plain": [
       "setupTwitterConfig: ()Unit\r\n"
      ]
     },
     "execution_count": 2,
     "metadata": {},
     "output_type": "execute_result"
    }
   ],
   "source": [
    "  def setupTwitterConfig() = {\n",
    "    import scala.io.Source\n",
    "    \n",
    "    for (line <- Source.fromFile(\"D:/eclipse_workspace/spark/src/com/jentekco/spark/config.txt\").getLines) {\n",
    "      val fields = line.split(\" \")\n",
    "      if (fields.length == 2) {\n",
    "        System.setProperty(\"twitter4j.oauth.\" + fields(0), fields(1))\n",
    "      }\n",
    "    }\n",
    "  }"
   ]
  },
  {
   "cell_type": "code",
   "execution_count": 3,
   "metadata": {},
   "outputs": [],
   "source": [
    "Logger.getLogger(\"org\").setLevel(Level.ERROR)"
   ]
  },
  {
   "cell_type": "code",
   "execution_count": 4,
   "metadata": {},
   "outputs": [],
   "source": [
    "\n",
    "setupTwitterConfig()"
   ]
  },
  {
   "cell_type": "code",
   "execution_count": 8,
   "metadata": {},
   "outputs": [
    {
     "data": {
      "text/plain": [
       "ssc: org.apache.spark.streaming.StreamingContext = org.apache.spark.streaming.StreamingContext@57907edc\r\n"
      ]
     },
     "execution_count": 8,
     "metadata": {},
     "output_type": "execute_result"
    }
   ],
   "source": [
    "//val ssc = new StreamingContext(\"local[*]\", \"SearchTwitterTweets\", Seconds(1))\n",
    "spark.stop()\n",
    "val ssc = new StreamingContext(\"local[*]\", \"SearchTwitterTweets\", Seconds(1))"
   ]
  },
  {
   "cell_type": "code",
   "execution_count": 9,
   "metadata": {},
   "outputs": [
    {
     "data": {
      "text/plain": [
       "tweets: org.apache.spark.streaming.dstream.ReceiverInputDStream[twitter4j.Status] = org.apache.spark.streaming.twitter.TwitterInputDStream@23bd68e2\r\n"
      ]
     },
     "execution_count": 9,
     "metadata": {},
     "output_type": "execute_result"
    }
   ],
   "source": [
    "val tweets = TwitterUtils.createStream(ssc, None)"
   ]
  },
  {
   "cell_type": "code",
   "execution_count": 10,
   "metadata": {},
   "outputs": [
    {
     "data": {
      "text/plain": [
       "tweets_collection: org.apache.spark.streaming.dstream.DStream[String] = org.apache.spark.streaming.dstream.MappedDStream@179afa96\r\n"
      ]
     },
     "execution_count": 10,
     "metadata": {},
     "output_type": "execute_result"
    }
   ],
   "source": [
    "// Extract the text\n",
    "val tweets_collection = tweets.map(each_tweet => each_tweet.getText())"
   ]
  },
  {
   "cell_type": "code",
   "execution_count": 11,
   "metadata": {},
   "outputs": [
    {
     "data": {
      "text/plain": [
       "focus_tweets_collection: org.apache.spark.streaming.dstream.DStream[String] = org.apache.spark.streaming.dstream.FilteredDStream@3042ce29\r\n"
      ]
     },
     "execution_count": 11,
     "metadata": {},
     "output_type": "execute_result"
    }
   ],
   "source": [
    "//Set your search criteria to only retain these meet your search condition\n",
    "val focus_tweets_collection=tweets_collection.filter(text=>text.toLowerCase.contains(\"santa\") | text.toLowerCase.contains(\"merry\"))"
   ]
  },
  {
   "cell_type": "code",
   "execution_count": 12,
   "metadata": {},
   "outputs": [],
   "source": [
    "//Display your result\n",
    "focus_tweets_collection.print()"
   ]
  },
  {
   "cell_type": "code",
   "execution_count": null,
   "metadata": {},
   "outputs": [
    {
     "name": "stdout",
     "output_type": "stream",
     "text": [
      "-------------------------------------------\n",
      "Time: 1577256183000 ms\n",
      "-------------------------------------------\n",
      "\n",
      "-------------------------------------------\n",
      "Time: 1577256184000 ms\n",
      "-------------------------------------------\n",
      "\n",
      "-------------------------------------------\n",
      "Time: 1577256185000 ms\n",
      "-------------------------------------------\n",
      "@shaqayeqexoL @exolover0098 @weareoneEXO ???\n",
      "\n",
      "#RealLOEYandBeyond #???ByLOEY\n",
      "#??????????_???\n",
      "#MerryChristmasEXO\n",
      "@weareoneEXO\n",
      "RT @shirakamifubuki: ??Merry Christmas?? https://t.co/FaiWU5y297\n",
      "MERRY CHRISTMAAASSSS????????????????\n",
      "\n",
      "-------------------------------------------"
     ]
    }
   ],
   "source": [
    "ssc.checkpoint(\"d:/checkpoint/\")\n",
    "ssc.start()\n",
    "ssc.awaitTermination()"
   ]
  },
  {
   "cell_type": "code",
   "execution_count": null,
   "metadata": {},
   "outputs": [],
   "source": []
  }
 ],
 "metadata": {
  "kernelspec": {
   "display_name": "spylon-kernel",
   "language": "scala",
   "name": "spylon-kernel"
  },
  "language_info": {
   "codemirror_mode": "text/x-scala",
   "file_extension": ".scala",
   "help_links": [
    {
     "text": "MetaKernel Magics",
     "url": "https://metakernel.readthedocs.io/en/latest/source/README.html"
    }
   ],
   "mimetype": "text/x-scala",
   "name": "scala",
   "pygments_lexer": "scala",
   "version": "0.4.1"
  }
 },
 "nbformat": 4,
 "nbformat_minor": 2
}
