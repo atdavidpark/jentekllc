{
 "cells": [
  {
   "cell_type": "code",
   "execution_count": 1,
   "metadata": {},
   "outputs": [
    {
     "data": {
      "text/plain": [
       "\u001b[32mimport \u001b[39m\u001b[36m$ivy.$                                    \n",
       "\u001b[39m\n",
       "\u001b[32mimport \u001b[39m\u001b[36morg.json4s._\n",
       "\u001b[39m\n",
       "\u001b[32mimport \u001b[39m\u001b[36morg.json4s.jackson.JsonMethods._\n",
       "\u001b[39m\n",
       "\u001b[32mimport \u001b[39m\u001b[36morg.json4s.DefaultFormats\n",
       "\u001b[39m\n",
       "\u001b[32mimport \u001b[39m\u001b[36morg.json4s.jackson.Serialization\n",
       "\u001b[39m\n",
       "\u001b[32mimport \u001b[39m\u001b[36morg.json4s.jackson.Serialization.write\u001b[39m"
      ]
     },
     "execution_count": 1,
     "metadata": {},
     "output_type": "execute_result"
    }
   ],
   "source": [
    "import $ivy.`org.json4s::json4s-jackson:3.7.0-M2`\n",
    "import org.json4s._\n",
    "import org.json4s.jackson.JsonMethods._\n",
    "import org.json4s.DefaultFormats\n",
    "import org.json4s.jackson.Serialization\n",
    "import org.json4s.jackson.Serialization.write"
   ]
  },
  {
   "cell_type": "code",
   "execution_count": 2,
   "metadata": {},
   "outputs": [
    {
     "data": {
      "text/plain": [
       "\u001b[36mformats\u001b[39m: \u001b[32mDefaultFormats\u001b[39m.type = org.json4s.DefaultFormats$@1867fdd8"
      ]
     },
     "execution_count": 2,
     "metadata": {},
     "output_type": "execute_result"
    }
   ],
   "source": [
    "implicit val formats = org.json4s.DefaultFormats"
   ]
  },
  {
   "cell_type": "code",
   "execution_count": 3,
   "metadata": {},
   "outputs": [
    {
     "name": "stdout",
     "output_type": "stream",
     "text": [
      "{\n",
      "    \"visitorId\": \"v1\",\n",
      "    \"products\": [{\n",
      "         \"id\": \"i1\",\n",
      "         \"interest\": 0.68\n",
      "    }, {\n",
      "         \"id\": \"i2\",\n",
      "         \"interest\": 0.42\n",
      "    }]\n",
      "}\n",
      " \n",
      "{\n",
      "    \"visitorId\": \"v2\",\n",
      "    \"products\": [{\n",
      "         \"id\": \"i1\",\n",
      "         \"interest\": 0.78\n",
      "    }, {\n",
      "         \"id\": \"i3\",\n",
      "         \"interest\": 0.11\n",
      "    }]\n",
      "}\n",
      " \n"
     ]
    },
    {
     "data": {
      "text/plain": [
       "\u001b[36mrec1\u001b[39m: \u001b[32mString\u001b[39m = \u001b[32m\"\"\"{\n",
       "    \"visitorId\": \"v1\",\n",
       "    \"products\": [{\n",
       "         \"id\": \"i1\",\n",
       "         \"interest\": 0.68\n",
       "    }, {\n",
       "         \"id\": \"i2\",\n",
       "         \"interest\": 0.42\n",
       "    }]\n",
       "}\"\"\"\u001b[39m\n",
       "\u001b[36mrec2\u001b[39m: \u001b[32mString\u001b[39m = \u001b[32m\"\"\"{\n",
       "    \"visitorId\": \"v2\",\n",
       "    \"products\": [{\n",
       "         \"id\": \"i1\",\n",
       "         \"interest\": 0.78\n",
       "    }, {\n",
       "         \"id\": \"i3\",\n",
       "         \"interest\": 0.11\n",
       "    }]\n",
       "}\"\"\"\u001b[39m\n",
       "\u001b[36mvisitsData\u001b[39m: \u001b[32mSeq\u001b[39m[\u001b[32mString\u001b[39m] = \u001b[33mList\u001b[39m(\n",
       "  \u001b[32m\"\"\"{\n",
       "    \"visitorId\": \"v1\",\n",
       "    \"products\": [{\n",
       "         \"id\": \"i1\",\n",
       "         \"interest\": 0.68\n",
       "    }, {\n",
       "         \"id\": \"i2\",\n",
       "         \"interest\": 0.42\n",
       "    }]\n",
       "}\"\"\"\u001b[39m,\n",
       "  \u001b[32m\"\"\"{\n",
       "    \"visitorId\": \"v2\",\n",
       "    \"products\": [{\n",
       "         \"id\": \"i1\",\n",
       "         \"interest\": 0.78\n",
       "    }, {\n",
       "         \"id\": \"i3\",\n",
       "         \"interest\": 0.11\n",
       "    }]\n",
       "}\"\"\"\u001b[39m\n",
       ")\n",
       "\u001b[36mproductIdToNameMap\u001b[39m: \u001b[32mMap\u001b[39m[\u001b[32mString\u001b[39m, \u001b[32mString\u001b[39m] = \u001b[33mMap\u001b[39m(\n",
       "  \u001b[32m\"i1\"\u001b[39m -> \u001b[32m\"Nike Shoes\"\u001b[39m,\n",
       "  \u001b[32m\"i2\"\u001b[39m -> \u001b[32m\"Umbrella\"\u001b[39m,\n",
       "  \u001b[32m\"i3\"\u001b[39m -> \u001b[32m\"Jeans\"\u001b[39m\n",
       ")"
      ]
     },
     "execution_count": 3,
     "metadata": {},
     "output_type": "execute_result"
    }
   ],
   "source": [
    "      val rec1: String = \"\"\"{\n",
    "    \"visitorId\": \"v1\",\n",
    "    \"products\": [{\n",
    "         \"id\": \"i1\",\n",
    "         \"interest\": 0.68\n",
    "    }, {\n",
    "         \"id\": \"i2\",\n",
    "         \"interest\": 0.42\n",
    "    }]\n",
    "}\"\"\"\n",
    "      \n",
    "      val rec2: String = \"\"\"{\n",
    "    \"visitorId\": \"v2\",\n",
    "    \"products\": [{\n",
    "         \"id\": \"i1\",\n",
    "         \"interest\": 0.78\n",
    "    }, {\n",
    "         \"id\": \"i3\",\n",
    "         \"interest\": 0.11\n",
    "    }]\n",
    "}\"\"\"\n",
    "      \n",
    "      val visitsData: Seq[String] = Seq(rec1, rec2)\n",
    "      for (i<-0 until visitsData.size)\n",
    "      {\n",
    "        println(visitsData(i))\n",
    "        println(\" \")\n",
    "      }\n",
    "\n",
    "      val productIdToNameMap = Map(\"i1\" -> \"Nike Shoes\", \"i2\" -> \"Umbrella\", \"i3\" -> \"Jeans\")\n",
    "  "
   ]
  },
  {
   "cell_type": "code",
   "execution_count": 4,
   "metadata": {},
   "outputs": [
    {
     "data": {
      "text/html": [
       "<div class=\"jp-RenderedText\">\n",
       "<pre><code>defined <span style=\"color: rgb(0, 187, 0)\"><span class=\"ansi-green-fg\">class</span></span> <span style=\"color: rgb(0, 187, 187)\"><span class=\"ansi-cyan-fg\">v_rec</span></span>\n",
       "defined <span style=\"color: rgb(0, 187, 0)\"><span class=\"ansi-green-fg\">class</span></span> <span style=\"color: rgb(0, 187, 187)\"><span class=\"ansi-cyan-fg\">p_rec</span></span>\n",
       "defined <span style=\"color: rgb(0, 187, 0)\"><span class=\"ansi-green-fg\">class</span></span> <span style=\"color: rgb(0, 187, 187)\"><span class=\"ansi-cyan-fg\">v_rec_new</span></span>\n",
       "defined <span style=\"color: rgb(0, 187, 0)\"><span class=\"ansi-green-fg\">class</span></span> <span style=\"color: rgb(0, 187, 187)\"><span class=\"ansi-cyan-fg\">p_rec_new</span></span>\n",
       "<span style=\"color: rgb(0, 187, 187)\"><span class=\"ansi-cyan-fg\">jString</span></span>: <span style=\"color: rgb(0, 187, 0)\"><span class=\"ansi-green-fg\">Array</span></span>[<span style=\"color: rgb(0, 187, 0)\"><span class=\"ansi-green-fg\">String</span></span>] = <style>@keyframes fadein { from { opacity: 0; } to { opacity: 1; } }</style><span style=\"animation: fadein 2s;\"><span style=\"color: yellow\"><span class=\"ansi-yellow-fg\">Array</span></span>()</span>\n",
       "<span style=\"color: rgb(0, 187, 187)\"><span class=\"ansi-cyan-fg\">enrichedJson</span></span>: <span style=\"color: rgb(0, 187, 0)\"><span class=\"ansi-green-fg\">Array</span></span>[<span style=\"color: rgb(0, 187, 0)\"><span class=\"ansi-green-fg\">String</span></span>] = <span style=\"color: yellow\"><span class=\"ansi-yellow-fg\">Array</span></span>(\n",
       "  <span style=\"color: rgb(0, 187, 0)\"><span class=\"ansi-green-fg\">&quot;{\\&quot;visitorId\\&quot;:\\&quot;v1\\&quot;,\\&quot;products\\&quot;:[{\\&quot;id\\&quot;:\\&quot;i1\\&quot;,\\&quot;name\\&quot;:\\&quot;Nike Shoes\\&quot;,\\&quot;interest\\&quot;:0.68},{\\&quot;id\\&quot;:\\&quot;i2\\&quot;,\\&quot;name\\&quot;:\\&quot;Umbrella\\&quot;,\\&quot;interest\\&quot;:0.42}]}&quot;</span></span>,\n",
       "  <span style=\"color: rgb(0, 187, 0)\"><span class=\"ansi-green-fg\">&quot;{\\&quot;visitorId\\&quot;:\\&quot;v2\\&quot;,\\&quot;products\\&quot;:[{\\&quot;id\\&quot;:\\&quot;i1\\&quot;,\\&quot;name\\&quot;:\\&quot;Nike Shoes\\&quot;,\\&quot;interest\\&quot;:0.78},{\\&quot;id\\&quot;:\\&quot;i3\\&quot;,\\&quot;name\\&quot;:\\&quot;Jeans\\&quot;,\\&quot;interest\\&quot;:0.11}]}&quot;</span></span>\n",
       ")</code></pre>\n",
       "</div>"
      ],
      "text/plain": [
       "defined \u001b[32mclass\u001b[39m \u001b[36mv_rec\u001b[39m\n",
       "defined \u001b[32mclass\u001b[39m \u001b[36mp_rec\u001b[39m\n",
       "defined \u001b[32mclass\u001b[39m \u001b[36mv_rec_new\u001b[39m\n",
       "defined \u001b[32mclass\u001b[39m \u001b[36mp_rec_new\u001b[39m\n",
       "\u001b[36mjString\u001b[39m: \u001b[32mArray\u001b[39m[\u001b[32mString\u001b[39m] = \u001b[33mArray\u001b[39m()\n",
       "\u001b[36menrichedJson\u001b[39m: \u001b[32mArray\u001b[39m[\u001b[32mString\u001b[39m] = \u001b[33mArray\u001b[39m(\n",
       "  \u001b[32m\"{\\\"visitorId\\\":\\\"v1\\\",\\\"products\\\":[{\\\"id\\\":\\\"i1\\\",\\\"name\\\":\\\"Nike Shoes\\\",\\\"interest\\\":0.68},{\\\"id\\\":\\\"i2\\\",\\\"name\\\":\\\"Umbrella\\\",\\\"interest\\\":0.42}]}\"\u001b[39m,\n",
       "  \u001b[32m\"{\\\"visitorId\\\":\\\"v2\\\",\\\"products\\\":[{\\\"id\\\":\\\"i1\\\",\\\"name\\\":\\\"Nike Shoes\\\",\\\"interest\\\":0.78},{\\\"id\\\":\\\"i3\\\",\\\"name\\\":\\\"Jeans\\\",\\\"interest\\\":0.11}]}\"\u001b[39m\n",
       ")"
      ]
     },
     "metadata": {},
     "output_type": "display_data"
    }
   ],
   "source": [
    "      case class v_rec(\n",
    "    id: String,\n",
    "    interest: Double\n",
    "    )\n",
    "    case class p_rec(\n",
    "        visitorId: String, products: Array[v_rec]\n",
    "    )\n",
    "    \n",
    " // New case class\n",
    "\n",
    "    case class v_rec_new(\n",
    "        id: String,\n",
    "        name: String,\n",
    "        interest: Double\n",
    "      )\n",
    "    case class p_rec_new(\n",
    "        visitorId: String, products: Array[v_rec_new]\n",
    "      )\n",
    "   \n",
    "   var jString: Array[String]=Array[String]() \n",
    "   var enrichedJson:Array[String]=Array[String]()"
   ]
  },
  {
   "cell_type": "code",
   "execution_count": 5,
   "metadata": {},
   "outputs": [],
   "source": [
    "   for (js<-visitsData)\n",
    "    {\n",
    "      var jObj=parse(js)\n",
    "      var eJ=jObj.extract[p_rec]\n",
    "      \n",
    "      var jStringJ=parse(rec1)\n",
    "      for (i<-0 until eJ.products.size)\n",
    "       {\n",
    "           var prodName:String=\"Invalid Product\"\n",
    "           //if there is no such product, show Invalid Product\n",
    "           if (productIdToNameMap contains (eJ.products(i).id.toString))                \n",
    "               prodName=productIdToNameMap(eJ.products(i).id.toString)\n",
    "           var newRec=p_rec_new(\n",
    "           visitorId=eJ.visitorId,\n",
    "           products=Array(v_rec_new(\n",
    "           eJ.products(i).id.toString,\n",
    "           prodName,\n",
    "           eJ.products(i).interest         \n",
    "           )\n",
    "           )\n",
    "           )   \n",
    "           \n",
    "//           println(newRec.visitorId, newRec.products(0).name)\n",
    "           //Now Json Serilizing it\n",
    " \n",
    "           val newRecStr = write(newRec)\n",
    "//           println(newRecStr)\n",
    "           jString:+=newRecStr\n",
    "       }\n",
    "//      println(jString.size)\n",
    "      \n",
    "//      var jStringJ:Array[JObject]=Array[JObject]()\n",
    "\n",
    "      for (x<-0 until jString.size)\n",
    "      {   \n",
    "          if (x==0)\n",
    "            jStringJ=parse(jString(x))\n",
    "          else\n",
    "          {\n",
    "            jStringJ=jStringJ merge parse(jString(x))\n",
    "          }\n",
    " \n",
    "      }\n",
    "\n",
    "//      println(\"test\",jStringJ)\n",
    "      enrichedJson:+=write(jStringJ)        \n",
    "      jString=Array[String]()\n",
    "      \n",
    "      \n",
    "    }  "
   ]
  },
  {
   "cell_type": "code",
   "execution_count": 6,
   "metadata": {},
   "outputs": [
    {
     "name": "stdout",
     "output_type": "stream",
     "text": [
      "{\"visitorId\":\"v1\",\"products\":[{\"id\":\"i1\",\"name\":\"Nike Shoes\",\"interest\":0.68},{\"id\":\"i2\",\"name\":\"Umbrella\",\"interest\":0.42}]}\n",
      "{\"visitorId\":\"v2\",\"products\":[{\"id\":\"i1\",\"name\":\"Nike Shoes\",\"interest\":0.78},{\"id\":\"i3\",\"name\":\"Jeans\",\"interest\":0.11}]}\n"
     ]
    }
   ],
   "source": [
    "    for (i<-enrichedJson)\n",
    "        println(i)"
   ]
  },
  {
   "cell_type": "code",
   "execution_count": null,
   "metadata": {},
   "outputs": [],
   "source": []
  }
 ],
 "metadata": {
  "kernelspec": {
   "display_name": "Scala",
   "language": "scala",
   "name": "scala"
  },
  "language_info": {
   "codemirror_mode": "text/x-scala",
   "file_extension": ".scala",
   "mimetype": "text/x-scala",
   "name": "scala",
   "nbconvert_exporter": "script",
   "version": "2.12.10"
  }
 },
 "nbformat": 4,
 "nbformat_minor": 2
}
