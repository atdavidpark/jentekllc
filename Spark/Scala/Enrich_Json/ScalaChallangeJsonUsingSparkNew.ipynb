{
 "cells": [
  {
   "cell_type": "code",
   "execution_count": 109,
   "metadata": {},
   "outputs": [
    {
     "data": {
      "text/plain": [
       "import org.apache.spark._\n",
       "import org.apache.spark.SparkContext._\n",
       "import org.apache.spark.rdd._\n",
       "import org.apache.spark.util.LongAccumulator\n",
       "import org.apache.log4j._\n",
       "import scala.collection.mutable.ArrayBuffer\n",
       "import org.apache.spark.sql._\n",
       "import org.apache.spark.sql.functions._\n"
      ]
     },
     "execution_count": 109,
     "metadata": {},
     "output_type": "execute_result"
    }
   ],
   "source": [
    "//import org.json4s._\n",
    "//import org.json4s.jackson.JsonMethods._\n",
    "//import org.json4s.DefaultFormats\n",
    "//implicit val formats = org.json4s.DefaultFormats\n",
    "\n",
    "import org.apache.spark._\n",
    "import org.apache.spark.SparkContext._\n",
    "import org.apache.spark.rdd._\n",
    "import org.apache.spark.util.LongAccumulator\n",
    "import org.apache.log4j._\n",
    "import scala.collection.mutable.ArrayBuffer\n",
    "import org.apache.spark.sql._\n",
    "import org.apache.spark.sql.functions._\n"
   ]
  },
  {
   "cell_type": "code",
   "execution_count": 110,
   "metadata": {},
   "outputs": [
    {
     "data": {
      "text/plain": [
       "rec1: String =\n",
       "{\n",
       "    \"visitorId\": \"v1\",\n",
       "    \"products\": [{\n",
       "         \"id\": \"i1\",\n",
       "         \"interest\": 0.68\n",
       "    }, {\n",
       "         \"id\": \"i2\",\n",
       "         \"interest\": 0.42\n",
       "    }]\n",
       "}\n"
      ]
     },
     "execution_count": 110,
     "metadata": {},
     "output_type": "execute_result"
    }
   ],
   "source": [
    "val rec1: String = \"\"\"{\n",
    "    \"visitorId\": \"v1\",\n",
    "    \"products\": [{\n",
    "         \"id\": \"i1\",\n",
    "         \"interest\": 0.68\n",
    "    }, {\n",
    "         \"id\": \"i2\",\n",
    "         \"interest\": 0.42\n",
    "    }]\n",
    "}\"\"\""
   ]
  },
  {
   "cell_type": "code",
   "execution_count": 111,
   "metadata": {},
   "outputs": [
    {
     "data": {
      "text/plain": [
       "rec2: String =\n",
       "{\n",
       "    \"visitorId\": \"v2\",\n",
       "    \"products\": [{\n",
       "         \"id\": \"i1\",\n",
       "         \"interest\": 0.78\n",
       "    }, {\n",
       "         \"id\": \"i3\",\n",
       "         \"interest\": 0.11\n",
       "    }]\n",
       "}\n"
      ]
     },
     "execution_count": 111,
     "metadata": {},
     "output_type": "execute_result"
    }
   ],
   "source": [
    "val rec2: String = \"\"\"{\n",
    "    \"visitorId\": \"v2\",\n",
    "    \"products\": [{\n",
    "         \"id\": \"i1\",\n",
    "         \"interest\": 0.78\n",
    "    }, {\n",
    "         \"id\": \"i3\",\n",
    "         \"interest\": 0.11\n",
    "    }]\n",
    "}\"\"\""
   ]
  },
  {
   "cell_type": "code",
   "execution_count": 112,
   "metadata": {},
   "outputs": [
    {
     "data": {
      "text/plain": [
       "visitsData: Seq[String] =\n",
       "List({\n",
       "    \"visitorId\": \"v1\",\n",
       "    \"products\": [{\n",
       "         \"id\": \"i1\",\n",
       "         \"interest\": 0.68\n",
       "    }, {\n",
       "         \"id\": \"i2\",\n",
       "         \"interest\": 0.42\n",
       "    }]\n",
       "}, {\n",
       "    \"visitorId\": \"v2\",\n",
       "    \"products\": [{\n",
       "         \"id\": \"i1\",\n",
       "         \"interest\": 0.78\n",
       "    }, {\n",
       "         \"id\": \"i3\",\n",
       "         \"interest\": 0.11\n",
       "    }]\n",
       "})\n"
      ]
     },
     "execution_count": 112,
     "metadata": {},
     "output_type": "execute_result"
    }
   ],
   "source": [
    "val visitsData: Seq[String] = Seq(rec1, rec2)"
   ]
  },
  {
   "cell_type": "code",
   "execution_count": 113,
   "metadata": {},
   "outputs": [
    {
     "data": {
      "text/plain": [
       "productIdToNameMap: scala.collection.immutable.Map[String,String] = Map(i1 -> Nike Shoes, i2 -> Umbrella, i3 -> Jeans)\n"
      ]
     },
     "execution_count": 113,
     "metadata": {},
     "output_type": "execute_result"
    }
   ],
   "source": [
    "val productIdToNameMap = Map(\"i1\" -> \"Nike Shoes\", \"i2\" -> \"Umbrella\", \"i3\" -> \"Jeans\")"
   ]
  },
  {
   "cell_type": "code",
   "execution_count": 114,
   "metadata": {},
   "outputs": [],
   "source": [
    "/*\n",
    "Now solution starts\n",
    "\n",
    "*/"
   ]
  },
  {
   "cell_type": "code",
   "execution_count": 115,
   "metadata": {},
   "outputs": [
    {
     "data": {
      "text/plain": [
       "import spark.implicits._\n"
      ]
     },
     "execution_count": 115,
     "metadata": {},
     "output_type": "execute_result"
    }
   ],
   "source": [
    "import spark.implicits._"
   ]
  },
  {
   "cell_type": "code",
   "execution_count": 116,
   "metadata": {},
   "outputs": [
    {
     "data": {
      "text/plain": [
       "import spark.sql\n"
      ]
     },
     "execution_count": 116,
     "metadata": {},
     "output_type": "execute_result"
    }
   ],
   "source": [
    "import spark.sql"
   ]
  },
  {
   "cell_type": "code",
   "execution_count": 117,
   "metadata": {},
   "outputs": [],
   "source": [
    "productIdToNameMap.toSeq.toDF(\"id\",\"name\").createOrReplaceTempView(\"prodRec\")"
   ]
  },
  {
   "cell_type": "code",
   "execution_count": 118,
   "metadata": {},
   "outputs": [],
   "source": [
    "//sql(\"select * from prodRec\" ).show(false)"
   ]
  },
  {
   "cell_type": "code",
   "execution_count": 119,
   "metadata": {},
   "outputs": [
    {
     "name": "stdout",
     "output_type": "stream",
     "text": [
      "Original Json String is: \n",
      "\n",
      "{\n",
      "    \"visitorId\": \"v1\",\n",
      "    \"products\": [{\n",
      "         \"id\": \"i1\",\n",
      "         \"interest\": 0.68\n",
      "    }, {\n",
      "         \"id\": \"i2\",\n",
      "         \"interest\": 0.42\n",
      "    }]\n",
      "}\n",
      "\n",
      "\n",
      "Enriched Json String is:\n",
      "\n",
      "{\"visitorId\":\"v1\",\"products\":[{\"name\":\"Jeans\"},{\"id\":\"i1\",\"name\":\"Nike Shoes\",\"interest\":0.68},{\"id\":\"i2\",\"name\":\"Umbrella\",\"interest\":0.42}]}\n",
      " \n",
      " \n",
      "Original Json String is: \n",
      "\n",
      "{\n",
      "    \"visitorId\": \"v2\",\n",
      "    \"products\": [{\n",
      "         \"id\": \"i1\",\n",
      "         \"interest\": 0.78\n",
      "    }, {\n",
      "         \"id\": \"i3\",\n",
      "         \"interest\": 0.11\n",
      "    }]\n",
      "}\n",
      "\n",
      "\n",
      "Enriched Json String is:\n",
      "\n",
      "{\"visitorId\":\"v2\",\"products\":[{\"id\":\"i3\",\"name\":\"Jeans\",\"interest\":0.11},{\"id\":\"i1\",\"name\":\"Nike Shoes\",\"interest\":0.78},{\"name\":\"Umbrella\"}]}\n",
      " \n",
      " \n"
     ]
    }
   ],
   "source": [
    "for (i<-visitsData)\n",
    "    {\n",
    "//      println(rec)\n",
    "    println(\"Original Json String is: \\n\")\n",
    "    println(i)\n",
    "    println(\"\\n\")\n",
    "    var rec=spark.read.json(Seq(i).toDS) \n",
    "    rec.createOrReplaceTempView(\"dfVisitsTable\")\n",
    "//    sql(\"select * from dfVisitsTable\").show()\n",
    "    val productsArr=sql (\"SELECT products FROM dfVisitsTable\").withColumn(\"products\", explode($\"products\")).select(\"products.*\")\n",
    "//    productsArr.show(false)\n",
    "    productsArr.createOrReplaceTempView(\"productsArr\")\n",
    "\n",
    "//  Need to do outer join in case the product id in the record is not valid, if product id not found in the MAP,\n",
    "//  return invalid product\n",
    "    val enrichedProducts=sql(\"select a.id, if (b.name is not null, b.name, 'invalid product') name, a.interest from productsArr a full outer join prodRec b on a.id=b.id\")\n",
    "//    enrichedProducts.show(false)\n",
    "    val enrichedRecord=rec.select(\"VisitorId\").join(enrichedProducts)\n",
    "//    enrichedRecord.show(false)\n",
    "    enrichedRecord.createOrReplaceTempView(\"enrichedRec\")\n",
    "//    sql(\"select visitorId, collect_list(struct(id, name, interest)) products from enrichedRec group by visitorId\").show(false)\n",
    "    val enrichedJson=sql(\"select visitorId, collect_list(struct(id, name, interest)) products from enrichedRec group by visitorId\").toJSON\n",
    "    .collect.mkString(\"\",\",\",\"\")\n",
    "    println(\"Enriched Json String is:\\n\")\n",
    "    println(enrichedJson)\n",
    "    println(\" \")\n",
    "    println(\" \")\n",
    "    }"
   ]
  },
  {
   "cell_type": "code",
   "execution_count": null,
   "metadata": {},
   "outputs": [],
   "source": []
  }
 ],
 "metadata": {
  "kernelspec": {
   "display_name": "spylon-kernel",
   "language": "scala",
   "name": "spylon-kernel"
  },
  "language_info": {
   "codemirror_mode": "text/x-scala",
   "file_extension": ".scala",
   "help_links": [
    {
     "text": "MetaKernel Magics",
     "url": "https://metakernel.readthedocs.io/en/latest/source/README.html"
    }
   ],
   "mimetype": "text/x-scala",
   "name": "scala",
   "pygments_lexer": "scala",
   "version": "0.4.1"
  }
 },
 "nbformat": 4,
 "nbformat_minor": 2
}
