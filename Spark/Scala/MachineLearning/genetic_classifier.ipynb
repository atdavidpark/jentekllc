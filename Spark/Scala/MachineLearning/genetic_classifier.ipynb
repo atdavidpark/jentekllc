{
 "cells": [
  {
   "cell_type": "code",
   "execution_count": 1,
   "metadata": {},
   "outputs": [
    {
     "data": {
      "text/plain": [
       "Intitializing Scala interpreter ..."
      ]
     },
     "metadata": {},
     "output_type": "display_data"
    },
    {
     "data": {
      "text/plain": [
       "Spark Web UI available at http://master.hadoop.lan:4040\n",
       "SparkContext available as 'sc' (version = 3.0.0-preview, master = local[*], app id = local-1590642609971)\n",
       "SparkSession available as 'spark'\n"
      ]
     },
     "metadata": {},
     "output_type": "display_data"
    },
    {
     "data": {
      "text/plain": [
       "import org.apache.spark._\n",
       "import org.apache.spark.SparkContext._\n",
       "import org.apache.spark.rdd._\n",
       "import org.apache.spark.util.LongAccumulator\n",
       "import org.apache.log4j._\n",
       "import scala.collection.mutable.ArrayBuffer\n",
       "import org.apache.spark.sql._\n"
      ]
     },
     "execution_count": 1,
     "metadata": {},
     "output_type": "execute_result"
    }
   ],
   "source": [
    "//George Jen, Jen Tek LLC\n",
    "import org.apache.spark._\n",
    "import org.apache.spark.SparkContext._\n",
    "import org.apache.spark.rdd._\n",
    "import org.apache.spark.util.LongAccumulator\n",
    "import org.apache.log4j._\n",
    "import scala.collection.mutable.ArrayBuffer\n",
    "import org.apache.spark.sql._"
   ]
  },
  {
   "cell_type": "code",
   "execution_count": 2,
   "metadata": {},
   "outputs": [
    {
     "data": {
      "text/plain": [
       "spark: org.apache.spark.sql.SparkSession = org.apache.spark.sql.SparkSession@494cfca0\n"
      ]
     },
     "execution_count": 2,
     "metadata": {},
     "output_type": "execute_result"
    }
   ],
   "source": [
    "Logger.getLogger(\"org\").setLevel(Level.ERROR)\n",
    "val spark = SparkSession\n",
    "    .builder\n",
    "    .appName(\"genetic classifier\")\n",
    "    .master(\"local[*]\")\n",
    "    .config(\"spark.sql.warehouse.dir\", \"file:///tmp\")\n",
    "    .getOrCreate()"
   ]
  },
  {
   "cell_type": "code",
   "execution_count": 5,
   "metadata": {},
   "outputs": [
    {
     "name": "stdout",
     "output_type": "stream",
     "text": [
      "+-----+-------+---+---+------+-------+------+--------------------+------------+--------------------+---------+--------------------+----------+--------------------+--------------------+--------------------+------+---+-----+------+----------------+--------+-------+------------+--------------+--------------+----+------+-------------+------------+----------------+-----------+-------+--------+------+--------+--------------------+-----------------+----------+---------+------------+------------------+-------+----------+---------+--------+\n",
      "|CHROM|    POS|REF|ALT|AF_ESP|AF_EXAC|AF_TGP|            CLNDISDB|CLNDISDBINCL|               CLNDN|CLNDNINCL|             CLNHGVS|CLNSIGINCL|               CLNVC|               CLNVI|                  MC|ORIGIN|SSR|CLASS|Allele|     Consequence|  IMPACT| SYMBOL|Feature_type|       Feature|       BIOTYPE|EXON|INTRON|cDNA_position|CDS_position|Protein_position|Amino_acids| Codons|DISTANCE|STRAND|BAM_EDIT|                SIFT|         PolyPhen|MOTIF_NAME|MOTIF_POS|HIGH_INF_POS|MOTIF_SCORE_CHANGE|LoFtool|CADD_PHRED| CADD_RAW|BLOSUM62|\n",
      "+-----+-------+---+---+------+-------+------+--------------------+------------+--------------------+---------+--------------------+----------+--------------------+--------------------+--------------------+------+---+-----+------+----------------+--------+-------+------------+--------------+--------------+----+------+-------------+------------+----------------+-----------+-------+--------+------+--------+--------------------+-----------------+----------+---------+------------+------------------+-------+----------+---------+--------+\n",
      "|    1|1168180|  G|  C|0.0771| 0.1002|0.1066|     MedGen:CN169374|         nan|       not_specified|      nan|NC_000001.10:g.11...|       nan|single_nucleotide...|UniProtKB_(protei...|SO:0001583|missen...|     1|nan|    0|     C|missense_variant|MODERATE|B3GALT6|  Transcript|   NM_080605.3|protein_coding| 1/1|  null|          552|         522|             174|        E/D|gaG/gaC|    null|     1|    null|           tolerated|           benign|      null|     null|        null|              null|   null|     1.053|-0.208682|       2|\n",
      "|    1|1470752|  G|  A|   0.0|    0.0|   0.0|MedGen:C1843891,O...|         nan|Spinocerebellar_a...|      nan|NC_000001.10:g.14...|       nan|single_nucleotide...|OMIM_Allelic_Vari...|SO:0001583|missen...|     1|nan|    0|     A|missense_variant|MODERATE|TMEM240|  Transcript|NM_001114748.1|protein_coding| 4/4|  null|          523|         509|             170|        P/L|cCg/cTg|    null|    -1|      OK|deleterious_low_c...|           benign|      null|     null|        null|              null|   null|      31.0| 6.517838|      -3|\n",
      "|    1|1737942|  A|  G|   0.0| 1.0E-5|   0.0|Human_Phenotype_O...|         nan|Strabismus|Nystag...|      nan|NC_000001.10:g.17...|       nan|single_nucleotide...|OMIM_Allelic_Vari...|SO:0001583|missen...|    35|nan|    1|     G|missense_variant|MODERATE|   GNB1|  Transcript|   NM_002074.4|protein_coding|6/12|  null|          632|         239|              80|        I/T|aTc/aCc|    null|    -1|      OK|         deleterious|probably_damaging|      null|     null|        null|              null|   null|      28.1| 6.061752|      -1|\n",
      "+-----+-------+---+---+------+-------+------+--------------------+------------+--------------------+---------+--------------------+----------+--------------------+--------------------+--------------------+------+---+-----+------+----------------+--------+-------+------------+--------------+--------------+----+------+-------------+------------+----------------+-----------+-------+--------+------+--------+--------------------+-----------------+----------+---------+------------+------------------+-------+----------+---------+--------+\n",
      "only showing top 3 rows\n",
      "\n"
     ]
    },
    {
     "data": {
      "text/plain": [
       "ds: org.apache.spark.sql.DataFrame = [CHROM: string, POS: int ... 44 more fields]\n",
       "df: org.apache.spark.sql.DataFrame = [CHROM: string, POS: int ... 44 more fields]\n"
      ]
     },
     "execution_count": 5,
     "metadata": {},
     "output_type": "execute_result"
    }
   ],
   "source": [
    "val ds = spark.read.format(\"csv\").option(\"inferSchema\", \"true\").option(\"header\", \"true\")\n",
    "  .option(\"quote\", \"\\\"\")\n",
    "    .load(\"file:///home/bigdata2/dataset/clinvar_conflicting.csv\")\n",
    "val df: DataFrame = ds.toDF()\n",
    "df.show(3)"
   ]
  },
  {
   "cell_type": "code",
   "execution_count": 6,
   "metadata": {},
   "outputs": [
    {
     "name": "stdout",
     "output_type": "stream",
     "text": [
      "+-----+-----+\n",
      "|CLASS|count|\n",
      "+-----+-----+\n",
      "|    1|16434|\n",
      "|    0|48754|\n",
      "+-----+-----+\n",
      "\n"
     ]
    }
   ],
   "source": [
    "df.groupBy(\"CLASS\").count().show()"
   ]
  },
  {
   "cell_type": "code",
   "execution_count": 7,
   "metadata": {},
   "outputs": [
    {
     "name": "stdout",
     "output_type": "stream",
     "text": [
      "root\n",
      " |-- CHROM: string (nullable = true)\n",
      " |-- POS: integer (nullable = true)\n",
      " |-- REF: string (nullable = true)\n",
      " |-- ALT: string (nullable = true)\n",
      " |-- AF_ESP: double (nullable = true)\n",
      " |-- AF_EXAC: double (nullable = true)\n",
      " |-- AF_TGP: double (nullable = true)\n",
      " |-- CLNDISDB: string (nullable = true)\n",
      " |-- CLNDISDBINCL: string (nullable = true)\n",
      " |-- CLNDN: string (nullable = true)\n",
      " |-- CLNDNINCL: string (nullable = true)\n",
      " |-- CLNHGVS: string (nullable = true)\n",
      " |-- CLNSIGINCL: string (nullable = true)\n",
      " |-- CLNVC: string (nullable = true)\n",
      " |-- CLNVI: string (nullable = true)\n",
      " |-- MC: string (nullable = true)\n",
      " |-- ORIGIN: integer (nullable = true)\n",
      " |-- SSR: string (nullable = true)\n",
      " |-- CLASS: integer (nullable = true)\n",
      " |-- Allele: string (nullable = true)\n",
      " |-- Consequence: string (nullable = true)\n",
      " |-- IMPACT: string (nullable = true)\n",
      " |-- SYMBOL: string (nullable = true)\n",
      " |-- Feature_type: string (nullable = true)\n",
      " |-- Feature: string (nullable = true)\n",
      " |-- BIOTYPE: string (nullable = true)\n",
      " |-- EXON: string (nullable = true)\n",
      " |-- INTRON: string (nullable = true)\n",
      " |-- cDNA_position: string (nullable = true)\n",
      " |-- CDS_position: string (nullable = true)\n",
      " |-- Protein_position: string (nullable = true)\n",
      " |-- Amino_acids: string (nullable = true)\n",
      " |-- Codons: string (nullable = true)\n",
      " |-- DISTANCE: integer (nullable = true)\n",
      " |-- STRAND: integer (nullable = true)\n",
      " |-- BAM_EDIT: string (nullable = true)\n",
      " |-- SIFT: string (nullable = true)\n",
      " |-- PolyPhen: string (nullable = true)\n",
      " |-- MOTIF_NAME: string (nullable = true)\n",
      " |-- MOTIF_POS: integer (nullable = true)\n",
      " |-- HIGH_INF_POS: string (nullable = true)\n",
      " |-- MOTIF_SCORE_CHANGE: double (nullable = true)\n",
      " |-- LoFtool: double (nullable = true)\n",
      " |-- CADD_PHRED: double (nullable = true)\n",
      " |-- CADD_RAW: double (nullable = true)\n",
      " |-- BLOSUM62: integer (nullable = true)\n",
      "\n"
     ]
    }
   ],
   "source": [
    "df.printSchema"
   ]
  },
  {
   "cell_type": "code",
   "execution_count": 10,
   "metadata": {},
   "outputs": [
    {
     "data": {
      "text/plain": [
       "res7: Int = 46\n"
      ]
     },
     "execution_count": 10,
     "metadata": {},
     "output_type": "execute_result"
    }
   ],
   "source": [
    "df.columns.size"
   ]
  },
  {
   "cell_type": "code",
   "execution_count": 11,
   "metadata": {},
   "outputs": [],
   "source": [
    "//isAllDigits(df.select(df.columns(0)).collectAsList.get(0)(0).toString)"
   ]
  },
  {
   "cell_type": "code",
   "execution_count": 12,
   "metadata": {},
   "outputs": [],
   "source": [
    "//def isNumeric(str:String): Boolean = str.matches(\"[-+]?\\\\d+(\\\\.\\\\d+)?\")"
   ]
  },
  {
   "cell_type": "code",
   "execution_count": 13,
   "metadata": {},
   "outputs": [
    {
     "data": {
      "text/plain": [
       "import org.apache.spark.ml.feature.StringIndexer\n"
      ]
     },
     "execution_count": 13,
     "metadata": {},
     "output_type": "execute_result"
    }
   ],
   "source": [
    "import org.apache.spark.ml.feature.StringIndexer"
   ]
  },
  {
   "cell_type": "code",
   "execution_count": 14,
   "metadata": {},
   "outputs": [
    {
     "data": {
      "text/plain": [
       "res10: Array[(String, String)] = Array((CHROM,StringType), (POS,IntegerType), (REF,StringType), (ALT,StringType), (AF_ESP,DoubleType), (AF_EXAC,DoubleType), (AF_TGP,DoubleType), (CLNDISDB,StringType), (CLNDISDBINCL,StringType), (CLNDN,StringType), (CLNDNINCL,StringType), (CLNHGVS,StringType), (CLNSIGINCL,StringType), (CLNVC,StringType), (CLNVI,StringType), (MC,StringType), (ORIGIN,IntegerType), (SSR,StringType), (CLASS,IntegerType), (Allele,StringType), (Consequence,StringType), (IMPACT,StringType), (SYMBOL,StringType), (Feature_type,StringType), (Feature,StringType), (BIOTYPE,StringType), (EXON,StringType), (INTRON,StringType), (cDNA_position,StringType), (CDS_position,StringType), (Protein_position,StringType), (Amino_acids,StringType), (Codons,StringType), (DISTANCE,IntegerType), (ST...\n"
      ]
     },
     "execution_count": 14,
     "metadata": {},
     "output_type": "execute_result"
    }
   ],
   "source": [
    "df.dtypes"
   ]
  },
  {
   "cell_type": "code",
   "execution_count": 15,
   "metadata": {},
   "outputs": [
    {
     "data": {
      "text/plain": [
       "df1: org.apache.spark.sql.DataFrame = [id: bigint, CLASS: int ... 45 more fields]\n",
       "featureDF: org.apache.spark.sql.DataFrame = [CHROM: string, POS: int ... 43 more fields]\n",
       "typeArray: Array[(String, String)] = Array((CHROM,StringType), (POS,IntegerType), (REF,StringType), (ALT,StringType), (AF_ESP,DoubleType), (AF_EXAC,DoubleType), (AF_TGP,DoubleType), (CLNDISDB,StringType), (CLNDISDBINCL,StringType), (CLNDN,StringType), (CLNDNINCL,StringType), (CLNHGVS,StringType), (CLNSIGINCL,StringType), (CLNVC,StringType), (CLNVI,StringType), (MC,StringType), (ORIGIN,IntegerType), (SSR,StringType), (Allele,StringType), (Consequence,StringType), (IMPACT,StringType), (SYMBOL,StringType), (Feature_type,StringType), (Feature,StringType), (BIOTYPE,StringType), (EXON,StringType), (INTRON,StringType), (cDNA_...\n"
      ]
     },
     "execution_count": 15,
     "metadata": {},
     "output_type": "execute_result"
    }
   ],
   "source": [
    "var df1=df.select(\"CLASS\")\n",
    "val featureDF=df.drop(\"CLASS\")\n",
    "val typeArray=featureDF.dtypes\n",
    "for (i<-0 until featureDF.columns.size)\n",
    "  {\n",
    "    \n",
    "//    println(typeArray(i)._2)\n",
    "    if (typeArray(i)._2==\"StringType\")\n",
    "      {\n",
    "          var indexer = new StringIndexer().setInputCol(typeArray(i)._1).setOutputCol(typeArray(i)._1+\"Index\")\n",
    "          var indexed = indexer.fit(featureDF.na.fill(\"ABCD\").select(typeArray(i)._1)).transform(featureDF.na.fill(\"ABCD\").select(typeArray(i)._1)) \n",
    "//          indexed.show(5)\n",
    "          var temp=indexed.select(typeArray(i)._1+\"index\")\n",
    "          df1=df1.withColumn(\"id\", monotonically_increasing_id())\n",
    "          .join(temp.withColumn(\"id\", monotonically_increasing_id()), Seq(\"id\"))\n",
    "//          df1.show(5) \n",
    "      }\n",
    "      else\n",
    "      {\n",
    "//          println(typeArray(i)._1) \n",
    "//          println(typeArray(i)._1.getClass)\n",
    "          var temp=featureDF.na.fill(0).select(typeArray(i)._1)\n",
    "          df1=df1.withColumn(\"id\", monotonically_increasing_id()).join(temp.withColumn(\"id\", monotonically_increasing_id()), Seq(\"id\"))\n",
    "//          df1.show(5)\n",
    "      }\n",
    "      \n",
    "  }"
   ]
  },
  {
   "cell_type": "code",
   "execution_count": 16,
   "metadata": {},
   "outputs": [
    {
     "data": {
      "text/plain": [
       "df1: org.apache.spark.sql.DataFrame = [CLASS: int, CHROMindex: double ... 44 more fields]\n"
      ]
     },
     "execution_count": 16,
     "metadata": {},
     "output_type": "execute_result"
    }
   ],
   "source": [
    "df1=df1.drop(\"id\")"
   ]
  },
  {
   "cell_type": "code",
   "execution_count": 17,
   "metadata": {},
   "outputs": [
    {
     "name": "stdout",
     "output_type": "stream",
     "text": [
      "root\n",
      " |-- CLASS: integer (nullable = true)\n",
      " |-- CHROMindex: double (nullable = false)\n",
      " |-- POS: integer (nullable = false)\n",
      " |-- REFindex: double (nullable = false)\n",
      " |-- ALTindex: double (nullable = false)\n",
      " |-- AF_ESP: double (nullable = false)\n",
      " |-- AF_EXAC: double (nullable = false)\n",
      " |-- AF_TGP: double (nullable = false)\n",
      " |-- CLNDISDBindex: double (nullable = false)\n",
      " |-- CLNDISDBINCLindex: double (nullable = false)\n",
      " |-- CLNDNindex: double (nullable = false)\n",
      " |-- CLNDNINCLindex: double (nullable = false)\n",
      " |-- CLNHGVSindex: double (nullable = false)\n",
      " |-- CLNSIGINCLindex: double (nullable = false)\n",
      " |-- CLNVCindex: double (nullable = false)\n",
      " |-- CLNVIindex: double (nullable = false)\n",
      " |-- MCindex: double (nullable = false)\n",
      " |-- ORIGIN: integer (nullable = false)\n",
      " |-- SSRindex: double (nullable = false)\n",
      " |-- Alleleindex: double (nullable = false)\n",
      " |-- Consequenceindex: double (nullable = false)\n",
      " |-- IMPACTindex: double (nullable = false)\n",
      " |-- SYMBOLindex: double (nullable = false)\n",
      " |-- Feature_typeindex: double (nullable = false)\n",
      " |-- Featureindex: double (nullable = false)\n",
      " |-- BIOTYPEindex: double (nullable = false)\n",
      " |-- EXONindex: double (nullable = false)\n",
      " |-- INTRONindex: double (nullable = false)\n",
      " |-- cDNA_positionindex: double (nullable = false)\n",
      " |-- CDS_positionindex: double (nullable = false)\n",
      " |-- Protein_positionindex: double (nullable = false)\n",
      " |-- Amino_acidsindex: double (nullable = false)\n",
      " |-- Codonsindex: double (nullable = false)\n",
      " |-- DISTANCE: integer (nullable = false)\n",
      " |-- STRAND: integer (nullable = false)\n",
      " |-- BAM_EDITindex: double (nullable = false)\n",
      " |-- SIFTindex: double (nullable = false)\n",
      " |-- PolyPhenindex: double (nullable = false)\n",
      " |-- MOTIF_NAMEindex: double (nullable = false)\n",
      " |-- MOTIF_POS: integer (nullable = false)\n",
      " |-- HIGH_INF_POSindex: double (nullable = false)\n",
      " |-- MOTIF_SCORE_CHANGE: double (nullable = false)\n",
      " |-- LoFtool: double (nullable = false)\n",
      " |-- CADD_PHRED: double (nullable = false)\n",
      " |-- CADD_RAW: double (nullable = false)\n",
      " |-- BLOSUM62: integer (nullable = false)\n",
      "\n"
     ]
    }
   ],
   "source": [
    "df1.printSchema"
   ]
  },
  {
   "cell_type": "code",
   "execution_count": 18,
   "metadata": {},
   "outputs": [
    {
     "data": {
      "text/plain": [
       "import org.apache.spark.sql.types._\n",
       "newDf: org.apache.spark.sql.DataFrame = [CLASS: double, CHROMindex: double ... 44 more fields]\n"
      ]
     },
     "execution_count": 18,
     "metadata": {},
     "output_type": "execute_result"
    }
   ],
   "source": [
    "import org.apache.spark.sql.types._\n",
    "val newDf = df1.select(df1.columns.map(c => col(c).cast(DoubleType)) : _*)\n",
    "\n",
    "\n"
   ]
  },
  {
   "cell_type": "code",
   "execution_count": 19,
   "metadata": {},
   "outputs": [
    {
     "name": "stdout",
     "output_type": "stream",
     "text": [
      "root\n",
      " |-- CLASS: double (nullable = true)\n",
      " |-- CHROMindex: double (nullable = false)\n",
      " |-- POS: double (nullable = false)\n",
      " |-- REFindex: double (nullable = false)\n",
      " |-- ALTindex: double (nullable = false)\n",
      " |-- AF_ESP: double (nullable = false)\n",
      " |-- AF_EXAC: double (nullable = false)\n",
      " |-- AF_TGP: double (nullable = false)\n",
      " |-- CLNDISDBindex: double (nullable = false)\n",
      " |-- CLNDISDBINCLindex: double (nullable = false)\n",
      " |-- CLNDNindex: double (nullable = false)\n",
      " |-- CLNDNINCLindex: double (nullable = false)\n",
      " |-- CLNHGVSindex: double (nullable = false)\n",
      " |-- CLNSIGINCLindex: double (nullable = false)\n",
      " |-- CLNVCindex: double (nullable = false)\n",
      " |-- CLNVIindex: double (nullable = false)\n",
      " |-- MCindex: double (nullable = false)\n",
      " |-- ORIGIN: double (nullable = false)\n",
      " |-- SSRindex: double (nullable = false)\n",
      " |-- Alleleindex: double (nullable = false)\n",
      " |-- Consequenceindex: double (nullable = false)\n",
      " |-- IMPACTindex: double (nullable = false)\n",
      " |-- SYMBOLindex: double (nullable = false)\n",
      " |-- Feature_typeindex: double (nullable = false)\n",
      " |-- Featureindex: double (nullable = false)\n",
      " |-- BIOTYPEindex: double (nullable = false)\n",
      " |-- EXONindex: double (nullable = false)\n",
      " |-- INTRONindex: double (nullable = false)\n",
      " |-- cDNA_positionindex: double (nullable = false)\n",
      " |-- CDS_positionindex: double (nullable = false)\n",
      " |-- Protein_positionindex: double (nullable = false)\n",
      " |-- Amino_acidsindex: double (nullable = false)\n",
      " |-- Codonsindex: double (nullable = false)\n",
      " |-- DISTANCE: double (nullable = false)\n",
      " |-- STRAND: double (nullable = false)\n",
      " |-- BAM_EDITindex: double (nullable = false)\n",
      " |-- SIFTindex: double (nullable = false)\n",
      " |-- PolyPhenindex: double (nullable = false)\n",
      " |-- MOTIF_NAMEindex: double (nullable = false)\n",
      " |-- MOTIF_POS: double (nullable = false)\n",
      " |-- HIGH_INF_POSindex: double (nullable = false)\n",
      " |-- MOTIF_SCORE_CHANGE: double (nullable = false)\n",
      " |-- LoFtool: double (nullable = false)\n",
      " |-- CADD_PHRED: double (nullable = false)\n",
      " |-- CADD_RAW: double (nullable = false)\n",
      " |-- BLOSUM62: double (nullable = false)\n",
      "\n"
     ]
    }
   ],
   "source": [
    "newDf.printSchema"
   ]
  },
  {
   "cell_type": "code",
   "execution_count": 20,
   "metadata": {},
   "outputs": [
    {
     "name": "stdout",
     "output_type": "stream",
     "text": [
      "+-----+----------+---------+--------+--------+------+-------+------+-------------+-----------------+----------+--------------+------------+---------------+----------+----------+-------+------+--------+-----------+----------------+-----------+-----------+-----------------+------------+------------+---------+-----------+------------------+-----------------+---------------------+----------------+-----------+--------+------+-------------+---------+-------------+---------------+---------+-----------------+------------------+-------+----------+---------+--------+\n",
      "|CLASS|CHROMindex|POS      |REFindex|ALTindex|AF_ESP|AF_EXAC|AF_TGP|CLNDISDBindex|CLNDISDBINCLindex|CLNDNindex|CLNDNINCLindex|CLNHGVSindex|CLNSIGINCLindex|CLNVCindex|CLNVIindex|MCindex|ORIGIN|SSRindex|Alleleindex|Consequenceindex|IMPACTindex|SYMBOLindex|Feature_typeindex|Featureindex|BIOTYPEindex|EXONindex|INTRONindex|cDNA_positionindex|CDS_positionindex|Protein_positionindex|Amino_acidsindex|Codonsindex|DISTANCE|STRAND|BAM_EDITindex|SIFTindex|PolyPhenindex|MOTIF_NAMEindex|MOTIF_POS|HIGH_INF_POSindex|MOTIF_SCORE_CHANGE|LoFtool|CADD_PHRED|CADD_RAW |BLOSUM62|\n",
      "+-----+----------+---------+--------+--------+------+-------+------+-------------+-----------------+----------+--------------+------------+---------------+----------+----------+-------+------+--------+-----------+----------------+-----------+-----------+-----------------+------------+------------+---------+-----------+------------------+-----------------+---------------------+----------------+-----------+--------+------+-------------+---------+-------------+---------------+---------+-----------------+------------------+-------+----------+---------+--------+\n",
      "|0.0  |3.0       |1168180.0|1.0     |3.0     |0.0771|0.1002 |0.1066|0.0          |0.0              |0.0       |0.0           |326.0       |0.0            |0.0       |27451.0   |0.0    |1.0   |0.0     |3.0        |0.0             |0.0        |1614.0     |0.0              |1728.0      |0.0         |15.0     |0.0        |618.0             |471.0            |304.0                |56.0            |129.0      |0.0     |1.0   |0.0          |2.0      |1.0          |0.0            |0.0      |0.0              |0.0               |0.0    |1.053     |-0.208682|2.0     |\n",
      "|0.0  |3.0       |1470752.0|1.0     |1.0     |0.0   |0.0    |0.0   |7922.0       |0.0              |8822.0    |0.0           |467.0       |0.0            |0.0       |25430.0   |0.0    |1.0   |0.0     |1.0        |0.0             |0.0        |2293.0     |0.0              |2054.0      |0.0         |9.0      |0.0        |1534.0            |1465.0           |116.0                |13.0            |17.0       |0.0     |-1.0  |1.0          |4.0      |1.0          |0.0            |0.0      |0.0              |0.0               |0.0    |31.0      |6.517838 |-3.0    |\n",
      "+-----+----------+---------+--------+--------+------+-------+------+-------------+-----------------+----------+--------------+------------+---------------+----------+----------+-------+------+--------+-----------+----------------+-----------+-----------+-----------------+------------+------------+---------+-----------+------------------+-----------------+---------------------+----------------+-----------+--------+------+-------------+---------+-------------+---------------+---------+-----------------+------------------+-------+----------+---------+--------+\n",
      "only showing top 2 rows\n",
      "\n"
     ]
    }
   ],
   "source": [
    "newDf.show(2,false)"
   ]
  },
  {
   "cell_type": "code",
   "execution_count": 21,
   "metadata": {},
   "outputs": [
    {
     "data": {
      "text/plain": [
       "import org.apache.spark.ml.feature.VectorAssembler\n",
       "import org.apache.spark.ml.linalg.Vectors\n",
       "assembler: org.apache.spark.ml.feature.VectorAssembler = vecAssembler_fb69990b52dd\n",
       "output: org.apache.spark.sql.DataFrame = [CLASS: double, CHROMindex: double ... 45 more fields]\n"
      ]
     },
     "execution_count": 21,
     "metadata": {},
     "output_type": "execute_result"
    }
   ],
   "source": [
    "import org.apache.spark.ml.feature.VectorAssembler\n",
    "import org.apache.spark.ml.linalg.Vectors\n",
    "\n",
    "val assembler = new VectorAssembler()\n",
    ".setInputCols(Array(\"CHROMindex\", \"POS\", \"REFindex\", \"ALTindex\", \"AF_ESP\", \"AF_EXAC\", \"AF_TGP\", \"CLNDISDBindex\"\n",
    "        , \"CLNDISDBINCLindex\", \"CLNDNindex\", \"CLNDNINCLindex\", \"CLNHGVSindex\", \"CLNSIGINCLindex\", \"CLNVCindex\"\n",
    "        , \"CLNVIindex\", \"MCindex\", \"ORIGIN\", \"SSRindex\", \"Alleleindex\", \"Consequenceindex\", \"IMPACTindex\"\n",
    "        , \"SYMBOLindex\", \"Feature_typeindex\", \"Featureindex\", \"BIOTYPEindex\", \"EXONindex\", \"INTRONindex\"\n",
    "        , \"cDNA_positionindex\", \"CDS_positionindex\", \"Protein_positionindex\", \"Amino_acidsindex\", \"Codonsindex\"\n",
    "        , \"DISTANCE\", \"STRAND\", \"BAM_EDITindex\", \"SIFTindex\", \"PolyPhenindex\", \"MOTIF_NAMEindex\", \"MOTIF_POS\"\n",
    "        , \"HIGH_INF_POSindex\", \"MOTIF_SCORE_CHANGE\", \"LoFtool\", \"CADD_PHRED\", \"CADD_RAW\", \"BLOSUM62\"))\n",
    ".setOutputCol(\"features\")\n",
    "val output = assembler.transform(newDf)\n"
   ]
  },
  {
   "cell_type": "code",
   "execution_count": 22,
   "metadata": {},
   "outputs": [
    {
     "name": "stdout",
     "output_type": "stream",
     "text": [
      "root\n",
      " |-- CLASS: double (nullable = true)\n",
      " |-- CHROMindex: double (nullable = false)\n",
      " |-- POS: double (nullable = false)\n",
      " |-- REFindex: double (nullable = false)\n",
      " |-- ALTindex: double (nullable = false)\n",
      " |-- AF_ESP: double (nullable = false)\n",
      " |-- AF_EXAC: double (nullable = false)\n",
      " |-- AF_TGP: double (nullable = false)\n",
      " |-- CLNDISDBindex: double (nullable = false)\n",
      " |-- CLNDISDBINCLindex: double (nullable = false)\n",
      " |-- CLNDNindex: double (nullable = false)\n",
      " |-- CLNDNINCLindex: double (nullable = false)\n",
      " |-- CLNHGVSindex: double (nullable = false)\n",
      " |-- CLNSIGINCLindex: double (nullable = false)\n",
      " |-- CLNVCindex: double (nullable = false)\n",
      " |-- CLNVIindex: double (nullable = false)\n",
      " |-- MCindex: double (nullable = false)\n",
      " |-- ORIGIN: double (nullable = false)\n",
      " |-- SSRindex: double (nullable = false)\n",
      " |-- Alleleindex: double (nullable = false)\n",
      " |-- Consequenceindex: double (nullable = false)\n",
      " |-- IMPACTindex: double (nullable = false)\n",
      " |-- SYMBOLindex: double (nullable = false)\n",
      " |-- Feature_typeindex: double (nullable = false)\n",
      " |-- Featureindex: double (nullable = false)\n",
      " |-- BIOTYPEindex: double (nullable = false)\n",
      " |-- EXONindex: double (nullable = false)\n",
      " |-- INTRONindex: double (nullable = false)\n",
      " |-- cDNA_positionindex: double (nullable = false)\n",
      " |-- CDS_positionindex: double (nullable = false)\n",
      " |-- Protein_positionindex: double (nullable = false)\n",
      " |-- Amino_acidsindex: double (nullable = false)\n",
      " |-- Codonsindex: double (nullable = false)\n",
      " |-- DISTANCE: double (nullable = false)\n",
      " |-- STRAND: double (nullable = false)\n",
      " |-- BAM_EDITindex: double (nullable = false)\n",
      " |-- SIFTindex: double (nullable = false)\n",
      " |-- PolyPhenindex: double (nullable = false)\n",
      " |-- MOTIF_NAMEindex: double (nullable = false)\n",
      " |-- MOTIF_POS: double (nullable = false)\n",
      " |-- HIGH_INF_POSindex: double (nullable = false)\n",
      " |-- MOTIF_SCORE_CHANGE: double (nullable = false)\n",
      " |-- LoFtool: double (nullable = false)\n",
      " |-- CADD_PHRED: double (nullable = false)\n",
      " |-- CADD_RAW: double (nullable = false)\n",
      " |-- BLOSUM62: double (nullable = false)\n",
      " |-- features: vector (nullable = true)\n",
      "\n"
     ]
    }
   ],
   "source": [
    "output.printSchema"
   ]
  },
  {
   "cell_type": "code",
   "execution_count": 23,
   "metadata": {},
   "outputs": [
    {
     "name": "stdout",
     "output_type": "stream",
     "text": [
      "+-----------------------------------------------------------------------------------------------------------------------------------------------------------------------------------------------------------------------------+\n",
      "|features                                                                                                                                                                                                                     |\n",
      "+-----------------------------------------------------------------------------------------------------------------------------------------------------------------------------------------------------------------------------+\n",
      "|(45,[0,1,2,3,4,5,6,11,14,16,18,21,23,25,27,28,29,30,31,33,35,36,42,43,44],[3.0,1168180.0,1.0,3.0,0.0771,0.1002,0.1066,326.0,27451.0,1.0,3.0,1614.0,1728.0,15.0,618.0,471.0,304.0,56.0,129.0,1.0,2.0,1.0,1.053,-0.208682,2.0])|\n",
      "|(45,[0,1,2,3,7,9,11,14,16,18,21,23,25,27,28,29,30,31,33,34,35,36,42,43,44],[3.0,1470752.0,1.0,1.0,7922.0,8822.0,467.0,25430.0,1.0,1.0,2293.0,2054.0,9.0,1534.0,1465.0,116.0,13.0,17.0,-1.0,1.0,4.0,1.0,31.0,6.517838,-3.0])  |\n",
      "+-----------------------------------------------------------------------------------------------------------------------------------------------------------------------------------------------------------------------------+\n",
      "only showing top 2 rows\n",
      "\n"
     ]
    }
   ],
   "source": [
    "output.select(\"features\").show(2,false)"
   ]
  },
  {
   "cell_type": "code",
   "execution_count": null,
   "metadata": {},
   "outputs": [],
   "source": [
    "\n",
    "\n"
   ]
  },
  {
   "cell_type": "code",
   "execution_count": 26,
   "metadata": {},
   "outputs": [
    {
     "data": {
      "text/plain": [
       "whole: org.apache.spark.sql.DataFrame = [features: vector, CLASS: double]\n"
      ]
     },
     "execution_count": 26,
     "metadata": {},
     "output_type": "execute_result"
    }
   ],
   "source": [
    "val whole=output.select(\"features\",\"CLASS\")"
   ]
  },
  {
   "cell_type": "code",
   "execution_count": 27,
   "metadata": {},
   "outputs": [
    {
     "name": "stdout",
     "output_type": "stream",
     "text": [
      "root\n",
      " |-- features: vector (nullable = true)\n",
      " |-- CLASS: double (nullable = true)\n",
      "\n"
     ]
    }
   ],
   "source": [
    "whole.printSchema"
   ]
  },
  {
   "cell_type": "code",
   "execution_count": 28,
   "metadata": {},
   "outputs": [],
   "source": [
    "/*\n",
    "import org.apache.spark.ml.feature.StandardScaler\n",
    "val scaler = new StandardScaler()\n",
    ".setInputCol(\"features\")\n",
    ".setOutputCol(\"scaledFeatures\")\n",
    ".setWithStd(true)\n",
    ".setWithMean(false)\n",
    "// Compute summary statistics by fitting the StandardScaler.\n",
    "val scalerModel = scaler.fit(whole)\n",
    "// Normalize each feature to have unit standard deviation.\n",
    "val scaledData = scalerModel.transform(whole)\n",
    "scaledData.show(3)\n",
    "*/"
   ]
  },
  {
   "cell_type": "code",
   "execution_count": 30,
   "metadata": {},
   "outputs": [
    {
     "name": "stdout",
     "output_type": "stream",
     "text": [
      "Features scaled to range: [0.0, 1.0]\n",
      "+-----------------------------------------------------------------------------------------------------------------------------------------------------------------------------------------------------------------------------+----------------------------------------------------------------------------------------------------------------------------------------------------------------------------------------------------------------------------------------------------------------------------------------------------------------------------------------------------------------------------------------------------------------------------------------------------------------------------------------------------------------------------------------------------------------------------+\n",
      "|features                                                                                                                                                                                                                     |scaledFeatures                                                                                                                                                                                                                                                                                                                                                                                                                                                                                                                                                              |\n",
      "+-----------------------------------------------------------------------------------------------------------------------------------------------------------------------------------------------------------------------------+----------------------------------------------------------------------------------------------------------------------------------------------------------------------------------------------------------------------------------------------------------------------------------------------------------------------------------------------------------------------------------------------------------------------------------------------------------------------------------------------------------------------------------------------------------------------------+\n",
      "|(45,[0,1,2,3,4,5,6,11,14,16,18,21,23,25,27,28,29,30,31,33,35,36,42,43,44],[3.0,1168180.0,1.0,3.0,0.0771,0.1002,0.1066,326.0,27451.0,1.0,3.0,1614.0,1728.0,15.0,618.0,471.0,304.0,56.0,129.0,1.0,2.0,1.0,1.053,-0.208682,2.0])|(45,[0,1,2,3,4,5,6,11,14,16,18,21,23,25,27,28,29,30,31,33,35,36,40,42,43,44],[0.13043478260869565,0.004713998164155383,0.0011560693641618498,0.006564551422319475,0.15450901803607214,0.2004440977014943,0.21328531412565024,0.005000997131329867,0.9926592897953279,0.001949317738791423,0.00804289544235925,0.6932989690721649,0.729421696918531,0.004595588235294118,0.044237652111667865,0.03447266339749689,0.041422537130399235,0.044374009508716325,0.05810810810810811,1.0,0.5,0.25,0.9999999999999999,0.010636363636363637,0.10125579884341004,0.8333333333333333])|\n",
      "|(45,[0,1,2,3,7,9,11,14,16,18,21,23,25,27,28,29,30,31,33,34,35,36,42,43,44],[3.0,1470752.0,1.0,1.0,7922.0,8822.0,467.0,25430.0,1.0,1.0,2293.0,2054.0,9.0,1534.0,1465.0,116.0,13.0,17.0,-1.0,1.0,4.0,1.0,31.0,6.517838,-3.0])  |(45,[0,1,2,3,7,9,11,14,16,18,21,23,25,27,28,29,30,31,34,35,36,40,42,43],[0.13043478260869565,0.0059359829438109775,0.0011560693641618498,0.002188183807439825,0.8580093144156828,0.9528026784749973,0.007164005093040024,0.9195776379547261,0.001949317738791423,0.002680965147453083,0.9849656357388316,0.8670325031658928,0.0027573529411764703,0.1098067287043665,0.10722388933616336,0.015805968115547075,0.010301109350237718,0.0076576576576576575,0.5,1.0,0.25,0.9999999999999999,0.31313131313131315,0.2305282934974466])                                           |\n",
      "+-----------------------------------------------------------------------------------------------------------------------------------------------------------------------------------------------------------------------------+----------------------------------------------------------------------------------------------------------------------------------------------------------------------------------------------------------------------------------------------------------------------------------------------------------------------------------------------------------------------------------------------------------------------------------------------------------------------------------------------------------------------------------------------------------------------------+\n",
      "only showing top 2 rows\n",
      "\n"
     ]
    },
    {
     "data": {
      "text/plain": [
       "import org.apache.spark.ml.feature.MinMaxScaler\n",
       "import org.apache.spark.ml.linalg.Vectors\n",
       "scaler: org.apache.spark.ml.feature.MinMaxScaler = minMaxScal_e06d746dc2ed\n",
       "scalerModel: org.apache.spark.ml.feature.MinMaxScalerModel = minMaxScal_e06d746dc2ed\n",
       "scaledData: org.apache.spark.sql.DataFrame = [features: vector, CLASS: double ... 1 more field]\n"
      ]
     },
     "execution_count": 30,
     "metadata": {},
     "output_type": "execute_result"
    }
   ],
   "source": [
    "import org.apache.spark.ml.feature.MinMaxScaler\n",
    "import org.apache.spark.ml.linalg.Vectors\n",
    "val scaler = new MinMaxScaler()\n",
    ".setInputCol(\"features\")\n",
    ".setOutputCol(\"scaledFeatures\")\n",
    "// Compute summary statistics and generate MinMaxScalerModel\n",
    "val scalerModel = scaler.fit(whole)\n",
    "// rescale each feature to range [min, max].\n",
    "val scaledData = scalerModel.transform(whole)\n",
    "println(s\"Features scaled to range: [${scaler.getMin}, ${scaler.getMax}]\")\n",
    "scaledData.select(\"features\", \"scaledFeatures\").show(2,false)\n"
   ]
  },
  {
   "cell_type": "code",
   "execution_count": 31,
   "metadata": {},
   "outputs": [
    {
     "name": "stdout",
     "output_type": "stream",
     "text": [
      "root\n",
      " |-- features: vector (nullable = true)\n",
      " |-- CLASS: double (nullable = true)\n",
      " |-- scaledFeatures: vector (nullable = true)\n",
      "\n"
     ]
    }
   ],
   "source": [
    "scaledData.printSchema"
   ]
  },
  {
   "cell_type": "code",
   "execution_count": 32,
   "metadata": {},
   "outputs": [
    {
     "data": {
      "text/plain": [
       "wholeScaledData: org.apache.spark.sql.DataFrame = [scaledFeatures: vector, CLASS: double]\n"
      ]
     },
     "execution_count": 32,
     "metadata": {},
     "output_type": "execute_result"
    }
   ],
   "source": [
    "val wholeScaledData=scaledData.select(\"scaledFeatures\",\"CLASS\")"
   ]
  },
  {
   "cell_type": "code",
   "execution_count": 33,
   "metadata": {},
   "outputs": [
    {
     "data": {
      "text/plain": [
       "training: org.apache.spark.sql.Dataset[org.apache.spark.sql.Row] = [scaledFeatures: vector, CLASS: double]\n",
       "test: org.apache.spark.sql.Dataset[org.apache.spark.sql.Row] = [scaledFeatures: vector, CLASS: double]\n"
      ]
     },
     "execution_count": 33,
     "metadata": {},
     "output_type": "execute_result"
    }
   ],
   "source": [
    "// Prepare training and test data.\n",
    "val Array(training, test) = wholeScaledData.randomSplit(Array(0.7, 0.3), seed = 12345)\n"
   ]
  },
  {
   "cell_type": "code",
   "execution_count": 35,
   "metadata": {},
   "outputs": [
    {
     "name": "stdout",
     "output_type": "stream",
     "text": [
      "+------------------------------------------------------------------------------------------------------------------------------------------------------------------------------------------------------------------------------------------------------------------------------------------------------------------------------------------------------------------------------------------------------------------------------------------------------------------------------------------------------------------------------------------------------------------------------+-----+\n",
      "|scaledFeatures                                                                                                                                                                                                                                                                                                                                                                                                                                                                                                                                                                |CLASS|\n",
      "+------------------------------------------------------------------------------------------------------------------------------------------------------------------------------------------------------------------------------------------------------------------------------------------------------------------------------------------------------------------------------------------------------------------------------------------------------------------------------------------------------------------------------------------------------------------------------+-----+\n",
      "|(45,[0,1,2,3,4,5,6,7,9,11,13,14,15,16,18,19,20,21,23,26,33,40,41,42,43,44],[0.13043478260869565,0.041669183423609986,0.021965317919075147,0.006564551422319475,0.03707414829659318,0.035367780911800595,0.013205282112845136,0.15585400194952886,0.16999675990927746,0.0014113243438108828,0.16666666666666666,0.4349822810443335,0.022222222222222223,0.001949317738791423,0.010723860589812333,0.06382978723404255,0.3333333333333333,0.15506872852233677,0.15280709159983114,0.26127527216174184,1.0,0.9999999999999999,0.206,0.15454545454545457,0.14086733716095884,0.5])|0.0  |\n",
      "|(45,[0,1,2,3,4,5,6,7,9,11,14,15,16,18,19,20,21,23,25,27,33,40,41,42,43,44],[0.13043478260869565,0.18367901471223277,0.0011560693641618498,0.002188183807439825,0.015030060120240479,0.020224449378863345,0.008003201280512205,0.3646702047005307,0.4114915217626094,0.05112982649914861,0.17530917769581253,0.13333333333333333,0.001949317738791423,0.002680965147453083,0.23404255319148937,0.6666666666666666,0.8410652920962199,0.7568594343604896,0.005821078431372549,0.09749463135289908,1.0,0.9999999999999999,0.18,0.0363939393939394,0.10717998421483081,0.5])      |0.0  |\n",
      "|(45,[0,1,2,3,4,5,6,7,9,11,14,15,16,18,19,20,21,23,25,27,34,40,41,42,43,44],[0.13043478260869565,0.07019021739174333,0.0023121387283236996,0.00437636761487965,0.008416833667334669,0.0029406469423273116,0.011204481792717085,0.258854110256688,0.298844367642294,0.01836255695153942,0.46029507485354737,0.1,0.001949317738791423,0.005361930294906166,0.14893617021276595,0.6666666666666666,0.051975945017182126,0.05107640354579991,0.032475490196078434,0.25404438081603437,0.5,0.9999999999999999,0.14,0.0980909090909091,0.12141859656516132,0.5])                     |0.0  |\n",
      "+------------------------------------------------------------------------------------------------------------------------------------------------------------------------------------------------------------------------------------------------------------------------------------------------------------------------------------------------------------------------------------------------------------------------------------------------------------------------------------------------------------------------------------------------------------------------------+-----+\n",
      "only showing top 3 rows\n",
      "\n"
     ]
    }
   ],
   "source": [
    "training.show(3,false)"
   ]
  },
  {
   "cell_type": "code",
   "execution_count": 36,
   "metadata": {},
   "outputs": [
    {
     "name": "stdout",
     "output_type": "stream",
     "text": [
      "+-------------------------------------------------------------------------------------------------------------------------------------------------------------------------------------------------------------------------------------------------------------------------------------------------------------------------------------------------------------------------------------------------------------------------------------------------------------------------------------------------------------------------------------------------------------+-----+\n",
      "|scaledFeatures                                                                                                                                                                                                                                                                                                                                                                                                                                                                                                                                               |CLASS|\n",
      "+-------------------------------------------------------------------------------------------------------------------------------------------------------------------------------------------------------------------------------------------------------------------------------------------------------------------------------------------------------------------------------------------------------------------------------------------------------------------------------------------------------------------------------------------------------------+-----+\n",
      "|(45,[0,1,2,3,4,5,6,7,9,11,14,15,16,18,19,20,21,23,26,33,34,40,41,42,43,44],[0.13043478260869565,0.04850031064548366,0.0011560693641618498,0.002188183807439825,0.013627254509018034,0.004480985816879713,0.017607042817126852,0.0673670529622008,0.06598984771573604,0.005246444843296977,0.47833948072611554,0.022222222222222223,0.001949317738791423,0.002680965147453083,0.0425531914893617,0.6666666666666666,0.14347079037800686,0.13803292528493036,0.026438569206842923,1.0,0.5,0.9999999999999999,0.378,0.15494949494949495,0.1410066508497232,0.5])|0.0  |\n",
      "|(45,[0,1,2,3,4,5,6,7,9,11,14,15,16,18,19,20,21,23,26,33,40,41,42,43,44],[0.13043478260869565,0.0420300294242071,0.0023121387283236996,0.006564551422319475,0.017635270541082163,0.0047410430294664825,0.01640656262505002,0.06520090978013647,0.06879792634193757,0.002485158083666989,0.42442322991249004,0.022222222222222223,0.001949317738791423,0.00804289544235925,0.06382978723404255,0.3333333333333333,0.15506872852233677,0.15280709159983114,0.8144116122343183,1.0,0.9999999999999999,0.206,0.11818181818181818,0.12814981735281622,0.5])        |0.0  |\n",
      "|(45,[0,1,2,3,4,5,6,7,9,11,14,15,16,18,19,20,21,23,26,34,40,41,42,43,44],[0.13043478260869565,0.1849606302748809,0.003468208092485549,0.006564551422319475,0.009819639278557113,0.003140690952009442,0.010804321728691476,0.010614101592115238,0.010584296360298088,0.055394480494577146,0.5011571562884212,0.022222222222222223,0.001949317738791423,0.00804289544235925,0.06382978723404255,0.3333333333333333,0.010738831615120275,0.010552975939214858,0.010368066355624676,0.5,0.9999999999999999,0.0243,0.01282828282828283,0.10201519201458317,0.5])   |1.0  |\n",
      "+-------------------------------------------------------------------------------------------------------------------------------------------------------------------------------------------------------------------------------------------------------------------------------------------------------------------------------------------------------------------------------------------------------------------------------------------------------------------------------------------------------------------------------------------------------------+-----+\n",
      "only showing top 3 rows\n",
      "\n"
     ]
    }
   ],
   "source": [
    "test.show(3,false)"
   ]
  },
  {
   "cell_type": "code",
   "execution_count": 37,
   "metadata": {},
   "outputs": [
    {
     "data": {
      "text/plain": [
       "layers: Array[Int] = Array(45, 45, 45, 2)\n"
      ]
     },
     "execution_count": 37,
     "metadata": {},
     "output_type": "execute_result"
    }
   ],
   "source": [
    "//val layers = Array[Int](4, 5, 4, 3)\n",
    "val layers = Array[Int](45, 45, 45, 2)"
   ]
  },
  {
   "cell_type": "code",
   "execution_count": 38,
   "metadata": {},
   "outputs": [
    {
     "data": {
      "text/plain": [
       "import org.apache.spark.ml.classification.MultilayerPerceptronClassifier\n",
       "import org.apache.spark.ml.evaluation.MulticlassClassificationEvaluator\n",
       "trainer: org.apache.spark.ml.classification.MultilayerPerceptronClassifier = mlpc_e67cb70b6901\n"
      ]
     },
     "execution_count": 38,
     "metadata": {},
     "output_type": "execute_result"
    }
   ],
   "source": [
    "import org.apache.spark.ml.classification.MultilayerPerceptronClassifier\n",
    "import org.apache.spark.ml.evaluation.MulticlassClassificationEvaluator\n",
    "val trainer = new MultilayerPerceptronClassifier()\n",
    "  .setLayers(layers)\n",
    "  .setBlockSize(128)\n",
    "  .setSeed(1234L)\n",
    "  .setMaxIter(100)\n",
    "  .setFeaturesCol(\"scaledFeatures\")\n",
    "  .setLabelCol(\"CLASS\")"
   ]
  },
  {
   "cell_type": "code",
   "execution_count": 39,
   "metadata": {},
   "outputs": [
    {
     "data": {
      "text/plain": [
       "model: org.apache.spark.ml.classification.MultilayerPerceptronClassificationModel = mlpc_e67cb70b6901\n"
      ]
     },
     "execution_count": 39,
     "metadata": {},
     "output_type": "execute_result"
    }
   ],
   "source": [
    "val model=trainer.fit(training.select(\"scaledFeatures\",\"CLASS\"))"
   ]
  },
  {
   "cell_type": "code",
   "execution_count": 40,
   "metadata": {},
   "outputs": [
    {
     "data": {
      "text/plain": [
       "result: org.apache.spark.sql.DataFrame = [scaledFeatures: vector, CLASS: double ... 3 more fields]\n"
      ]
     },
     "execution_count": 40,
     "metadata": {},
     "output_type": "execute_result"
    }
   ],
   "source": [
    "// compute accuracy on the test set\n",
    "val result = model.transform(test)\n"
   ]
  },
  {
   "cell_type": "code",
   "execution_count": 41,
   "metadata": {},
   "outputs": [
    {
     "name": "stdout",
     "output_type": "stream",
     "text": [
      "root\n",
      " |-- scaledFeatures: vector (nullable = true)\n",
      " |-- CLASS: double (nullable = true)\n",
      " |-- rawPrediction: vector (nullable = true)\n",
      " |-- probability: vector (nullable = true)\n",
      " |-- prediction: double (nullable = false)\n",
      "\n"
     ]
    }
   ],
   "source": [
    "result.printSchema"
   ]
  },
  {
   "cell_type": "code",
   "execution_count": 42,
   "metadata": {},
   "outputs": [
    {
     "data": {
      "text/plain": [
       "predictionAndLabels: org.apache.spark.sql.DataFrame = [prediction: double, CLASS: double]\n"
      ]
     },
     "execution_count": 42,
     "metadata": {},
     "output_type": "execute_result"
    }
   ],
   "source": [
    "val predictionAndLabels = result.select(\"prediction\", \"CLASS\")\n"
   ]
  },
  {
   "cell_type": "code",
   "execution_count": 43,
   "metadata": {},
   "outputs": [
    {
     "data": {
      "text/plain": [
       "evaluator: org.apache.spark.ml.evaluation.MulticlassClassificationEvaluator = mcEval_1cb0298ba121\n"
      ]
     },
     "execution_count": 43,
     "metadata": {},
     "output_type": "execute_result"
    }
   ],
   "source": [
    "val evaluator = new MulticlassClassificationEvaluator()\n",
    "  .setMetricName(\"accuracy\").setLabelCol(\"CLASS\")\n",
    "\n"
   ]
  },
  {
   "cell_type": "code",
   "execution_count": 44,
   "metadata": {},
   "outputs": [
    {
     "name": "stdout",
     "output_type": "stream",
     "text": [
      "Test set accuracy = 0.7482470955524848\n"
     ]
    }
   ],
   "source": [
    "println(s\"Test set accuracy = ${evaluator.evaluate(predictionAndLabels)}\")"
   ]
  },
  {
   "cell_type": "code",
   "execution_count": 45,
   "metadata": {},
   "outputs": [
    {
     "data": {
      "text/plain": [
       "import org.apache.spark.ml.{Pipeline, PipelineStage}\n",
       "import org.apache.spark.ml.classification.{LogisticRegression, LogisticRegressionModel}\n",
       "import org.apache.spark.ml.feature.StringIndexer\n",
       "import org.apache.spark.sql.{DataFrame, SparkSession}\n"
      ]
     },
     "execution_count": 45,
     "metadata": {},
     "output_type": "execute_result"
    }
   ],
   "source": [
    "import org.apache.spark.ml.{Pipeline, PipelineStage}\n",
    "import org.apache.spark.ml.classification.{LogisticRegression, LogisticRegressionModel}\n",
    "import org.apache.spark.ml.feature.StringIndexer\n",
    "import org.apache.spark.sql.{DataFrame, SparkSession}"
   ]
  },
  {
   "cell_type": "code",
   "execution_count": 46,
   "metadata": {},
   "outputs": [
    {
     "data": {
      "text/plain": [
       "import scala.collection.mutable\n",
       "maxIter: Int = 100\n",
       "lr: org.apache.spark.ml.classification.LogisticRegression = logreg_00807e29abd2\n"
      ]
     },
     "execution_count": 46,
     "metadata": {},
     "output_type": "execute_result"
    }
   ],
   "source": [
    "import scala.collection.mutable\n",
    "val maxIter=100\n",
    "val lr = new LogisticRegression()\n",
    "      .setFeaturesCol(\"scaledFeatures\")\n",
    "      .setLabelCol(\"CLASS\")\n",
    "      .setMaxIter(maxIter)"
   ]
  },
  {
   "cell_type": "code",
   "execution_count": 47,
   "metadata": {},
   "outputs": [
    {
     "data": {
      "text/plain": [
       "model_lr: org.apache.spark.ml.classification.LogisticRegressionModel = LogisticRegressionModel: uid = logreg_00807e29abd2, numClasses = 2, numFeatures = 45\n"
      ]
     },
     "execution_count": 47,
     "metadata": {},
     "output_type": "execute_result"
    }
   ],
   "source": [
    "val model_lr = lr.fit(training)"
   ]
  },
  {
   "cell_type": "code",
   "execution_count": 48,
   "metadata": {},
   "outputs": [
    {
     "data": {
      "text/plain": [
       "prediction_lr: org.apache.spark.sql.DataFrame = [scaledFeatures: vector, CLASS: double ... 3 more fields]\n"
      ]
     },
     "execution_count": 48,
     "metadata": {},
     "output_type": "execute_result"
    }
   ],
   "source": [
    "val prediction_lr = model_lr.transform(test)"
   ]
  },
  {
   "cell_type": "code",
   "execution_count": 49,
   "metadata": {},
   "outputs": [
    {
     "data": {
      "text/plain": [
       "import org.apache.spark.ml.evaluation.BinaryClassificationEvaluator\n"
      ]
     },
     "execution_count": 49,
     "metadata": {},
     "output_type": "execute_result"
    }
   ],
   "source": [
    "import org.apache.spark.ml.evaluation.BinaryClassificationEvaluator"
   ]
  },
  {
   "cell_type": "code",
   "execution_count": null,
   "metadata": {},
   "outputs": [],
   "source": [
    "val my_eval_aoc = new BinaryClassificationEvaluator()\n",
    "  .setLabelCol(\"CLASS\")\n",
    "  .setRawPredictionCol(\"prediction\").setMetricName(\"areaUnderROC\")\n",
    "\n",
    "my_eval_aoc.evaluate(prediction_lr)"
   ]
  },
  {
   "cell_type": "code",
   "execution_count": null,
   "metadata": {},
   "outputs": [],
   "source": [
    "import org.apache.spark.ml.evaluation.MulticlassClassificationEvaluator\n",
    "var my_mc_f1 = new MulticlassClassificationEvaluator().setPredictionCol(\"prediction\").setLabelCol(\"CLASS\").setMetricName(\"f1\")\n",
    "my_mc_f1.evaluate(prediction_lr)"
   ]
  },
  {
   "cell_type": "code",
   "execution_count": 50,
   "metadata": {},
   "outputs": [
    {
     "data": {
      "text/plain": [
       "my_mc_accu: org.apache.spark.ml.evaluation.MulticlassClassificationEvaluator = mcEval_74ebac4de5a0\n",
       "res29: Double = 0.7463534469522494\n"
      ]
     },
     "execution_count": 50,
     "metadata": {},
     "output_type": "execute_result"
    }
   ],
   "source": [
    "val my_mc_accu = new MulticlassClassificationEvaluator().setPredictionCol(\"prediction\").setLabelCol(\"CLASS\").setMetricName(\"accuracy\")\n",
    "my_mc_accu.evaluate(prediction_lr)"
   ]
  },
  {
   "cell_type": "code",
   "execution_count": null,
   "metadata": {},
   "outputs": [],
   "source": []
  }
 ],
 "metadata": {
  "kernelspec": {
   "display_name": "spylon-kernel",
   "language": "scala",
   "name": "spylon-kernel"
  },
  "language_info": {
   "codemirror_mode": "text/x-scala",
   "file_extension": ".scala",
   "help_links": [
    {
     "text": "MetaKernel Magics",
     "url": "https://metakernel.readthedocs.io/en/latest/source/README.html"
    }
   ],
   "mimetype": "text/x-scala",
   "name": "scala",
   "pygments_lexer": "scala",
   "version": "0.4.1"
  }
 },
 "nbformat": 4,
 "nbformat_minor": 4
}
