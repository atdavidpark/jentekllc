{
 "cells": [
  {
   "cell_type": "markdown",
   "metadata": {},
   "source": [
    "Note:\n",
    "\n",
    "This practice is aiming to beat human being based code challange in Python 3, such as in person or via virtual whiteboard such as coderpad.  To beat such code challange, priority is on functionality, meanings working 100% or most of scenario.  \n",
    "\n",
    "If you need to do automatic coding challange, while your priority still is functionality, you should be using efficient algorithm to make the code as fast as possible to increase performance score.\n",
    "\n",
    "The key to defeat code challange, is to practice a lot.\n",
    "\n"
   ]
  },
  {
   "cell_type": "markdown",
   "metadata": {},
   "source": [
    "Maximum sum subarray of size K"
   ]
  },
  {
   "cell_type": "code",
   "execution_count": null,
   "metadata": {},
   "outputs": [],
   "source": [
    "#Use sliding windows\n",
    "def maxSum(nums,k):\n",
    "    if len(nums)==0:\n",
    "        return 0\n",
    "    if k==0:\n",
    "        return 0\n",
    "    max_sum=0\n",
    "    for i in range(len(nums)):\n",
    "        max_sum=max(max_sum,sum(nums[i:i+k]))\n",
    "    return max_sum\n",
    "    \n",
    "    "
   ]
  },
  {
   "cell_type": "code",
   "execution_count": null,
   "metadata": {},
   "outputs": [],
   "source": [
    "a=[-5,1,2,3,-4,5,2]"
   ]
  },
  {
   "cell_type": "code",
   "execution_count": null,
   "metadata": {},
   "outputs": [],
   "source": [
    "maxSum(a,2)"
   ]
  },
  {
   "cell_type": "markdown",
   "metadata": {},
   "source": [
    "Longest substring with ‘K’ distinct characters (medium)"
   ]
  },
  {
   "cell_type": "code",
   "execution_count": null,
   "metadata": {},
   "outputs": [],
   "source": [
    "def longestSubstring(s,k):\n",
    "    sub_str=\"\"\n",
    "    for i in range(len(s)):\n",
    "        for j in range(i,len(s)):\n",
    "#            print(s[i:j+1])\n",
    "            if len(set(list(s[i:j+1])))==k:\n",
    "                if len(s[i:j+1])>len(sub_str):\n",
    "                    sub_str=s[i:j+1]\n",
    "    return sub_str\n",
    "            \n",
    "    \n",
    "    \n",
    "    "
   ]
  },
  {
   "cell_type": "code",
   "execution_count": null,
   "metadata": {},
   "outputs": [],
   "source": [
    "longestSubstring(\"dkashhhhhdajskdhh\",2)"
   ]
  },
  {
   "cell_type": "markdown",
   "metadata": {},
   "source": [
    "String anagrams (hard)"
   ]
  },
  {
   "cell_type": "code",
   "execution_count": null,
   "metadata": {},
   "outputs": [],
   "source": [
    "#P(n)=math.factorial(n)\n",
    "import math\n",
    "import random\n",
    "def strAnagrams(s):\n",
    "    if len(s)==0:\n",
    "        return None\n",
    "    anagram_set=set()\n",
    "    while len(anagram_set)<math.factorial(len(s)):\n",
    "        anagram_set.add(\"\".join(sorted(s,key=lambda x: random.randint(1,1000))))\n",
    "    anagram=list(anagram_set)\n",
    "    anagram.remove(s)\n",
    "#    print(anagram)\n",
    "    \n",
    "    return sorted(anagram)\n",
    "    \n",
    "    \n",
    "    \n",
    "    "
   ]
  },
  {
   "cell_type": "code",
   "execution_count": null,
   "metadata": {},
   "outputs": [],
   "source": [
    "strAnagrams(\"abcd\")"
   ]
  },
  {
   "cell_type": "markdown",
   "metadata": {},
   "source": [
    "Squaring a sorted array (easy)"
   ]
  },
  {
   "cell_type": "code",
   "execution_count": null,
   "metadata": {},
   "outputs": [],
   "source": [
    "def squareArr(arr):\n",
    "    return [i*i for i in arr]\n",
    "    \n",
    "    \n",
    "    "
   ]
  },
  {
   "cell_type": "code",
   "execution_count": null,
   "metadata": {},
   "outputs": [],
   "source": [
    "squareArr([1,2,3,4,5])"
   ]
  },
  {
   "cell_type": "markdown",
   "metadata": {},
   "source": [
    "Triplets that sum to zero (medium)"
   ]
  },
  {
   "cell_type": "code",
   "execution_count": null,
   "metadata": {},
   "outputs": [],
   "source": [
    "def findTripletSumZero(arr):\n",
    "    triplet=[]\n",
    "    for i in range(len(arr)):\n",
    "        for j in range(i,len(arr)):\n",
    "            if j+1<len(arr):\n",
    "                if arr[i]+arr[j]+arr[j+1]==0:\n",
    "                    triplet.append([arr[i],arr[j],arr[j+1]])\n",
    "    return triplet           \n",
    "                    \n",
    "    \n",
    "    \n",
    "    "
   ]
  },
  {
   "cell_type": "code",
   "execution_count": null,
   "metadata": {},
   "outputs": [],
   "source": [
    "findTripletSumZero([4,2,3,4,-7,3])"
   ]
  },
  {
   "cell_type": "markdown",
   "metadata": {},
   "source": [
    "Comparing strings that contain backspaces (medium)"
   ]
  },
  {
   "cell_type": "code",
   "execution_count": null,
   "metadata": {},
   "outputs": [],
   "source": [
    "def compareStrBackspace(s,t):\n",
    "    sl=list(s)\n",
    "    tl=list(t)\n",
    "    while True:\n",
    "#        print(sl)\n",
    "        sl_orig=len(sl)\n",
    "        counter=0\n",
    "        for i in range(sl_orig):\n",
    "            if sl[i]=='#':\n",
    "                if i<1:\n",
    "                    sl.pop(i)\n",
    "                    break\n",
    "                else:\n",
    "                    sl.pop(i)\n",
    "                    sl.pop(i-1)\n",
    "                    break\n",
    "            else:\n",
    "                counter+=1\n",
    "        if counter>=sl_orig:\n",
    "            break\n",
    "        \n",
    "    while True:\n",
    "#        print(tl)\n",
    "        tl_orig=len(tl)\n",
    "        counter=0\n",
    "        for i in range(tl_orig):\n",
    "            if tl[i]=='#':\n",
    "                if i<1:\n",
    "                    tl.pop(i)\n",
    "                    break\n",
    "                else:\n",
    "                    tl.pop(i)\n",
    "                    tl.pop(i-1)\n",
    "                    break\n",
    "            else:\n",
    "                counter+=1\n",
    "        if counter>=tl_orig:\n",
    "            break\n",
    "        \n",
    "    if sl==tl:\n",
    "        return True\n",
    "    else:\n",
    "        return False\n",
    "    \n",
    "    \n",
    "    "
   ]
  },
  {
   "cell_type": "code",
   "execution_count": null,
   "metadata": {},
   "outputs": [],
   "source": [
    "compareStrBackspace(\"a##c\",\"#a#c\")"
   ]
  },
  {
   "cell_type": "markdown",
   "metadata": {},
   "source": [
    "Linked List Cycle (easy)"
   ]
  },
  {
   "cell_type": "code",
   "execution_count": null,
   "metadata": {},
   "outputs": [],
   "source": [
    "class MyLinkList(object):\n",
    "    def __init__(self,data):\n",
    "        self.next=None\n",
    "        self.data=data\n",
    "\n",
    "\n",
    "    \n",
    "    \n",
    "    "
   ]
  },
  {
   "cell_type": "code",
   "execution_count": null,
   "metadata": {},
   "outputs": [],
   "source": [
    "node0=MyLinkList(1)"
   ]
  },
  {
   "cell_type": "code",
   "execution_count": null,
   "metadata": {},
   "outputs": [],
   "source": [
    "node1=MyLinkList(2)"
   ]
  },
  {
   "cell_type": "code",
   "execution_count": null,
   "metadata": {},
   "outputs": [],
   "source": [
    "node2=MyLinkList(3)"
   ]
  },
  {
   "cell_type": "code",
   "execution_count": null,
   "metadata": {},
   "outputs": [],
   "source": [
    "node0.next=node1"
   ]
  },
  {
   "cell_type": "code",
   "execution_count": null,
   "metadata": {},
   "outputs": [],
   "source": [
    "node1.next=node2"
   ]
  },
  {
   "cell_type": "code",
   "execution_count": null,
   "metadata": {},
   "outputs": [],
   "source": [
    "node2.next=node0"
   ]
  },
  {
   "cell_type": "code",
   "execution_count": null,
   "metadata": {},
   "outputs": [],
   "source": [
    "node0.next.next.next.next.next.data"
   ]
  },
  {
   "cell_type": "markdown",
   "metadata": {},
   "source": [
    "Palindrome Linked List (medium)"
   ]
  },
  {
   "cell_type": "markdown",
   "metadata": {},
   "source": [
    "A non-empty array A consisting of N integers is given. The consecutive elements of array A represent consecutive cars on a road.\n",
    "\n",
    "Array A contains only 0s and/or 1s:\n",
    "\n",
    "0 represents a car traveling east,\n",
    "1 represents a car traveling west.\n",
    "The goal is to count passing cars. We say that a pair of cars (P, Q), where 0 ≤ P < Q < N, is passing when P is traveling to the east and Q is traveling to the west.\n"
   ]
  },
  {
   "cell_type": "code",
   "execution_count": null,
   "metadata": {},
   "outputs": [],
   "source": [
    "def passingCarPair(arr):\n",
    "    result=[]\n",
    "    for i in range(len(arr)):\n",
    "        if arr[i]!=0:\n",
    "            pass\n",
    "        else:\n",
    "            for j in range(i+1,len(arr)):\n",
    "                if arr[j]==1:\n",
    "                    result.append((i,j))\n",
    "    return result\n",
    "                    \n",
    "        \n",
    "        \n",
    "        \n",
    "    \n",
    "    \n",
    "    "
   ]
  },
  {
   "cell_type": "code",
   "execution_count": null,
   "metadata": {},
   "outputs": [],
   "source": [
    "passingCarPair([0,1,0,1,1])"
   ]
  },
  {
   "cell_type": "markdown",
   "metadata": {},
   "source": [
    "A string S consisting of N characters is considered to be properly nested if any of the following conditions is true:\n",
    "\n",
    "S is empty;\n",
    "S has the form \"(U)\" or \"[U]\" or \"{U}\" where U is a properly nested string;\n",
    "S has the form \"VW\" where V and W are properly nested strings.\n",
    "For example, the string \"{[()()]}\" is properly nested but \"([)()]\" is not.\n",
    "\n",
    "Write a function:\n",
    "\n",
    "def func(S)\n",
    "\n",
    "that, given a string S consisting of N characters, returns 1 if S is properly nested and 0 otherwise.\n",
    "\n",
    "For example, given S = \"{[()()]}\", the function should return 1 and given S = \"([)()]\", the function should return 0, as explained above.\n"
   ]
  },
  {
   "cell_type": "code",
   "execution_count": null,
   "metadata": {},
   "outputs": [],
   "source": [
    "def isProperlyClosed(s):\n",
    "    sl=list(s)\n",
    "    if len(sl)==0:\n",
    "        return True\n",
    "    if len(sl)==1:\n",
    "        return False\n",
    "    if sl[0]==\")\" or sl[0]==\"]\" or sl[0]==\"}\":\n",
    "        return False\n",
    "    for i in range(len(sl)):\n",
    "        if i==0:\n",
    "            prev=sl[i]\n",
    "        else:\n",
    "            if sl[i]=='}' and sl[i-1]=='{' or sl[i]==')' and sl[i-1]=='(' or sl[i]==']' and sl[i-1]=='[':\n",
    "                sl.pop(i)\n",
    "                sl.pop(i-1)\n",
    "                return isProperlyClosed(\"\".join(sl))\n",
    "    return False\n",
    "        \n",
    "        \n",
    "        \n",
    "        \n",
    "                \n",
    "            \n",
    "            \n",
    "            \n",
    "    \n",
    "    \n",
    "    \n",
    "    \n",
    "    \n",
    "    "
   ]
  },
  {
   "cell_type": "code",
   "execution_count": null,
   "metadata": {},
   "outputs": [],
   "source": [
    "isProperlyClosed(\"())(()\")"
   ]
  },
  {
   "cell_type": "code",
   "execution_count": null,
   "metadata": {},
   "outputs": [],
   "source": [
    "isProperlyClosed(\"(){([])}\")"
   ]
  },
  {
   "cell_type": "code",
   "execution_count": null,
   "metadata": {},
   "outputs": [],
   "source": [
    "#better and faster, not using recursion, but using stack and iteration\n",
    "\n",
    "def isProperlyClosed(s):\n",
    "    sl=list(s)\n",
    "    if len(sl)==0:\n",
    "        return True\n",
    "    if len(sl)==1:\n",
    "        return False\n",
    "    if sl[0]==\")\" or sl[0]==\"]\" or sl[0]==\"}\":\n",
    "        return False\n",
    "    stack=[]\n",
    "    for i in range(len(sl)):\n",
    "        if sl[i]=='{':\n",
    "            stack.append('{')\n",
    "        elif sl[i]=='[':\n",
    "            stack.append('[')\n",
    "        elif sl[i]=='(':\n",
    "            stack.append('(')\n",
    "        elif sl[i]=='}':\n",
    "            if len(stack)==0:\n",
    "                return False\n",
    "            if stack[-1]=='{':\n",
    "                stack.pop(-1)\n",
    "            else:\n",
    "                return False\n",
    "        elif sl[i]==']':\n",
    "            if len(stack)==0:\n",
    "                return False\n",
    "            if stack[-1]=='[':\n",
    "                stack.pop(-1)\n",
    "            else:\n",
    "                return False\n",
    "        elif sl[i]==')':   \n",
    "            if len(stack)==0:\n",
    "                return False\n",
    "            if stack[-1]=='(':\n",
    "                stack.pop(-1)\n",
    "            else:\n",
    "                return False\n",
    "    if len(stack)!=0:\n",
    "        return False\n",
    "    else:\n",
    "        return True\n"
   ]
  },
  {
   "cell_type": "markdown",
   "metadata": {},
   "source": [
    "A non-empty array A consisting of N integers is given. Array A represents numbers on a tape.\n",
    "\n",
    "Any integer P, such that 0 < P < N, splits this tape into two non-empty parts: A[0], A[1], ..., A[P − 1] and A[P], A[P + 1], ..., A[N − 1].\n",
    "\n",
    "The difference between the two parts is the value of: |(A[0] + A[1] + ... + A[P − 1]) − (A[P] + A[P + 1] + ... + A[N − 1])|\n",
    "\n",
    "Write a function:\n",
    "\n",
    "def func(A)\n",
    "\n",
    "that, given a non-empty array A of N integers, returns the minimal difference that can be achieved."
   ]
  },
  {
   "cell_type": "code",
   "execution_count": null,
   "metadata": {},
   "outputs": [],
   "source": [
    "#correctness 100%, performance 0%\n",
    "\n",
    "def TapeEquilibrium(A):\n",
    "    if len(A)==0:\n",
    "        return 0\n",
    "    if len(A)==1:\n",
    "        return A[0]\n",
    "    diff_list=[]\n",
    "    for P in range(1,len(A)):\n",
    "        diff_list.append(abs(sum(A[:P])-sum(A[P:])))\n",
    "    if len(diff_list)==0:\n",
    "        return 0\n",
    "    return min(diff_list)\n",
    "    \n",
    "    \n",
    "    \n",
    "    \n",
    "    \n",
    "    \n",
    "    \n",
    "    "
   ]
  },
  {
   "cell_type": "code",
   "execution_count": null,
   "metadata": {},
   "outputs": [],
   "source": [
    "TapeEquilibrium([3,1,2,4,3])"
   ]
  },
  {
   "cell_type": "code",
   "execution_count": null,
   "metadata": {},
   "outputs": [],
   "source": [
    "#method 2\n",
    "\n",
    "#correctness 100%, performance 0%\n",
    "def TapeEquilibrium(A):\n",
    "    if len(A)==0:\n",
    "        return 0\n",
    "    if len(A)==1:\n",
    "        return A[0]\n",
    "    min_sum=None\n",
    "    total_sum=sum(A)\n",
    "    for P in range(1,len(A)):\n",
    "        p1_sum=sum(A[:P])\n",
    "        if min_sum==None:\n",
    "            min_sum=abs(p1_sum-(total_sum-p1_sum))\n",
    "        else:\n",
    "            min_sum=min(abs(p1_sum-(total_sum-p1_sum)),min_sum)\n",
    "    return min_sum\n",
    "    "
   ]
  },
  {
   "cell_type": "code",
   "execution_count": null,
   "metadata": {},
   "outputs": [],
   "source": [
    "#method 3\n",
    "# correctness 100% performance 0%\n",
    "def TapeEquilibrium(A):\n",
    "    if len(A)==0:\n",
    "        return 0\n",
    "    return min([abs(sum(A[:P])-sum(A)+sum(A[:P])) for P in range(1,len(A))])"
   ]
  },
  {
   "cell_type": "code",
   "execution_count": null,
   "metadata": {},
   "outputs": [],
   "source": [
    "TapeEquilibrium([0,1,2,3,4,2,-10,4])"
   ]
  },
  {
   "cell_type": "code",
   "execution_count": null,
   "metadata": {},
   "outputs": [],
   "source": [
    "minLargeSum(3,5, [2,1,5,1,2,2,2])"
   ]
  },
  {
   "cell_type": "markdown",
   "metadata": {},
   "source": [
    "An array A consisting of N different integers is given. The array contains integers in the range [1..(N + 1)], which means that exactly one element is missing.\n",
    "\n",
    "Your goal is to find that missing element.\n",
    "\n",
    "Write a function:\n",
    "\n",
    "def func(A)\n",
    "\n",
    "that, given an array A, returns the value of the missing element.\n"
   ]
  },
  {
   "cell_type": "code",
   "execution_count": null,
   "metadata": {},
   "outputs": [],
   "source": [
    "#correctness 100% performance 100%\n",
    "\n",
    "def missingElement(A):\n",
    "    if len(A)==0:\n",
    "        return 1\n",
    "    A.sort()\n",
    "    n=0\n",
    "    for i in range(len(A)):\n",
    "        n=i\n",
    "        if A[i]!=i+1:\n",
    "            return i+1\n",
    "    return n+2\n",
    "        \n",
    "        \n",
    "        \n",
    "        "
   ]
  },
  {
   "cell_type": "markdown",
   "metadata": {},
   "source": [
    "A non-empty array A consisting of N integers is given.\n",
    "\n",
    "A permutation is a sequence containing each element from 1 to N once, and only once.\n",
    "\n",
    "Write a function:\n",
    "\n",
    "def solution(A)\n",
    "\n",
    "that, given an array A, returns 1 if array A is a permutation and 0 if it is not.\n"
   ]
  },
  {
   "cell_type": "code",
   "execution_count": null,
   "metadata": {},
   "outputs": [],
   "source": [
    "def isPermutation(A):\n",
    "    if len(set(A))!=len(A):\n",
    "        return 0\n",
    "    A.sort()\n",
    "    for i in range(len(A)):\n",
    "        if A[i]!=i+1:\n",
    "            return 0\n",
    "    return 1\n",
    "    \n",
    "    \n",
    "    \n",
    "    "
   ]
  },
  {
   "cell_type": "code",
   "execution_count": null,
   "metadata": {},
   "outputs": [],
   "source": [
    "isPermutation([1,3,2])"
   ]
  },
  {
   "cell_type": "markdown",
   "metadata": {},
   "source": [
    "You are given N counters, initially set to 0, and you have two possible operations on them:\n",
    "\n",
    "increase(X) − counter X is increased by 1,\n",
    "max counter − all counters are set to the maximum value of any counter.\n",
    "A non-empty array A of M integers is given. This array represents consecutive operations:\n",
    "\n",
    "if A[K] = X, such that 1 ≤ X ≤ N, then operation K is increase(X),\n",
    "if A[K] = N + 1 then operation K is max counter.\n",
    "\n",
    "Write a function:\n",
    "\n",
    "def func(N, A)\n",
    "\n",
    "that, given an integer N and a non-empty array A consisting of M integers, returns a sequence of integers representing the values of the counters.\n",
    "\n",
    "Result array should be returned as an array of integers.\n"
   ]
  },
  {
   "cell_type": "code",
   "execution_count": null,
   "metadata": {},
   "outputs": [],
   "source": [
    "def maxCounter(N,A):\n",
    "    if N<1:\n",
    "        return []\n",
    "    A_filter=list(filter(lambda x: x>=1 and x<=N+1,A))\n",
    "\n",
    "    \n",
    "    \n",
    "    n_counter=[0]*N\n",
    "    for i in range(len(A_filter)):\n",
    "#        print(i)\n",
    "        if A_filter[i]>=1 and A_filter[i]<=N:\n",
    "            n_counter[A_filter[i]-1]+=1\n",
    "        elif A_filter[i]==N+1:\n",
    "            n_counter=[max(n_counter)]*N\n",
    "        else:\n",
    "            pass\n",
    "    return n_counter\n",
    "        \n",
    "    \n",
    "    \n",
    "    \n",
    "    \n",
    "    \n",
    "    "
   ]
  },
  {
   "cell_type": "code",
   "execution_count": null,
   "metadata": {},
   "outputs": [],
   "source": [
    "maxCounter(5,[3,4,4,6,1,4,4])"
   ]
  },
  {
   "cell_type": "markdown",
   "metadata": {},
   "source": [
    "This is a demo task.\n",
    "\n",
    "Write a function:\n",
    "\n",
    "def func(A)\n",
    "\n",
    "that, given an array A of N integers, returns the smallest positive integer (greater than 0) that does not occur in A.\n"
   ]
  },
  {
   "cell_type": "code",
   "execution_count": null,
   "metadata": {},
   "outputs": [],
   "source": [
    "def smallestInteger(A):\n",
    "    if len(A)==0:\n",
    "        return 1\n",
    "    if max(A)<1:\n",
    "        return 1\n",
    "    A_set=set(A)\n",
    "    start=1\n",
    "    while True:\n",
    "        if start not in A_set:\n",
    "            return start\n",
    "        else:\n",
    "            start+=1\n",
    "\n",
    "    \n",
    "    \n",
    "    \n",
    "    "
   ]
  },
  {
   "cell_type": "code",
   "execution_count": null,
   "metadata": {},
   "outputs": [],
   "source": [
    "smallestInteger([1, 3, 6, 4, 1, 2])"
   ]
  },
  {
   "cell_type": "code",
   "execution_count": null,
   "metadata": {},
   "outputs": [],
   "source": [
    "smallestInteger([1,2,3])"
   ]
  },
  {
   "cell_type": "code",
   "execution_count": null,
   "metadata": {},
   "outputs": [],
   "source": [
    "smallestInteger([-1,-3])"
   ]
  },
  {
   "cell_type": "markdown",
   "metadata": {},
   "source": [
    "A small frog wants to get to the other side of a river. The frog is initially located on one bank of the river (position 0) and wants to get to the opposite bank (position X+1). Leaves fall from a tree onto the surface of the river.\n",
    "\n",
    "You are given an array A consisting of N integers representing the falling leaves. A[K] represents the position where one leaf falls at time K, measured in seconds.\n",
    "\n",
    "The goal is to find the earliest time when the frog can jump to the other side of the river. The frog can cross only when leaves appear at every position across the river from 1 to X (that is, we want to find the earliest moment when all the positions from 1 to X are covered by leaves). You may assume that the speed of the current in the river is negligibly small, i.e. the leaves do not change their positions once they fall in the river.\n",
    "\n",
    "Write a function:\n",
    "\n",
    "def func(X, A)\n",
    "\n",
    "that, given a non-empty array A consisting of N integers and integer X, returns the earliest time when the frog can jump to the other side of the river.\n",
    "\n",
    "If the frog is never able to jump to the other side of the river, the function should return −1.\n"
   ]
  },
  {
   "cell_type": "code",
   "execution_count": null,
   "metadata": {},
   "outputs": [],
   "source": [
    "#Corectness 100% performance 0%\n",
    "\n",
    "def frogRiverOne(X,A):\n",
    "    if X<1:\n",
    "        return -1\n",
    "\n",
    "\n",
    "    while X in set(A):\n",
    "        pop=False\n",
    "        A_set=set(A[:A.index(X)+1])\n",
    "        for i in range(1,X+1):\n",
    "            if i not in A_set:\n",
    "                A[A.index(X)]='T'\n",
    "                pop=True\n",
    "                break\n",
    "            else:\n",
    "                pass\n",
    "        if pop==False:\n",
    "            break\n",
    "#    print(A)\n",
    "    if X not in set(A):\n",
    "        return -1  \n",
    "    \n",
    "    A_new=list(map(lambda x: X if x=='T' else x  ,A))\n",
    "#    print(A_new)\n",
    "    complete_set=set()\n",
    "    for i in range(len(A_new)):\n",
    "        missing=False\n",
    "#        print(A_new[i])\n",
    "        if A_new[i]>=1 and A_new[i]<=X:\n",
    "            complete_set.add(A_new[i])\n",
    "            for j in range(1,X+1):\n",
    "                if j not in complete_set:\n",
    "                    missing=True\n",
    "                    break\n",
    "            if missing==False:\n",
    "                return i\n",
    "    return -1\n",
    "        \n",
    "        \n",
    "        \n",
    "    \n",
    "    \n",
    "    \n",
    "    \n",
    "    "
   ]
  },
  {
   "cell_type": "code",
   "execution_count": null,
   "metadata": {},
   "outputs": [],
   "source": [
    "frogRiverOne(2, [2, 2, 2, 2, 2])"
   ]
  },
  {
   "cell_type": "code",
   "execution_count": null,
   "metadata": {},
   "outputs": [],
   "source": [
    "frogRiverOne(5,[1,3,1,4,2,3,5,4])"
   ]
  },
  {
   "cell_type": "markdown",
   "metadata": {},
   "source": [
    "A DNA sequence can be represented as a string consisting of the letters A, C, G and T, which correspond to the types of successive nucleotides in the sequence. Each nucleotide has an impact factor, which is an integer. Nucleotides of types A, C, G and T have impact factors of 1, 2, 3 and 4, respectively. You are going to answer several queries of the form: What is the minimal impact factor of nucleotides contained in a particular part of the given DNA sequence?\n",
    "\n",
    "The DNA sequence is given as a non-empty string S = S[0]S[1]...S[N-1] consisting of N characters. There are M queries, which are given in non-empty arrays P and Q, each consisting of M integers. The K-th query (0 ≤ K < M) requires you to find the minimal impact factor of nucleotides contained in the DNA sequence between positions P[K] and Q[K] (inclusive).\n",
    "\n",
    "Write a function:\n",
    "\n",
    "def func(S, P, Q)\n",
    "\n",
    "that, given a non-empty string S consisting of N characters and two non-empty arrays P and Q consisting of M integers, returns an array consisting of M integers specifying the consecutive answers to all queries.\n",
    "\n",
    "Result array should be returned as an array of integers.\n"
   ]
  },
  {
   "cell_type": "code",
   "execution_count": null,
   "metadata": {},
   "outputs": [],
   "source": [
    "#100% correctness\n",
    "def get_min_impact(s):\n",
    "    if s[0]=='A':\n",
    "        ret=1\n",
    "    elif s[0]=='C':\n",
    "        ret=2\n",
    "    elif s[0]=='G':\n",
    "        ret=3\n",
    "    else:\n",
    "        ret=4\n",
    "    return ret\n",
    "\n",
    "def GenomicRangeQuery(S,P,Q):\n",
    "    M=len(P)\n",
    "    result=[0]*M\n",
    "    if min(P)>=0 and max(P)<=len(S)-1 and min(Q)>=0 and max(Q)<=len(S)-1:\n",
    "        pass\n",
    "    else:\n",
    "        return result \n",
    "    A,C,G,T=1,2,3,4\n",
    "\n",
    "\n",
    "    S_sort=\"\".join(sorted(S))\n",
    "    for i in range(M):\n",
    "        if abs(P[i]-Q[i])+1>len(S_sort):\n",
    "            result[i]=get_min_impact(S_sort)\n",
    "        else:\n",
    "            start=min(P[i],Q[i])\n",
    "            stop=max(P[i],Q[i])\n",
    "            result[i]=get_min_impact(\"\".join(sorted(S[start:stop+1])))\n",
    "    return result\n",
    "            \n",
    "    \n",
    "    \n",
    "    \n",
    "    \n",
    "    \n",
    "    "
   ]
  },
  {
   "cell_type": "code",
   "execution_count": null,
   "metadata": {},
   "outputs": [],
   "source": [
    "S = \"CAGCCTA\" \n",
    "P=[2,5,0]\n",
    "Q=[4,5,6]"
   ]
  },
  {
   "cell_type": "code",
   "execution_count": null,
   "metadata": {},
   "outputs": [],
   "source": [
    "GenomicRangeQuery(S,P,Q)"
   ]
  },
  {
   "cell_type": "markdown",
   "metadata": {},
   "source": [
    "A non-empty array A consisting of N integers is given. A pair of integers (P, Q), such that 0 ≤ P < Q < N, is called a slice of array A (notice that the slice contains at least two elements). The average of a slice (P, Q) is the sum of A[P] + A[P + 1] + ... + A[Q] divided by the length of the slice. To be precise, the average equals (A[P] + A[P + 1] + ... + A[Q]) / (Q − P + 1).\n",
    "\n",
    "\n",
    "Write a function:\n",
    "\n",
    "def func(A)\n",
    "\n",
    "that, given a non-empty array A consisting of N integers, returns the starting position of the slice with the minimal average. If there is more than one slice with a minimal average, you should return the smallest starting position of such a slice.\n"
   ]
  },
  {
   "cell_type": "code",
   "execution_count": null,
   "metadata": {},
   "outputs": [],
   "source": [
    "#100% correctness 0% performance\n",
    "\n",
    "def movingAverage(A):\n",
    "    min_avg=None\n",
    "    ret=None\n",
    "    if len(A)<3:\n",
    "        return 0\n",
    "    for i in range(len(A)):\n",
    "        for j in range(i+2,len(A)+1):\n",
    "#            print(sum(A[i:j])/len(A[i:j]))\n",
    "#            print(i,j)\n",
    "            if min_avg==None:\n",
    "                min_avg=sum(A[i:j])/len(A[i:j])\n",
    "                ret=i\n",
    "            else:\n",
    "                if min_avg>sum(A[i:j])/len(A[i:j]):\n",
    "                    min_avg=sum(A[i:j])/len(A[i:j])\n",
    "                    ret=i\n",
    "    return ret\n",
    "    \n",
    "     \n",
    "    \n",
    "    \n",
    "    \n",
    "    "
   ]
  },
  {
   "cell_type": "code",
   "execution_count": null,
   "metadata": {},
   "outputs": [],
   "source": [
    "movingAverage([-3, -5, -8, -4, -10])"
   ]
  },
  {
   "cell_type": "code",
   "execution_count": null,
   "metadata": {},
   "outputs": [],
   "source": [
    "movingAverage([4,2,2,5,1,5,8])"
   ]
  },
  {
   "cell_type": "markdown",
   "metadata": {},
   "source": [
    "Write a function:\n",
    "\n",
    "def solution(A, B, K)\n",
    "\n",
    "that, given three integers A, B and K, returns the number of integers within the range [A..B] that are divisible by K, i.e.:\n",
    "\n",
    "{ i : A ≤ i ≤ B, i mod K = 0 }\n"
   ]
  },
  {
   "cell_type": "code",
   "execution_count": null,
   "metadata": {},
   "outputs": [],
   "source": [
    "#100% correctness 100% performance O(1)\n",
    "def divisible(A,B,K):\n",
    "    if A==B:\n",
    "        if A%K==0:\n",
    "            return 1\n",
    "        else:\n",
    "            return 0\n",
    "    \n",
    "    if A%K==0:\n",
    "        start=A\n",
    "    elif A<K:\n",
    "        start=K\n",
    "    else:\n",
    "        start=A-A%K+K\n",
    "    \n",
    "#    print(start)\n",
    "    counter=0\n",
    "    if B<start:\n",
    "        counter=0\n",
    "    elif B==start:\n",
    "        counter=1\n",
    "    else:\n",
    "        counter=(B-start)//K+1\n",
    "#        for i in range(start,B+1,K):\n",
    "#            counter+=1\n",
    "    \n",
    "    return counter\n",
    "    \n",
    "    \n",
    "    \n",
    "    \n",
    "    \n",
    "    \n",
    "    \n",
    "    "
   ]
  },
  {
   "cell_type": "code",
   "execution_count": null,
   "metadata": {},
   "outputs": [],
   "source": [
    "divisible(6,11,2)"
   ]
  },
  {
   "cell_type": "markdown",
   "metadata": {},
   "source": [
    "A non-empty array A consisting of N integers is given. The product of triplet (P, Q, R) equates to A[P] * A[Q] * A[R] (0 ≤ P < Q < R < N).\n",
    "\n",
    "Write a function:\n",
    "\n",
    "def func(A)\n",
    "\n",
    "that, given a non-empty array A, returns the value of the maximal product of any triplet.\n"
   ]
  },
  {
   "cell_type": "code",
   "execution_count": null,
   "metadata": {},
   "outputs": [],
   "source": [
    "#100% correctness 0% performance\n",
    "from itertools import combinations\n",
    "def maxTriplet(A):\n",
    "    if len(A)==3:\n",
    "        return A[0]*A[1]*A[2]\n",
    "    \n",
    "    maxProduct=None\n",
    "    for i in combinations(range(len(A)),3):\n",
    "#        print(A[i[0]],A[i[1]],A[i[2]], A[i[0]]*A[i[1]]*A[i[2]])\n",
    "        if maxProduct==None:\n",
    "            maxProduct=A[i[0]]*A[i[1]]*A[i[2]]\n",
    "        else:\n",
    "            maxProduct=max(maxProduct,A[i[0]]*A[i[1]]*A[i[2]])\n",
    "    return maxProduct\n",
    "    \n",
    "    \n",
    "    \n",
    "    \n",
    "    \n",
    "    "
   ]
  },
  {
   "cell_type": "code",
   "execution_count": null,
   "metadata": {},
   "outputs": [],
   "source": [
    "maxTriplet([3,1,2,-2,5,6])"
   ]
  },
  {
   "cell_type": "markdown",
   "metadata": {},
   "source": [
    "Write a function\n",
    "\n",
    "def func(A)\n",
    "\n",
    "that, given an array A consisting of N integers, returns the number of distinct values in array A.\n"
   ]
  },
  {
   "cell_type": "code",
   "execution_count": null,
   "metadata": {},
   "outputs": [],
   "source": [
    "#100% correctness, 100% performance\n",
    "\n",
    "def distinct(A):\n",
    "\n",
    "    return len(set(A))\n",
    "    \n",
    "    \n",
    "    "
   ]
  },
  {
   "cell_type": "code",
   "execution_count": null,
   "metadata": {},
   "outputs": [],
   "source": [
    "distinct([2,1,1,2,3,1])"
   ]
  },
  {
   "cell_type": "markdown",
   "metadata": {},
   "source": [
    "An array A consisting of N integers is given. A triplet (P, Q, R) is triangular if 0 ≤ P < Q < R < N and:\n",
    "\n",
    "A[P] + A[Q] > A[R],\n",
    "A[Q] + A[R] > A[P],\n",
    "A[R] + A[P] > A[Q].\n",
    "\n",
    "Write a function:\n",
    "\n",
    "def func(A)\n",
    "\n",
    "that, given an array A consisting of N integers, returns 1 if there exists a triangular triplet for this array and returns 0 otherwise.\n"
   ]
  },
  {
   "cell_type": "code",
   "execution_count": null,
   "metadata": {},
   "outputs": [],
   "source": [
    "#100 correctness, 33% performance\n",
    "\n",
    "from itertools import combinations\n",
    "\n",
    "def isTriangle(a,b,c):\n",
    "    if a+b>c and a+c>b and b+c>a:\n",
    "        return True\n",
    "    else:\n",
    "        return False\n",
    "    \n",
    "    \n",
    "\n",
    "def hasTriangle(A):\n",
    "    if len(A)<3:\n",
    "        return 0\n",
    "    for i in combinations(range(len(A)),3):\n",
    "        if isTriangle(A[i[0]],A[i[1]], A[i[2]]):\n",
    "            return 1\n",
    "    return 0\n",
    "            \n",
    "            \n",
    "            \n",
    "            \n",
    "        \n",
    "        \n",
    "        \n",
    "    \n",
    "    "
   ]
  },
  {
   "cell_type": "code",
   "execution_count": null,
   "metadata": {},
   "outputs": [],
   "source": [
    "hasTriangle([10,2,5,1,8,20])"
   ]
  },
  {
   "cell_type": "code",
   "execution_count": null,
   "metadata": {},
   "outputs": [],
   "source": [
    "hasTriangle([10,50,5,1])"
   ]
  },
  {
   "cell_type": "markdown",
   "metadata": {},
   "source": [
    "We draw N discs on a plane. The discs are numbered from 0 to N − 1. An array A of N non-negative integers, specifying the radiuses of the discs, is given. The J-th disc is drawn with its center at (J, 0) and radius A[J].\n",
    "\n",
    "The J-th disc and K-th disc intersect if J ≠ K and the J-th and K-th discs have at least one common point (assuming that the discs contain their borders).\n",
    "\n",
    "\n",
    "Write a function:\n",
    "\n",
    "def func(A)\n",
    "\n",
    "that, given an array A describing N discs as explained above, returns the number of (unordered) pairs of intersecting discs. The function should return −1 if the number of intersecting pairs exceeds 10,000,000.\n"
   ]
  },
  {
   "cell_type": "code",
   "execution_count": null,
   "metadata": {},
   "outputs": [],
   "source": [
    "#100% correctness 0% performance\n",
    "\n",
    "from itertools import combinations\n",
    "\n",
    "def isInterset(a,b,x,y):\n",
    "    if a+b>=abs(y-x):\n",
    "        return True\n",
    "    else:\n",
    "        return False  \n",
    "    \n",
    "\n",
    "def interSet(A):\n",
    "    if len(A)<2:\n",
    "        return 0\n",
    "    \n",
    "    counter=0\n",
    "    for i in combinations(range(len(A)),2):\n",
    "        if isInterset(A[i[0]],A[i[1]],i[0],i[1]):\n",
    "            counter+=1\n",
    "    return counter\n",
    "            \n",
    "            \n",
    "        \n",
    "        \n",
    "        \n",
    "        \n",
    "    \n",
    "    \n",
    "    \n",
    "    \n",
    "    "
   ]
  },
  {
   "cell_type": "code",
   "execution_count": null,
   "metadata": {},
   "outputs": [],
   "source": [
    "interSet([1,5,2,1,4,0])"
   ]
  },
  {
   "cell_type": "markdown",
   "metadata": {},
   "source": [
    "You are given two non-empty arrays A and B consisting of N integers. Arrays A and B represent N voracious fish in a river, ordered downstream along the flow of the river.\n",
    "\n",
    "The fish are numbered from 0 to N − 1. If P and Q are two fish and P < Q, then fish P is initially upstream of fish Q. Initially, each fish has a unique position.\n",
    "\n",
    "Fish number P is represented by A[P] and B[P]. Array A contains the sizes of the fish. All its elements are unique. Array B contains the directions of the fish. It contains only 0s and/or 1s, where:\n",
    "\n",
    "0 represents a fish flowing upstream,\n",
    "1 represents a fish flowing downstream.\n",
    "If two fish move in opposite directions and there are no other (living) fish between them, they will eventually meet each other. Then only one fish can stay alive − the larger fish eats the smaller one. More precisely, we say that two fish P and Q meet each other when P < Q, B[P] = 1 and B[Q] = 0, and there are no living fish between them. After they meet:\n",
    "\n",
    "If A[P] > A[Q] then P eats Q, and P will still be flowing downstream,\n",
    "If A[Q] > A[P] then Q eats P, and Q will still be flowing upstream.\n",
    "We assume that all the fish are flowing at the same speed. That is, fish moving in the same direction never meet. The goal is to calculate the number of fish that will stay alive.\n",
    "\n",
    "Write a function:\n",
    "\n",
    "def func(A, B)\n",
    "\n",
    "that, given two non-empty arrays A and B consisting of N integers, returns the number of fish that will stay alive.\n"
   ]
  },
  {
   "cell_type": "code",
   "execution_count": null,
   "metadata": {},
   "outputs": [],
   "source": [
    "#100% correctness 50% performance\n",
    "\n",
    "def willMeet(b1,b2):\n",
    "    if b1^b2==0:\n",
    "        return False\n",
    "    elif b1==0:\n",
    "        return False\n",
    "    else:\n",
    "        return True\n",
    "\n",
    "    \n",
    "    \n",
    "    \n",
    "    \n",
    "\n",
    "def fish(A,B):\n",
    "    if len(A)==1:\n",
    "        return 1\n",
    "    \n",
    "    pointer=0\n",
    "    while pointer<len(A)-1:\n",
    "        if willMeet(B[pointer],B[pointer+1]):\n",
    "            if A[pointer]>A[pointer+1]:\n",
    "                A.pop(pointer+1)\n",
    "                B.pop(pointer+1)\n",
    "            else:\n",
    "                A.pop(pointer)\n",
    "                B.pop(pointer)\n",
    "            pointer=0\n",
    "        else:\n",
    "            pointer+=1\n",
    "    return len(A)\n",
    "            \n",
    "    \n",
    "    \n",
    "    \n",
    "    \n",
    "    \n",
    "    \n",
    "    \n",
    "    \n",
    "    \n",
    "    "
   ]
  },
  {
   "cell_type": "code",
   "execution_count": null,
   "metadata": {},
   "outputs": [],
   "source": [
    "fish([5,1,3],[1,1,0])"
   ]
  },
  {
   "cell_type": "code",
   "execution_count": null,
   "metadata": {},
   "outputs": [],
   "source": [
    "fish([4,3,2,1,5],[0,1,0,0,0])"
   ]
  },
  {
   "cell_type": "code",
   "execution_count": null,
   "metadata": {},
   "outputs": [],
   "source": [
    "fish([1,2],[1,1])"
   ]
  },
  {
   "cell_type": "code",
   "execution_count": null,
   "metadata": {},
   "outputs": [],
   "source": [
    "fish([1,2,3,6,5],[1,0,1,0,1])"
   ]
  },
  {
   "cell_type": "code",
   "execution_count": null,
   "metadata": {},
   "outputs": [],
   "source": [
    "fish([5,1,3],[1,1,0])"
   ]
  },
  {
   "cell_type": "markdown",
   "metadata": {},
   "source": [
    "A string S consisting of N characters is called properly nested if:\n",
    "\n",
    "S is empty;\n",
    "S has the form \"(U)\" where U is a properly nested string;\n",
    "S has the form \"VW\" where V and W are properly nested strings.\n",
    "For example, string \"(()(())())\" is properly nested but string \"())\" isn't.\n",
    "\n",
    "Write a function:\n",
    "\n",
    "def func(S)\n",
    "\n",
    "that, given a string S consisting of N characters, returns 1 if string S is properly nested and 0 otherwise.\n"
   ]
  },
  {
   "cell_type": "code",
   "execution_count": null,
   "metadata": {},
   "outputs": [],
   "source": [
    "#100 correctness 100% performance\n",
    "\n",
    "def isNestedString(S):\n",
    "    sl=list(S)\n",
    "    stack=[]\n",
    "    if len(sl)==0:\n",
    "        return 1\n",
    "    if len(sl)==1:\n",
    "        return 0\n",
    "    if sl[0]==')':\n",
    "        return 0\n",
    "    \n",
    "    for i in range(len(sl)):\n",
    "        if sl[i]==')':\n",
    "            if len(stack)==0:\n",
    "                return 0\n",
    "            else:\n",
    "                stack.pop(-1)\n",
    "        else:\n",
    "            stack.append(sl[i])\n",
    "    \n",
    "    if len(stack)==0:\n",
    "        return 1\n",
    "    else:\n",
    "        return 0\n",
    "        \n",
    "        \n",
    "        \n",
    "    \n",
    "    \n",
    "    \n",
    "    \n",
    "    "
   ]
  },
  {
   "cell_type": "code",
   "execution_count": null,
   "metadata": {},
   "outputs": [],
   "source": [
    "isNestedString(\"(()(())()\")"
   ]
  },
  {
   "cell_type": "markdown",
   "metadata": {},
   "source": [
    "An array A consisting of N integers is given. The dominator of array A is the value that occurs in more than half of the elements of A.\n",
    "\n",
    "Write a function\n",
    "\n",
    "def func(A)\n",
    "\n",
    "that, given an array A consisting of N integers, returns index of any element of array A in which the dominator of A occurs. The function should return −1 if array A does not have a dominator.\n"
   ]
  },
  {
   "cell_type": "code",
   "execution_count": null,
   "metadata": {},
   "outputs": [],
   "source": [
    "#100% correctness 100% performance\n",
    "\n",
    "from collections import Counter\n",
    "\n",
    "def dominator(A):\n",
    "    d_list=list(filter(lambda x: x[1]>len(A)*0.5,Counter(A).items()))\n",
    "    if len(d_list)==0:\n",
    "        return -1\n",
    "    return A.index(d_list[0][0])\n",
    "            \n",
    "    \n",
    "    \n",
    "    \n",
    "    \n",
    "    "
   ]
  },
  {
   "cell_type": "code",
   "execution_count": null,
   "metadata": {},
   "outputs": [],
   "source": [
    "dominator([1,3,3,4,3,2,3,-1,3,3])"
   ]
  },
  {
   "cell_type": "markdown",
   "metadata": {},
   "source": [
    "A non-empty array A consisting of N integers is given.\n",
    "\n",
    "The leader of this array is the value that occurs in more than half of the elements of A.\n",
    "\n",
    "An equi leader is an index S such that 0 ≤ S < N − 1 and two sequences A[0], A[1], ..., A[S] and A[S + 1], A[S + 2], ..., A[N − 1] have leaders of the same value.\n",
    "\n",
    "\n",
    "Write a function:\n",
    "\n",
    "def func(A)\n",
    "\n",
    "that, given a non-empty array A consisting of N integers, returns the number of equi leaders.\n",
    "\n"
   ]
  },
  {
   "cell_type": "code",
   "execution_count": null,
   "metadata": {},
   "outputs": [],
   "source": [
    "#100% correctness 0% performance\n",
    "\n",
    "from collections import Counter\n",
    "\n",
    "def getLeader(arr):\n",
    "    d_list=list(filter(lambda x: x[1]>len(arr)*0.5,Counter(arr).items()))\n",
    "    if len(d_list)==0:\n",
    "        return None\n",
    "    else:\n",
    "        return d_list[0][0]\n",
    "\n",
    "def equileader(A):\n",
    "    if len(A)==1:\n",
    "        return 0\n",
    "    if len(A)==2:\n",
    "        if A[0]==A[1]:\n",
    "            return 1\n",
    "        else:\n",
    "            return 0\n",
    "    if len(A)==3:\n",
    "        if len(set(A))==1:\n",
    "            return 1\n",
    "    \n",
    "    pointer1=0\n",
    "    pointer2=0\n",
    "    \n",
    "    e_count=0\n",
    "    for i in range(len(A)):\n",
    "        l1=getLeader(A[:i+1])\n",
    "        l2=getLeader(A[i+1:])\n",
    "        if l1==None or l2==None:\n",
    "            continue\n",
    "        if l1==l2:\n",
    "            e_count+=1\n",
    "#            print(A[:i+1],A[i+1:])\n",
    "    return e_count\n",
    "        \n",
    "        \n",
    "        \n",
    "        \n",
    "        \n",
    "    \n",
    "    \n",
    "    \n",
    "        \n",
    "        \n",
    "        \n",
    "    \n",
    "    \n",
    "    \n",
    "    \n",
    "    \n",
    "    "
   ]
  },
  {
   "cell_type": "code",
   "execution_count": null,
   "metadata": {},
   "outputs": [],
   "source": [
    "equileader([4,3,4,4,4,2])"
   ]
  },
  {
   "cell_type": "code",
   "execution_count": null,
   "metadata": {},
   "outputs": [],
   "source": [
    "getLeader([1])"
   ]
  },
  {
   "cell_type": "code",
   "execution_count": null,
   "metadata": {},
   "outputs": [],
   "source": [
    "getLeader([3, 3, 4, 3, 2, 3, -1, 3, 3])"
   ]
  },
  {
   "cell_type": "markdown",
   "metadata": {},
   "source": [
    "An array A consisting of N integers is given. It contains daily prices of a stock share for a period of N consecutive days. If a single share was bought on day P and sold on day Q, where 0 ≤ P ≤ Q < N, then the profit of such transaction is equal to A[Q] − A[P], provided that A[Q] ≥ A[P]. Otherwise, the transaction brings loss of A[P] − A[Q].\n",
    "\n",
    "Write a function,\n",
    "\n",
    "def func(A)\n",
    "\n",
    "that, given an array A consisting of N integers containing daily prices of a stock share for a period of N consecutive days, returns the maximum possible profit from one transaction during this period. The function should return 0 if it was impossible to gain any profit.\n"
   ]
  },
  {
   "cell_type": "code",
   "execution_count": null,
   "metadata": {},
   "outputs": [],
   "source": [
    "#100% correctness 25% performance\n",
    "def maxProfit(A):\n",
    "    if len(A)<2:\n",
    "        return 0\n",
    "    \n",
    "    pointer1=0\n",
    "    pointer2=0\n",
    "\n",
    "    profit_list=[]\n",
    "    \n",
    "    for i in range(len(A)):\n",
    "        pointer1=i\n",
    "        pointer2=A.index(max(A[pointer1:]),pointer1)\n",
    "        \n",
    "        profit_list.append(A[pointer2]-A[pointer1])\n",
    "    return max(profit_list)\n",
    "        \n",
    "    \n",
    "    \n",
    "    \n",
    "    "
   ]
  },
  {
   "cell_type": "code",
   "execution_count": null,
   "metadata": {},
   "outputs": [],
   "source": [
    "maxProfit([23171,21011,21123,21366,21013,21367])"
   ]
  },
  {
   "cell_type": "markdown",
   "metadata": {},
   "source": [
    "A non-empty array A consisting of N integers is given. A pair of integers (P, Q), such that 0 ≤ P ≤ Q < N, is called a slice of array A. The sum of a slice (P, Q) is the total of A[P] + A[P+1] + ... + A[Q].\n",
    "\n",
    "Write a function:\n",
    "\n",
    "def func(A)\n",
    "\n",
    "that, given an array A consisting of N integers, returns the maximum sum of any slice of A.\n"
   ]
  },
  {
   "cell_type": "code",
   "execution_count": null,
   "metadata": {},
   "outputs": [],
   "source": [
    "#works, too slow, some longer functionality tests timed out\n",
    "\n",
    "from itertools import combinations\n",
    "\n",
    "def isConsecutive(arr):\n",
    "    if len(arr)==0:\n",
    "        return False\n",
    "    if len(arr)==1:\n",
    "        return True\n",
    "    for i in range(len(arr)):\n",
    "        if i==0:\n",
    "            prev=arr[i]\n",
    "        else:\n",
    "            if arr[i]-prev!=1:\n",
    "                return False\n",
    "            else:\n",
    "                prev=arr[i]\n",
    "    return True\n",
    "\n",
    "def maxSlice(A):\n",
    "    if len(A)==1:\n",
    "        return A[0]\n",
    "    \n",
    "    sum_list=[]\n",
    "    for i in range(1,len(A)+1):\n",
    "#        print(\"test\",i)\n",
    "        for j in filter(lambda x: isConsecutive(x),combinations(range(len(A)),i)):\n",
    "            total=0\n",
    "            for k in j:\n",
    "                total+=A[k]\n",
    "            sum_list.append(total)\n",
    "#    print(sum_list)\n",
    "    return max(sum_list)\n",
    "        \n",
    "        \n",
    "    \n",
    "    \n",
    "    \n",
    "    \n",
    "    \n",
    "    \n",
    "    \n",
    "    "
   ]
  },
  {
   "cell_type": "code",
   "execution_count": null,
   "metadata": {},
   "outputs": [],
   "source": [
    "maxSlice([3, 2, -6, 4, 0])"
   ]
  },
  {
   "cell_type": "code",
   "execution_count": null,
   "metadata": {},
   "outputs": [],
   "source": [
    "#improved, 100 correctness, 20% performance O(N^3)\n",
    "def maxSlice(A):\n",
    "    if len(A)==1:\n",
    "        return A[0]\n",
    "    \n",
    "    starting=0\n",
    "\n",
    "    \n",
    "    while starting<len(A):\n",
    "        for ending in range(starting+1,len(A)+1):\n",
    "            if starting==0 and ending==1:\n",
    "                max_sum=sum(A[starting:ending])\n",
    "            else:\n",
    "                max_sum=max(max_sum,sum(A[starting:ending]))\n",
    "        starting+=1\n",
    "        \n",
    "    \n",
    "    \n",
    "    return max_sum\n",
    "        \n",
    "        \n",
    "    \n",
    "    "
   ]
  },
  {
   "cell_type": "code",
   "execution_count": null,
   "metadata": {},
   "outputs": [],
   "source": [
    "maxSlice([-2, -2])"
   ]
  },
  {
   "cell_type": "markdown",
   "metadata": {},
   "source": [
    "A non-empty array A consisting of N integers is given.\n",
    "\n",
    "A triplet (X, Y, Z), such that 0 ≤ X < Y < Z < N, is called a double slice.\n",
    "\n",
    "The sum of double slice (X, Y, Z) is the total of A[X + 1] + A[X + 2] + ... + A[Y − 1] + A[Y + 1] + A[Y + 2] + ... + A[Z − 1].\n",
    "\n",
    "Write a function:\n",
    "\n",
    "def func(A)\n",
    "\n",
    "that, given a non-empty array A consisting of N integers, returns the maximal sum of any double slice.\n"
   ]
  },
  {
   "cell_type": "code",
   "execution_count": null,
   "metadata": {},
   "outputs": [],
   "source": [
    "#100% correctness, 14% performance\n",
    "def maxDoubleSliceSum(A):\n",
    "    if len(A)==3:\n",
    "        return 0\n",
    "    \n",
    "    if max(A)<=0:\n",
    "        return 0\n",
    "    \n",
    "  #  X,Y,Z=0,1,2\n",
    "    for i in range(len(A)):\n",
    "        for j in range(i+1,len(A)):\n",
    "            for k in range(j+1,len(A)):\n",
    "                if i==0 and j==1 and k==2:\n",
    "                    max_sum=sum(A[i+1:j])+sum(A[j+1:k])\n",
    "                else:\n",
    "                    max_sum=max(max_sum,sum(A[i+1:j])+sum(A[j+1:k]))\n",
    "    return max_sum\n",
    "                \n",
    "                \n",
    "                \n",
    "                \n",
    "    \n",
    "    \n",
    "    \n",
    "    \n",
    "    \n",
    "    \n",
    "    \n",
    "    "
   ]
  },
  {
   "cell_type": "code",
   "execution_count": null,
   "metadata": {},
   "outputs": [],
   "source": [
    "maxDoubleSliceSum([3,2,6,-1,4,5,-1,2])"
   ]
  },
  {
   "cell_type": "code",
   "execution_count": null,
   "metadata": {},
   "outputs": [],
   "source": [
    "maxDoubleSliceSum([2,2,2,2,2,2,2])"
   ]
  },
  {
   "cell_type": "markdown",
   "metadata": {},
   "source": [
    "A positive integer D is a factor of a positive integer N if there exists an integer M such that N = D * M.\n",
    "\n",
    "For example, 6 is a factor of 24, because M = 4 satisfies the above condition (24 = 6 * 4).\n",
    "\n",
    "Write a function:\n",
    "\n",
    "def func(N)\n",
    "\n",
    "that, given a positive integer N, returns the number of its factors.\n"
   ]
  },
  {
   "cell_type": "code",
   "execution_count": null,
   "metadata": {},
   "outputs": [],
   "source": [
    "#100% correctness 0% performance\n",
    "def maxFactors(N):\n",
    "    if N==1:\n",
    "        return 1\n",
    "\n",
    "    \n",
    "    \n",
    "    factor_count=2\n",
    "    if N%2==0:\n",
    "        for i in range(2,N):\n",
    "            if N%i==0:\n",
    "#                print(i)\n",
    "                factor_count+=1\n",
    "    else:\n",
    "        for i in range(3,N,2):\n",
    "            if N%i==0:\n",
    "#                print(i)\n",
    "                factor_count+=1\n",
    "    return factor_count\n",
    "    \n",
    "    \n",
    "    "
   ]
  },
  {
   "cell_type": "code",
   "execution_count": null,
   "metadata": {},
   "outputs": [],
   "source": [
    "maxFactors(6)"
   ]
  },
  {
   "cell_type": "markdown",
   "metadata": {},
   "source": [
    "An integer N is given, representing the area of some rectangle.\n",
    "\n",
    "The area of a rectangle whose sides are of length A and B is A * B, and the perimeter is 2 * (A + B).\n",
    "\n",
    "The goal is to find the minimal perimeter of any rectangle whose area equals N. The sides of this rectangle should be only integers.\n",
    "\n",
    "def solution(N)\n",
    "\n",
    "that, given an integer N, returns the minimal perimeter of any rectangle whose area is exactly equal to N.\n",
    "\n"
   ]
  },
  {
   "cell_type": "code",
   "execution_count": null,
   "metadata": {},
   "outputs": [],
   "source": [
    "#100% correctness 0% performance\n",
    "def MinPerimeterRectangle(N):\n",
    "    if N==1:\n",
    "        return 4\n",
    "    min_perimeter=2*(1+N)\n",
    "    for i in range(2,int(N/2)+1):\n",
    "        if N%i==0:\n",
    "            min_perimeter=min(min_perimeter,2*(i+N//i))\n",
    "\n",
    "    return min_perimeter\n",
    "            \n",
    "    \n",
    "    \n",
    "    "
   ]
  },
  {
   "cell_type": "code",
   "execution_count": null,
   "metadata": {},
   "outputs": [],
   "source": [
    "MinPerimeterRectangle(40)"
   ]
  },
  {
   "cell_type": "markdown",
   "metadata": {},
   "source": [
    "A non-empty array A consisting of N integers is given.\n",
    "\n",
    "A peak is an array element which is larger than its neighbors. More precisely, it is an index P such that 0 < P < N − 1,  A[P − 1] < A[P] and A[P] > A[P + 1].\n",
    "\n",
    "Write a function:\n",
    "\n",
    "def func(A)\n",
    "\n",
    "that, given a non-empty array A consisting of N integers, returns the maximum number of blocks into which A can be divided.\n"
   ]
  },
  {
   "cell_type": "code",
   "execution_count": null,
   "metadata": {},
   "outputs": [],
   "source": [
    "#correctness 83%\n",
    "\n",
    "def hasPeak(arr):\n",
    "    if arr[1]>arr[0] and arr[1]>arr[2]:\n",
    "        return True\n",
    "    else:\n",
    "        return False\n",
    "\n",
    "def peakBlocks(A):\n",
    "    if len(A)<3:\n",
    "        return 0\n",
    "    pointer1=0\n",
    "    pointer2=0\n",
    "    \n",
    "    peak_list=[]\n",
    "    block_list=[]\n",
    "    for i in range(len(A)-2):\n",
    "        if hasPeak(A[i:i+3]):\n",
    "            peak_list.append(i+1)      \n",
    "\n",
    " #   if len(peak_list)<4:\n",
    " #       return len(peak_list)\n",
    "    \n",
    "\n",
    "    for i in range(len(peak_list)-1):\n",
    "        if peak_list[i+1]-peak_list[i]<3:\n",
    "            block_list.append(A[peak_list[i]-2:peak_list[i]+1])\n",
    "        else:\n",
    "            block_list.append(A[peak_list[i]-1:peak_list[i]+2])\n",
    "    block_list.append(A[peak_list[-1]-1:peak_list[-1]+2])\n",
    "    print(block_list)\n",
    "        \n",
    "        \n",
    "    return len(block_list)\n",
    "        \n",
    "        \n",
    "        \n",
    "        \n",
    "    \n",
    "    \n",
    "    "
   ]
  },
  {
   "cell_type": "code",
   "execution_count": null,
   "metadata": {},
   "outputs": [],
   "source": [
    "peakBlocks([1,2,3,4,3,4,1,2,3,4,6,2])"
   ]
  },
  {
   "cell_type": "code",
   "execution_count": null,
   "metadata": {},
   "outputs": [],
   "source": [
    "peakBlocks([2, 3, 5, 7, 11, 13, 19, 17, 23, 29, 31, 43, 41, 39, 47, 53, 59, 61, 67, 71, 73, 79, 83, 89, 97])"
   ]
  },
  {
   "cell_type": "markdown",
   "metadata": {},
   "source": [
    "A non-empty array A consisting of N integers is given.\n",
    "\n",
    "A peak is an array element which is larger than its neighbours. More precisely, it is an index P such that 0 < P < N − 1 and A[P − 1] < A[P] > A[P + 1].\n",
    "\n",
    "Write a function:\n",
    "\n",
    "class func (A)\n",
    "\n",
    "that, given a non-empty array A of N integers, returns the maximum number of flags that can be set on the peaks of the array.\n"
   ]
  },
  {
   "cell_type": "code",
   "execution_count": null,
   "metadata": {},
   "outputs": [],
   "source": [
    "#75% correctness 0% performance\n",
    "\n",
    "def hasPeak(arr):\n",
    "    if arr[1]>arr[0] and arr[1]>arr[2]:\n",
    "        return True\n",
    "    else:\n",
    "        return False\n",
    "\n",
    "def flags(A):\n",
    "    if len(A)<3:\n",
    "        return 0\n",
    "    \n",
    "    peak_list=[]\n",
    "\n",
    "    for i in range(len(A)-2):\n",
    "        if hasPeak(A[i:i+3]):\n",
    "            peak_list.append(i+1)   \n",
    "\n",
    "\n",
    "    \n",
    "    peak_list.sort()\n",
    "\n",
    "\n",
    "    \n",
    "    while True:\n",
    " #       print(peak_list)\n",
    "        if len(peak_list)==0:\n",
    "            return 0\n",
    "    \n",
    "        if len(peak_list)==1:\n",
    "            return 1\n",
    "\n",
    "        distance=[]\n",
    "        prev_peak=peak_list[0]\n",
    "        for i in range(1,len(peak_list)):\n",
    "            distance.append(peak_list[i]-prev_peak)\n",
    "            prev_peak=peak_list[i]\n",
    "            \n",
    "        if min(distance)>=len(peak_list):\n",
    "            break\n",
    "        else:\n",
    "            peak_index=distance.index(min(distance))\n",
    "            if peak_index==len(distance)-1:\n",
    "                drop_index=peak_index\n",
    "            elif peak_index==0:\n",
    "                drop_index=peak_index+1\n",
    "            else:\n",
    "                drop_index=peak_index\n",
    "\n",
    "            \n",
    "            peak_list.pop(drop_index)\n",
    " #           print(peak_list)\n",
    " \n",
    "        \n",
    "        \n",
    "        \n",
    "    return len(peak_list)\n",
    "    \n",
    "    \n",
    "    \n",
    "    \n",
    "    \n",
    "    \n",
    "    "
   ]
  },
  {
   "cell_type": "code",
   "execution_count": null,
   "metadata": {},
   "outputs": [],
   "source": [
    "flags([1,5,3,4,3,4,1,2,3,4,6,2])"
   ]
  },
  {
   "cell_type": "code",
   "execution_count": null,
   "metadata": {},
   "outputs": [],
   "source": [
    "flags([0, 0, 0, 0, 0, 1, 0, 1, 0, 1])"
   ]
  },
  {
   "cell_type": "markdown",
   "metadata": {},
   "source": [
    "A prime is a positive integer X that has exactly two distinct divisors: 1 and X. The first few prime integers are 2, 3, 5, 7, 11 and 13.\n",
    "\n",
    "A semiprime is a natural number that is the product of two (not necessarily distinct) prime numbers. The first few semiprimes are 4, 6, 9, 10, 14, 15, 21, 22, 25, 26.\n",
    "\n",
    "You are given two non-empty arrays P and Q, each consisting of M integers. These arrays represent queries about the number of semiprimes within specified ranges.\n",
    "\n",
    "Query K requires you to find the number of semiprimes within the range (P[K], Q[K]), where 1 ≤ P[K] ≤ Q[K] ≤ N.\n",
    "\n",
    "Write a function:\n",
    "\n",
    "def func(N, P, Q)\n",
    "\n",
    "that, given an integer N and two non-empty arrays P and Q consisting of M integers, returns an array consisting of M elements specifying the consecutive answers to all the queries.\n"
   ]
  },
  {
   "cell_type": "code",
   "execution_count": null,
   "metadata": {},
   "outputs": [],
   "source": [
    "#100% correctness 20% performance\n",
    "\n",
    "from itertools import combinations\n",
    "\n",
    "def isPrime(N):\n",
    "    if N<2:\n",
    "        return False\n",
    "    iter_stop=N//2+1\n",
    "\n",
    "    for start in range(2,iter_stop):\n",
    "        end=iter_stop-start+2\n",
    " \n",
    "        if start>end:\n",
    "            break\n",
    "\n",
    "        if N%start==0:\n",
    "            return False\n",
    "        if N%end==0:\n",
    "            return False\n",
    "    return True\n",
    "    \n",
    "def semiPrime(N,P,Q):\n",
    "    \n",
    "    M=[0]*len(P)\n",
    "    if N==1:\n",
    "        return M\n",
    "\n",
    "    for i in range(len(P)):\n",
    "        if P[i]>Q[i]:\n",
    "            continue\n",
    "        else:\n",
    "            if P[i]>N:\n",
    "                P[i]=N\n",
    "        if Q[i]>N:\n",
    "            Q[i]=N\n",
    "#        print(P[i],Q[i])        \n",
    "#        if Q[i]<=P[i]+1:\n",
    "#            continue\n",
    "        \n",
    "        prime=[]\n",
    "        for j in range(2,(Q[i]//2)+1):\n",
    "#            print(j)\n",
    "            if isPrime(j):\n",
    "                 prime.append(j)\n",
    "        \n",
    "        if len(prime)==0:\n",
    "            continue\n",
    "        \n",
    "#        print(prime)\n",
    "        semi_prime=list(map(lambda y: prime[y[0]]*prime[y[1]],\\\n",
    "                            filter(lambda x: prime[x[0]]*prime[x[1]]>=P[i] and prime[x[0]]*prime[x[1]]<=Q[i], \\\n",
    "                          combinations(range(len(prime)),2))))\n",
    "        semi_prime.extend([j**2 for j in prime if j**2 >=P[i] and j**2 <=Q[i]])\n",
    "#        print(semi_prime)\n",
    "        M[i]=len(semi_prime)\n",
    "\n",
    "    return M\n",
    "        \n",
    "\n",
    "        \n",
    "        \n",
    "        \n",
    "            \n",
    "            \n",
    "    \n",
    "    \n",
    "    "
   ]
  },
  {
   "cell_type": "code",
   "execution_count": null,
   "metadata": {},
   "outputs": [],
   "source": [
    "semiPrime(26,[1,4,16],[26,10,20])"
   ]
  },
  {
   "cell_type": "code",
   "execution_count": null,
   "metadata": {},
   "outputs": [],
   "source": [
    "semiPrime(26,[1],[26])"
   ]
  },
  {
   "cell_type": "code",
   "execution_count": null,
   "metadata": {},
   "outputs": [],
   "source": [
    "semiPrime(1, [1], [1])"
   ]
  },
  {
   "cell_type": "code",
   "execution_count": null,
   "metadata": {},
   "outputs": [],
   "source": [
    "semiPrime(4,[1,4,16],[26,10,20])"
   ]
  },
  {
   "cell_type": "markdown",
   "metadata": {},
   "source": [
    "You are given an array A consisting of N integers.\n",
    "\n",
    "For each number A[i] such that 0 ≤ i < N, we want to count the number of elements of the array that are not the divisors of A[i]. We say that these elements are non-divisors.\n",
    "\n",
    "\n",
    "Write a function:\n",
    "\n",
    "def func(A)\n",
    "\n",
    "that, given an array A consisting of N integers, returns a sequence of integers representing the amount of non-divisors.\n",
    "\n",
    "Result array should be returned as an array of integers.\n",
    "\n"
   ]
  },
  {
   "cell_type": "code",
   "execution_count": null,
   "metadata": {},
   "outputs": [],
   "source": [
    "#100% correctness, 0% performance\n",
    "\n",
    "def nonDivisor(A):\n",
    "    ND=[0]*len(A)\n",
    "    if len(A)==1:\n",
    "        return ND\n",
    "    \n",
    "    pointer=0\n",
    "    while True:\n",
    "        if pointer>len(A)-1:\n",
    "            break\n",
    "        ND[pointer]=len([A[i] for i in range(len(A)) if i!=pointer and A[pointer]%A[i]!=0])\n",
    "        pointer+=1\n",
    "    return ND\n",
    "        \n",
    "        \n",
    "        \n",
    "        \n",
    "        \n",
    "        \n",
    "    "
   ]
  },
  {
   "cell_type": "code",
   "execution_count": null,
   "metadata": {},
   "outputs": [],
   "source": [
    "nonDivisor([3,1,2,3,6])"
   ]
  },
  {
   "cell_type": "markdown",
   "metadata": {},
   "source": [
    "Two positive integers N and M are given. Integer N represents the number of chocolates arranged in a circle, numbered from 0 to N − 1.\n",
    "\n",
    "You start to eat the chocolates. After eating a chocolate you leave only a wrapper.\n",
    "\n",
    "You begin with eating chocolate number 0. Then you omit the next M − 1 chocolates or wrappers on the circle, and eat the following one.\n",
    "\n",
    "More precisely, if you ate chocolate number X, then you will next eat the chocolate with number (X + M) modulo N (remainder of division).\n",
    "\n",
    "You stop eating when you encounter an empty wrapper.\n",
    "\n",
    "The goal is to count the number of chocolates that you will eat, following the above rules.\n",
    "\n",
    "Write a function:\n",
    "\n",
    "def func(N, M)\n",
    "\n",
    "that, given two positive integers N and M, returns the number of chocolates that you will eat.\n"
   ]
  },
  {
   "cell_type": "code",
   "execution_count": null,
   "metadata": {},
   "outputs": [],
   "source": [
    "#100% correctness 0% performance Traverse cycle linkedlist is slow\n",
    "class CycleList(object):\n",
    "    def __init__(self,content):\n",
    "        self.next=None\n",
    "        self.content=content\n",
    "\n",
    "\n",
    "def chocolate(N,M):\n",
    "    if N==1:\n",
    "        return 1\n",
    "    \n",
    "    chk=[0]*N\n",
    "    for i in range(N):\n",
    "        chk[i]=CycleList('C')\n",
    "\n",
    "    for i in range(N-1):\n",
    "#        print(chk[i].ind)\n",
    "        chk[i].next=chk[i+1]\n",
    "    \n",
    "\n",
    "    chk[-1].next=chk[0]\n",
    "    \n",
    "    eat_count=0\n",
    "    pointer=0\n",
    "    x=chk[0]\n",
    "    while True:\n",
    "        \n",
    "\n",
    "        if x.content=='W':\n",
    "            break\n",
    "        x.content='W'\n",
    "        eat_count+=1\n",
    "        x=x.next\n",
    "\n",
    "        if M<2:\n",
    "            pass\n",
    "        else:\n",
    "            for _ in range(M-1):\n",
    "                x=x.next\n",
    "            \n",
    "    return eat_count\n",
    "        \n",
    "        \n",
    "        \n",
    "    \n",
    "    \n",
    "    "
   ]
  },
  {
   "cell_type": "code",
   "execution_count": null,
   "metadata": {},
   "outputs": [],
   "source": [
    "chocolate(10,4)"
   ]
  },
  {
   "cell_type": "code",
   "execution_count": null,
   "metadata": {},
   "outputs": [],
   "source": [
    "chocolate(2,1)"
   ]
  },
  {
   "cell_type": "code",
   "execution_count": null,
   "metadata": {},
   "outputs": [],
   "source": [
    "chocolate(15,3)"
   ]
  },
  {
   "cell_type": "markdown",
   "metadata": {},
   "source": [
    "A prime is a positive integer X that has exactly two distinct divisors: 1 and X. The first few prime integers are 2, 3, 5, 7, 11 and 13.\n",
    "\n",
    "A prime D is called a prime divisor of a positive integer P if there exists a positive integer K such that D * K = P. For example, 2 and 5 are prime divisors of 20.\n",
    "\n",
    "You are given two positive integers N and M. The goal is to check whether the sets of prime divisors of integers N and M are exactly the same.\n",
    "\n",
    "Write a function:\n",
    "\n",
    "def func(A, B)\n",
    "\n",
    "that, given two non-empty arrays A and B of Z integers, returns the number of positions K for which the prime divisors of A[K] and B[K] are exactly the same.\n"
   ]
  },
  {
   "cell_type": "code",
   "execution_count": null,
   "metadata": {},
   "outputs": [],
   "source": [
    "#correctness 57% due to timed out, performance 16%, already using Sieve of Eratosthenes algorithm, need to use more effient algorithm\n",
    "\n",
    "def isPrime(N):\n",
    "    if N<2:\n",
    "        return False\n",
    "    iter_stop=N//2+1\n",
    "\n",
    "    for start in range(2,iter_stop):\n",
    "        end=iter_stop-start+2\n",
    " \n",
    "        if start>end:\n",
    "            break\n",
    "\n",
    "        if N%start==0:\n",
    "            return False\n",
    "        if N%end==0:\n",
    "            return False\n",
    "    return True\n",
    "\n",
    "import math\n",
    "def isPrime1(N):\n",
    "    if N==2:\n",
    "        return True\n",
    "    if N%2==0:\n",
    "        return False\n",
    "    for i in range(3, int(math.sqrt(N)),2):\n",
    "        if i%2!=0:\n",
    "            if N%i==0:\n",
    "                return False\n",
    "    return True\n",
    "\n",
    "def removePrimeNumberSieves(arr,n):\n",
    "    if len(arr)==0 or n<2:\n",
    "        return arr\n",
    "\n",
    "    return [i for i in arr if i%n!=0]\n",
    "            \n",
    "    \n",
    "\n",
    "def commonPrimeDivisor(A,B):\n",
    "    count=0\n",
    "\n",
    "    if A==B:\n",
    "        return len(A)\n",
    "    \n",
    "    '''\n",
    "        from wiki:\n",
    "        \n",
    "        In mathematics, the Sieve of Eratosthenes is a simple, ancient algorithm for finding all prime numbers up to any given limit.\n",
    "\n",
    "It does so by iteratively marking as composite (i.e., not prime) the multiples of each prime, starting with the first prime number, 2. The multiples of a given prime are generated as a sequence of numbers starting from that prime, with constant difference between them that is equal to that prime.[1] This is the sieve's key distinction from using trial division to sequentially test each candidate number for divisibility by each prime.[2]\n",
    "\n",
    "The earliest known reference to the sieve (Ancient Greek: κόσκινον Ἐρατοσθένους, kóskinon Eratosthénous) is in Nicomachus of Gerasa's Introduction to Arithmetic,[3] which describes it and attributes it to Eratosthenes of Cyrene, a Greek mathematician.\n",
    "\n",
    "One of a number of prime number sieves, it is one of the most efficient ways to find all of the smaller primes. It may be used to find primes in arithmetic progressions.[4]\n",
    "        \n",
    "        \n",
    "        \n",
    "        '''\n",
    "    for i in range(len(A)):\n",
    "        if A[i]==0 or B[i]==0:\n",
    "            continue\n",
    "            \n",
    "        if A[i]==1 and B[i]==1:\n",
    "            count+=1\n",
    "            continue\n",
    "        \n",
    "        if A[i]==1 and B[i]>1 or A[i]>1 and B[i]==1:\n",
    "            continue\n",
    "            \n",
    "        if A[i]==B[i] and A[i]>1:\n",
    "            count+=1\n",
    "            continue\n",
    "            \n",
    "        if A[i]<2 or B[i]<2:\n",
    "            continue\n",
    "        if A[i]<5:\n",
    "            working_list=[x for x in range(2,A[i]+1)]\n",
    "        else:\n",
    "            working_list=[x for x in range(2,A[i]//2+1)]\n",
    "        \n",
    "        prime_list=[]\n",
    "        while len(working_list)>0:\n",
    "            pointer=0\n",
    "            if isPrime1(working_list[pointer]):\n",
    "                prime_list.append(working_list[pointer])\n",
    "                working_list=removePrimeNumberSieves(working_list,working_list[pointer])\n",
    "            else:\n",
    "                working_list=removePrimeNumberSieves(working_list,working_list[pointer])\n",
    "#        print(prime_list)       \n",
    "        divisor_list=[x for x in prime_list if A[i]%x==0]\n",
    "#        print(divisor_list)\n",
    "        \n",
    "        if B[i]<5:\n",
    "            working_listB=[x for x in range(2,B[i]+1)]\n",
    "        else:\n",
    "            working_listB=[x for x in range(2,B[i]//2+1)]\n",
    "        \n",
    "        prime_listB=[]\n",
    "        while len(working_listB)>0:\n",
    "            pointer=0\n",
    "            if isPrime1(working_listB[pointer]):\n",
    "                prime_listB.append(working_listB[pointer])\n",
    "                working_listB=removePrimeNumberSieves(working_listB,working_listB[pointer])\n",
    "            else:\n",
    "                working_listB=removePrimeNumberSieves(working_listB,working_listB[pointer])\n",
    "#        print(prime_listB)       \n",
    "        divisor_listB=[x for x in prime_list if B[i]%x==0]\n",
    "        if divisor_list==divisor_listB and len(divisor_list)>0:\n",
    "            count+=1\n",
    "\n",
    "            \n",
    "    return count"
   ]
  },
  {
   "cell_type": "code",
   "execution_count": null,
   "metadata": {},
   "outputs": [],
   "source": [
    "from time import perf_counter\n",
    "t1=perf_counter()\n",
    "commonPrimeDivisor([6059],[442307])\n",
    "t2=perf_counter()\n",
    "print(t2-t1)"
   ]
  },
  {
   "cell_type": "code",
   "execution_count": null,
   "metadata": {},
   "outputs": [],
   "source": [
    "t1=perf_counter()\n",
    "isPrime1(442307000)\n",
    "t2=perf_counter()\n",
    "print(t2-t1)"
   ]
  },
  {
   "cell_type": "markdown",
   "metadata": {},
   "source": [
    "You have to climb up a ladder. The ladder has exactly N rungs, numbered from 1 to N. With each step, you can ascend by one or two rungs. More precisely:\n",
    "\n",
    "with your first step you can stand on rung 1 or 2,\n",
    "if you are on rung K, you can move to rungs K + 1 or K + 2,\n",
    "finally you have to stand on rung N.\n",
    "Your task is to count the number of different ways of climbing to the top of the ladder.\n",
    "\n",
    "Write a function:\n",
    "\n",
    "def func(A, B)\n",
    "\n",
    "that, given two non-empty arrays A and B of L integers, returns an array consisting of L integers specifying the consecutive answers; position I should contain the number of different ways of climbing the ladder with A[I] rungs modulo 2B[I].\n"
   ]
  },
  {
   "cell_type": "code",
   "execution_count": null,
   "metadata": {},
   "outputs": [],
   "source": [
    "#2 tests case timeout, others were correct\n",
    "\n",
    "import itertools\n",
    "def num_way_sum(N):\n",
    "    if N<=0:\n",
    "        return 0\n",
    "    if N<2:\n",
    "        return 1\n",
    "    n_list=['1' for _ in range(N)]\n",
    "    num_way_list=[1]\n",
    "#    print(n_list)\n",
    "    while n_list.count('1')>=2:\n",
    "        n_list.insert(0,'2')             \n",
    "        n_list.pop(len(n_list)-1)\n",
    "        n_list.pop(len(n_list)-1)\n",
    "        permu_list=list(set(itertools.permutations(n_list)))\n",
    "#        print(permu_list)\n",
    "        num_way_list.append(len(permu_list))\n",
    "\n",
    "#    print(num_way_list)\n",
    "    return sum(num_way_list)\n",
    "\n",
    "def ladder(A,B):\n",
    "    result_list=[]\n",
    "    if len(A)==0 or len(A)!=len(B):\n",
    "        return result_list\n",
    "    for i in range(len(A)):\n",
    "        result_list.append(num_way_sum(A[i])%2**B[i])\n",
    "    return result_list\n"
   ]
  },
  {
   "cell_type": "code",
   "execution_count": null,
   "metadata": {},
   "outputs": [],
   "source": [
    "ladder([4,4,5,5,1],[3,2,4,3,1])"
   ]
  },
  {
   "cell_type": "markdown",
   "metadata": {},
   "source": [
    "The Fibonacci sequence is defined using the following recursive formula:\n",
    "\n",
    "    F(0) = 0\n",
    "    F(1) = 1\n",
    "    F(M) = F(M - 1) + F(M - 2) if M >= 2\n",
    "A small frog wants to get to the other side of a river. The frog is initially located at one bank of the river (position −1) and wants to get to the other bank (position N). The frog can jump over any distance F(K), where F(K) is the K-th Fibonacci number. Luckily, there are many leaves on the river, and the frog can jump between the leaves, but only in the direction of the bank at position N.\n",
    "\n",
    "The leaves on the river are represented in an array A consisting of N integers. Consecutive elements of array A represent consecutive positions from 0 to N − 1 on the river. Array A contains only 0s and/or 1s:\n",
    "\n",
    "0 represents a position without a leaf;\n",
    "1 represents a position containing a leaf.\n",
    "The goal is to count the minimum number of jumps in which the frog can get to the other side of the river (from position −1 to position N). The frog can jump between positions −1 and N (the banks of the river) and every position containing a leaf.\n",
    "\n",
    "\n",
    "Write a function:\n",
    "\n",
    "def func(A)\n",
    "\n",
    "that, given an array A consisting of N integers, returns the minimum number of jumps by which the frog can get to the other side of the river. If the frog cannot reach the other side of the river, the function should return −1.\n"
   ]
  },
  {
   "cell_type": "code",
   "execution_count": null,
   "metadata": {},
   "outputs": [],
   "source": [
    "#66% correctness 0% performance\n",
    "import math\n",
    "\n",
    "def Fib(n):\n",
    "    if n<2:\n",
    "        return n\n",
    "    \n",
    "    prev=0\n",
    "    prev_prev=1\n",
    "    for i in range(n):\n",
    "        temp=prev_prev\n",
    "        prev_prev=prev\n",
    "        prev=temp+prev_prev\n",
    "    return prev\n",
    "\n",
    "\n",
    "def isPerfectSquare(n):\n",
    "    x=int(math.sqrt(n))\n",
    "    if x**2==n:\n",
    "        return True\n",
    "    else:\n",
    "        return False\n",
    "\n",
    "def isFinN(n):\n",
    "    '''\n",
    "     A number is Fibonacci if and only if one or both of (5*n**2 + 4) or (5*n**2 – 4) is a perfect square (Source: Wiki).\n",
    "    '''\n",
    "    if isPerfectSquare(5*n*n+4) or isPerfectSquare(5*n*n-4):\n",
    "        return True\n",
    "    else:\n",
    "        return False\n",
    "            \n",
    "                \n",
    "\n",
    "def frogRiverFib(A):\n",
    "    # write your code in Python 3.6\n",
    "    if isFinN(len(A)+1):\n",
    "        return 1\n",
    "#    pass\n",
    "#    print(len(A))\n",
    "\n",
    "\n",
    "    ind_1_list=[i for i in range(len(A)) if A[i]==1]\n",
    "#    print(ind_1_list)\n",
    "    \n",
    "    if isFinN(len(A)+1):\n",
    "        return 1\n",
    "    \n",
    "#choose element ind_1_list which position is a Fib\n",
    "    fib_ind=list(filter(lambda x: isFinN(x+1) ,ind_1_list))\n",
    "\n",
    "#choose distance len(A)-element from ind_1_list is a Fib\n",
    "    fib_distance=list(filter(lambda x: isFinN(len(A)-x),ind_1_list))\n",
    "    \n",
    "\n",
    "    \n",
    "#    print(A)\n",
    "#    print(ind_1_list)\n",
    "#    print(\"hdjsadhasjk\",fib_ind)\n",
    "#    print(fib_distance)\n",
    "    \n",
    "    count_list=[]\n",
    "    path_list=[]\n",
    "    path=[]\n",
    "    for i in fib_ind:\n",
    "        count=1\n",
    "        path.append(i)\n",
    "        if isFinN(len(A)-i):\n",
    "            count+=1\n",
    "            path.append(len(A))\n",
    "            count_list.append(count)\n",
    "            path_list.append(path)\n",
    "            path=[]\n",
    "            continue\n",
    "            \n",
    "        for j in ind_1_list:\n",
    "            if j>i:\n",
    "#                print(i,j)\n",
    "                if isFinN(j-i):\n",
    "                    count+=1\n",
    "                    path.append(j)\n",
    "                    if isFinN(len(A)-j):\n",
    "                        count+=1\n",
    "                        path.append(len(A))\n",
    "                        count_list.append(count)\n",
    "                        path_list.append(path)\n",
    "#                        print(count_list)\n",
    "#                        print(path)\n",
    "                        path=[]\n",
    "                        break\n",
    "                    else:\n",
    "                        count-=1\n",
    "                        path.pop(-1)\n",
    "        count_list.append(-1)\n",
    "        path=[]\n",
    "#    print(count_list)\n",
    "    final_list=[i for i in count_list if i!=-1]\n",
    "    if len(final_list)==0:\n",
    "        return -1\n",
    "    return min(final_list)"
   ]
  },
  {
   "cell_type": "code",
   "execution_count": null,
   "metadata": {},
   "outputs": [],
   "source": [
    "frogRiverFib([0,0,0,1,1,0,1,0,0,0,0])"
   ]
  },
  {
   "cell_type": "code",
   "execution_count": null,
   "metadata": {},
   "outputs": [],
   "source": [
    "frogRiverFib([0,0,0,1,1,0,0,1,1,0,0])"
   ]
  },
  {
   "cell_type": "markdown",
   "metadata": {},
   "source": [
    "You are given two non-empty arrays A and B consisting of N integers. These arrays represent N planks. More precisely, A[K] is the start and B[K] the end of the K−th plank.\n",
    "\n",
    "Next, you are given a non-empty array C consisting of M integers. This array represents M nails. More precisely, C[I] is the position where you can hammer in the I−th nail.\n",
    "\n",
    "A plank (A[K], B[K]) is nailed if there exists a nail C[I] such that A[K] ≤ C[I] ≤ B[K].\n",
    "\n",
    "The goal is to find the minimum number of nails that must be used until all the planks are nailed. In other words, you should find a value J such that all planks will be nailed after using only the first J nails. More precisely, for every plank (A[K], B[K]) such that 0 ≤ K < N, there should exist a nail C[I] such that I < J and A[K] ≤ C[I] ≤ B[K].\n",
    "\n",
    "\n",
    "Write a function:\n",
    "\n",
    "def func(A, B, C)\n",
    "\n",
    "that, given two non-empty arrays A and B consisting of N integers and a non-empty array C consisting of M integers, returns the minimum number of nails that, used sequentially, allow all the planks to be nailed.\n",
    "\n",
    "If it is not possible to nail all the planks, the function should return −1.\n",
    "\n"
   ]
  },
  {
   "cell_type": "code",
   "execution_count": null,
   "metadata": {},
   "outputs": [],
   "source": [
    "#75% correctness, 0% performance\n",
    "\n",
    "def nailPlank(A,B,C):\n",
    "\n",
    "    U=[0]*len(A)\n",
    "    N=[0]*len(C)\n",
    "\n",
    "    for i in range(len(C)):\n",
    "\n",
    "        if N[i]==0:\n",
    "#            print(i,C[i])\n",
    "            for j in range(len(A)):\n",
    "                if U[j]==0:\n",
    "                    if C[i] >=A[j] and C[i]<=B[j]:\n",
    "#                        print(i,C[i])\n",
    "                        U[j]=1\n",
    "                        N[i]=1\n",
    "\n",
    "#    print(U,N)\n",
    "    if min(U)==0:\n",
    "        return -1\n",
    "#    print(C)\n",
    "    start_position=N.index(1)\n",
    "    end_position=len(N)-1-N[::-1].index(1)\n",
    "#    print(start_position, end_position)\n",
    "    return end_position-start_position+1\n",
    "           \n",
    "\n",
    "            \n",
    "        \n",
    "        \n",
    "        \n",
    "    \n",
    "    \n",
    "    "
   ]
  },
  {
   "cell_type": "code",
   "execution_count": null,
   "metadata": {},
   "outputs": [],
   "source": [
    "nailPlank([1, 4, 5, 8], [4, 5, 9, 10], [4, 6, 7, 10, 2])"
   ]
  },
  {
   "cell_type": "code",
   "execution_count": null,
   "metadata": {},
   "outputs": [],
   "source": [
    "nailPlank([1, 5, 4, 8], [4, 9, 5, 10], [4, 6, 7, 10, 2])"
   ]
  },
  {
   "cell_type": "code",
   "execution_count": null,
   "metadata": {},
   "outputs": [],
   "source": [
    "def nailPlank(A, B, C):\n",
    "    result = -1         # Global result\n",
    "    # Sort the planks according to firstly their begin position,\n",
    "    # and then their end position\n",
    "    planks = list(zip(A, B))\n",
    "    planks.sort()\n",
    "    # Sort the nails according to their position\n",
    "    nails = sorted(enumerate(C), key = lambda x: x[1])\n",
    "    nailsIndex = 0\n",
    "    # Travel for each plank\n",
    "    for plankIndex in range(len(planks)):\n",
    "        plank = planks[plankIndex]\n",
    "        # Find the first quanified nail in linear manner. Beware\n",
    "        # that the planks are sorted. For any two adjacent planks,\n",
    "        # the begin position of the latter one will be:\n",
    "        #   either the same as the former's begin position\n",
    "        #   or after the former's\n",
    "        # In both cases, the nails, which before the nailsIndex\n",
    "        # of the former plank's round, would never be candidates\n",
    "        # in the latter plank's round. Thus we only need to search\n",
    "        # nails from the previous nailsIndex position.\n",
    "        while nailsIndex < len(nails):\n",
    "            if nails[nailsIndex][1] < plank[0]:\n",
    "                nailsIndex += 1\n",
    "            elif nails[nailsIndex][1] > plank[1]:\n",
    "                # And all the remaining nails > plank[1]\n",
    "                # Impossible to find a quanlified nail\n",
    "                return -1\n",
    "            else:\n",
    "                # plank[0] <= nails[nailsIndex][1] <= plank[1]\n",
    "                break\n",
    "        else:\n",
    "            # Cannot find one\n",
    "            return -1\n",
    "        if plankIndex != 0 and plank[0] == planks[plankIndex-1][0]:\n",
    "            # This plank and previous plank have the same begin\n",
    "            # position. And the planks are sorted. So the end\n",
    "            # position of this plank is after that of previous\n",
    "            # plank. We continue the previous search.\n",
    "            pass\n",
    "        else:\n",
    "            # This plank and previous plank have the different\n",
    "            # begin position. We have to re-search from the\n",
    "            # nailsIndex.\n",
    "            tempRes = len(nails)  # Local result for this round\n",
    "            tempIndex = nailsIndex\n",
    "        # Find the first one in all the quanlified nails\n",
    "        while tempIndex < len(nails) and\\\n",
    "              plank[0] <= nails[tempIndex][1] <= plank[1]:\n",
    "            tempRes = min(tempRes, nails[tempIndex][0])\n",
    "            tempIndex += 1\n",
    "            # If we find a tempRes <= result, the final result\n",
    "            # of current round will <= result. This tempRes\n",
    "            # would never change the global result. Thus we\n",
    "            # could ignore it, and continue the next round.\n",
    "            if tempRes <= result:   break\n",
    "        result = max(result, tempRes)\n",
    "    return result+1"
   ]
  },
  {
   "cell_type": "code",
   "execution_count": null,
   "metadata": {},
   "outputs": [],
   "source": [
    "def nailPlank(A,B,C):\n",
    "\n",
    "    U=[0]*len(A)\n",
    "    N=[0]*len(C)\n",
    "\n",
    "    combo=list(zip(A,B))\n",
    "    combo.sort()\n",
    "#    print(combo)\n",
    "    \n",
    "    for i in range(len(C)):\n",
    "\n",
    "        if N[i]==0:\n",
    "#            print(i,C[i])\n",
    "            for j in range(len(combo)):\n",
    "                if U[j]==0:\n",
    "                    if C[i] >=combo[j][0] and C[i]<=combo[j][1]:\n",
    "#                        print(i,C[i])\n",
    "                        U[j]=1\n",
    "                        N[i]=1\n",
    "\n",
    "\n",
    "#    print(U,N)\n",
    "    if min(U)==0:\n",
    "        return -1\n",
    "#    print(C)\n",
    "    start_position=N.index(1)\n",
    "    end_position=len(N)-1-N[::-1].index(1)\n",
    "#    print(start_position, end_position)\n",
    "    return end_position-start_position+1\n",
    "           \n",
    "\n",
    "            "
   ]
  },
  {
   "cell_type": "code",
   "execution_count": null,
   "metadata": {},
   "outputs": [],
   "source": [
    "#Hackerrank challange to correct the challange code by modifying 5 lines, without adding and removing lines\n",
    "\n",
    "import re\n",
    "month = []\n",
    "\n",
    "def updateLeapYear(year):\n",
    "    if year % 400 == 0:\n",
    "        month[2] = 29\n",
    "    elif year % 100 == 0:\n",
    "        month[2] = 28\n",
    "    elif year % 4 == 0:\n",
    "        month[2] = 29\n",
    "    else:\n",
    "        month[2] = 28\n",
    "\n",
    "def storeMonth():\n",
    "    month[1] = 31\n",
    "    month[2] = 28\n",
    "    month[3] = 31\n",
    "    month[4] = 30\n",
    "    month[5] = 31\n",
    "    month[6] = 30\n",
    "    month[7] = 31\n",
    "    month[8] = 31\n",
    "    month[9] = 30\n",
    "    month[10] = 31\n",
    "    month[11] = 30\n",
    "    month[12] = 31\n",
    "\n",
    "def findPrimeDates(d1, m1, y1, d2, m2, y2):\n",
    "    storeMonth()\n",
    "    result = 0\n",
    "\n",
    "    while(True):\n",
    "        x = d1\n",
    "        x = x * 100 + m1\n",
    "        x = x * 10000 + y1\n",
    "        if x % 4 == 0 or x % 7 == 0:\n",
    "            result = result + 1\n",
    "        if d1 == d2 and m1 == m2 and y1 == y2:\n",
    "            break\n",
    "        updateLeapYear(y1)\n",
    "        d1 = d1 + 1\n",
    "#        print(m1)\n",
    "        if d1 > month[m1]:\n",
    "            m1 = m1 + 1\n",
    "            d1 = 1\n",
    "            if m1 > 12:\n",
    "                y1 =  y1 + 1\n",
    "                m1 =  1\n",
    "    return result;\n",
    "\n",
    "for i in range(1, 15):\n",
    "    month.append(31)\n",
    "\n",
    "line = input()\n",
    "date = re.split('-| ', line)\n",
    "d1 = int(date[0])\n",
    "m1 = int(date[1])\n",
    "y1 = int(date[2])\n",
    "d2 = int(date[3])\n",
    "m2 = int(date[4])\n",
    "y2 = int(date[5])\n",
    "\n",
    "#print(d1,m1,y1,d2,m2,y2)\n",
    "#input()\n",
    "\n",
    "result = findPrimeDates(d1, m1, y1, d2, m2, y2)\n",
    "print(result)\n",
    "\n"
   ]
  },
  {
   "cell_type": "code",
   "execution_count": null,
   "metadata": {},
   "outputs": [],
   "source": [
    "s=\"12345\""
   ]
  },
  {
   "cell_type": "code",
   "execution_count": null,
   "metadata": {},
   "outputs": [],
   "source": [
    "s[:]"
   ]
  },
  {
   "cell_type": "code",
   "execution_count": null,
   "metadata": {},
   "outputs": [],
   "source": [
    "import math\n",
    "math.factorial(45)"
   ]
  },
  {
   "cell_type": "markdown",
   "metadata": {},
   "source": [
    "Create a combination without using itertools.combination"
   ]
  },
  {
   "cell_type": "code",
   "execution_count": null,
   "metadata": {},
   "outputs": [],
   "source": [
    "#using pascal rule   C(n,r)=C(n-1,r)+C(n-1,r-1)\n",
    "# The main function that prints all \n",
    "# combinations of size r in arr[] of \n",
    "# size n. This function mainly uses  \n",
    "# combinationUtil() \n",
    "def printCombination(arr, n, r): \n",
    "  \n",
    "    # A temporary array to store  \n",
    "    # all combination one by one \n",
    "    data = [0] * r \n",
    "  \n",
    "    # Print all combination using \n",
    "    # temprary array 'data[]' \n",
    "    combinationUtil(arr, n, r, 0, data, 0) \n",
    "  \n",
    "''' arr[] ---> Input Array \n",
    "n     ---> Size of input array \n",
    "r     ---> Size of a combination to be printed \n",
    "index ---> Current index in data[] \n",
    "data[] ---> Temporary array to store \n",
    "            current combination \n",
    "i     ---> index of current element in arr[]     '''\n",
    "def combinationUtil(arr, n, r, index, data, i): \n",
    "  \n",
    "    # Current cobination is ready,  \n",
    "    # print it \n",
    "    if (index == r): \n",
    "        for j in range(r): \n",
    "            print(data[j], end = \" \") \n",
    "        print() \n",
    "        return\n",
    "  \n",
    "    # When no more elements are  \n",
    "    # there to put in data[] \n",
    "    if (i >= n): \n",
    "        return\n",
    "  \n",
    "    # current is included, put \n",
    "    # next at next location \n",
    "    data[index] = arr[i] \n",
    "    combinationUtil(arr, n, r, index + 1,  \n",
    "                    data, i + 1) \n",
    "  \n",
    "    # current is excluded, replace it  \n",
    "    # with next (Note that i+1 is passed,  \n",
    "    # but index is not changed) \n",
    "    combinationUtil(arr, n, r, index,  \n",
    "                    data, i + 1) \n",
    "    \n",
    "# Driver Code \n",
    "if __name__ == \"__main__\": \n",
    "    arr = [1, 2, 3, 4, 5] \n",
    "    r = 3\n",
    "    n = len(arr) \n",
    "    printCombination(arr, n, r) \n",
    "  \n",
    "# This code is contributed  \n",
    "# by ChitraNayal \n",
    "    "
   ]
  },
  {
   "cell_type": "code",
   "execution_count": null,
   "metadata": {},
   "outputs": [],
   "source": [
    "# The main function that prints  \n",
    "# all combinations of size r in  \n",
    "# arr[] of size n. This function  \n",
    "# mainly uses combinationUtil() \n",
    "def printCombination(arr, n, r): \n",
    "      \n",
    "    # A temporary array to  \n",
    "    # store all combination \n",
    "    # one by one \n",
    "    data = [0]*r; \n",
    "  \n",
    "    # Print all combination  \n",
    "    # using temprary array 'data[]' \n",
    "    combinationUtil(arr, data, 0,  \n",
    "                    n - 1, 0, r); \n",
    "  \n",
    "# arr[] ---> Input Array \n",
    "# data[] ---> Temporary array to \n",
    "#         store current combination \n",
    "# start & end ---> Staring and Ending \n",
    "#             indexes in arr[] \n",
    "# index ---> Current index in data[] \n",
    "# r ---> Size of a combination  \n",
    "# to be printed  \n",
    "def combinationUtil(arr, data, start,  \n",
    "                    end, index, r): \n",
    "                          \n",
    "    # Current combination is ready  \n",
    "    # to be printed, print it \n",
    "    if (index == r): \n",
    "        for j in range(r): \n",
    "            print(data[j], end = \" \"); \n",
    "        print(); \n",
    "        return; \n",
    "  \n",
    "    # replace index with all \n",
    "    # possible elements. The \n",
    "    # condition \"end-i+1 >=  \n",
    "    # r-index\" makes sure that  \n",
    "    # including one element at \n",
    "    # index will make a combination  \n",
    "    # with remaining elements at  \n",
    "    # remaining positions \n",
    "    i = start;  \n",
    "    while(i <= end and end - i + 1 >= r - index): \n",
    "        data[index] = arr[i]; \n",
    "        combinationUtil(arr, data, i + 1,  \n",
    "                        end, index + 1, r); \n",
    "        i += 1; "
   ]
  },
  {
   "cell_type": "code",
   "execution_count": null,
   "metadata": {},
   "outputs": [],
   "source": [
    "# Driver Code \n",
    "arr = [1, 2, 3, 4, 5]; \n",
    "r = 3; \n",
    "n = len(arr); \n",
    "printCombination(arr, n, r); \n",
    "  "
   ]
  },
  {
   "cell_type": "markdown",
   "metadata": {},
   "source": [
    "Now do permutation without itertools"
   ]
  },
  {
   "cell_type": "code",
   "execution_count": null,
   "metadata": {},
   "outputs": [],
   "source": [
    "# The main function that prints  \n",
    "# all combinations of size r in  \n",
    "# arr[] of size n. This function  \n",
    "# mainly uses combinationUtil() \n",
    "def printPermutations(arr, n, r): \n",
    "      \n",
    "    # A temporary array to  \n",
    "    # store all permutations \n",
    "    # one by one \n",
    "    data = [0]*r; \n",
    "  \n",
    "    # Print all permutations  \n",
    "    # using permutations array 'data[]' \n",
    "    permutationUtil(arr, data, 0,  \n",
    "                    n - 1, 0, r); \n",
    "  \n",
    "\n",
    " # arr[] ---> Input Array \n",
    "# data[] ---> Temporary array to \n",
    "#         store current permuation \n",
    "# start & end ---> Staring and Ending \n",
    "#             indexes in arr[] \n",
    "# index ---> Current index in data[] \n",
    "# r ---> Size of a permutation  \n",
    "# to be printed  \n",
    "def permutationUtil(arr, data, start,  \n",
    "                    end, index, r): \n",
    "                          \n",
    "    # Current permutation is ready  \n",
    "    # to be printed, print it \n",
    "    if (index == r): \n",
    "        for j in range(r): \n",
    "            print(data[j], end = \" \"); \n",
    "        print(); \n",
    "        return; \n",
    "  \n",
    "    # replace index with all \n",
    "    # possible elements. The \n",
    "    # condition \"end-i+1 >=  \n",
    "    # r-index\" makes sure that  \n",
    "    # including one element at \n",
    "    # index will make a permutation  \n",
    "    # with remaining elements at  \n",
    "    # remaining positions \n",
    "    i = start;  \n",
    "    while(i <= end and end - i + 1 >= r - index): \n",
    "        data[index] = arr[i]; \n",
    "        permutationUtil(arr, data, i + 1,  \n",
    "                        end, index + 1, r); \n",
    "        i += 1; "
   ]
  },
  {
   "cell_type": "code",
   "execution_count": null,
   "metadata": {},
   "outputs": [],
   "source": [
    "# Driver Code \n",
    "arr = [1, 2, 3, 4, 5]; \n",
    "r = 3; \n",
    "n = len(arr);\n",
    "shuffle_list=[]\n",
    "for i in range(n):\n",
    "    for j in range(i,n):\n",
    "        shuffle_list.append(arr[0:i]+arr[i:j]+arr[j:])\n",
    "        \n",
    "        \n",
    "        \n",
    "printPermutations(arr, n, r);"
   ]
  },
  {
   "cell_type": "code",
   "execution_count": null,
   "metadata": {},
   "outputs": [],
   "source": [
    "arr=[1,2,3,4,5]"
   ]
  },
  {
   "cell_type": "code",
   "execution_count": null,
   "metadata": {},
   "outputs": [],
   "source": [
    "import frozenlist"
   ]
  },
  {
   "cell_type": "code",
   "execution_count": null,
   "metadata": {},
   "outputs": [],
   "source": [
    "frozenlist.FrozenList"
   ]
  },
  {
   "cell_type": "code",
   "execution_count": null,
   "metadata": {},
   "outputs": [],
   "source": [
    "import copy\n",
    "import frozenlist\n",
    "\n",
    "def shiftRight(arr):\n",
    "    last=arr[-1]\n",
    "    for i in range(len(arr)-1,0,-1):\n",
    "        arr[i]=arr[i-1]\n",
    "    arr[0]=last\n",
    "    return arr\n",
    "    \n",
    "    \n",
    "\n",
    "def permuWhole(arr):\n",
    "    permu_list=[]\n",
    "    for i in range(len(arr)):\n",
    "        for j in range(len(arr)):\n",
    "            for _ in range(len(arr[i:j])):\n",
    "                left=copy.deepcopy(arr[0:i])\n",
    "                middle=copy.deepcopy(arr[i:j])\n",
    "                right=copy.deepcopy(arr[j:])\n",
    "                if len(left)>0 and len(middle)>0 and len(right)>0:\n",
    "                    permu_list.append(shiftRight(left)+shiftRight(middle)+shiftRight(right))\n",
    "\n",
    "                if len(middle)>0 and len(right)>0:\n",
    "                    permu_list.append(shiftRight(middle)+shiftRight(right))\n",
    "                if len(middle)>0 and len(left)>0:\n",
    "                    permu_list.append(shiftRight(left)+shiftRight(middle))\n",
    "                if len(left)>0 and len(right)>0:\n",
    "                    permu_list.append(shiftRight(left)+shiftRight(right))\n",
    "                if len(left)>0 and len(middle)>0:\n",
    "                    permu_list.append(shiftRight(left)+shiftRight(middle))\n",
    "    \n",
    "    print(permu_list)\n",
    "    \n"
   ]
  },
  {
   "cell_type": "code",
   "execution_count": null,
   "metadata": {},
   "outputs": [],
   "source": [
    "permuWhole(arr)"
   ]
  },
  {
   "cell_type": "code",
   "execution_count": null,
   "metadata": {},
   "outputs": [],
   "source": [
    "shiftRight(arr)"
   ]
  },
  {
   "cell_type": "code",
   "execution_count": null,
   "metadata": {},
   "outputs": [],
   "source": [
    "a=[{1:2,3:4}]"
   ]
  },
  {
   "cell_type": "code",
   "execution_count": null,
   "metadata": {},
   "outputs": [],
   "source": [
    "set([frozendict(i) for i in a])"
   ]
  },
  {
   "cell_type": "code",
   "execution_count": null,
   "metadata": {},
   "outputs": [],
   "source": [
    "import collections"
   ]
  },
  {
   "cell_type": "code",
   "execution_count": null,
   "metadata": {},
   "outputs": [],
   "source": []
  },
  {
   "cell_type": "code",
   "execution_count": null,
   "metadata": {},
   "outputs": [],
   "source": [
    "arr=[1,2,3,4,5]\n",
    "permuWhole(arr)"
   ]
  },
  {
   "cell_type": "code",
   "execution_count": null,
   "metadata": {},
   "outputs": [],
   "source": []
  },
  {
   "cell_type": "code",
   "execution_count": null,
   "metadata": {},
   "outputs": [],
   "source": [
    "arr=[1,2,3,4,5]\n",
    "shuffle_list=[]\n",
    "for i in range(n):\n",
    "    for j in range(i,n):\n",
    "        shuffle_list.append(arr[0:i]+arr[i:j]+arr[j:])\n",
    "print(shuffle_list)"
   ]
  },
  {
   "cell_type": "code",
   "execution_count": null,
   "metadata": {},
   "outputs": [],
   "source": [
    "import math\n",
    "math.factorial(5)"
   ]
  },
  {
   "cell_type": "code",
   "execution_count": null,
   "metadata": {},
   "outputs": [],
   "source": []
  },
  {
   "cell_type": "code",
   "execution_count": null,
   "metadata": {},
   "outputs": [],
   "source": [
    "def permutations(iterable, r=None):\n",
    "    # permutations('ABCD', 2) --> AB AC AD BA BC BD CA CB CD DA DB DC\n",
    "    # permutations(range(3)) --> 012 021 102 120 201 210\n",
    "    pool = tuple(iterable)\n",
    "    n = len(pool)\n",
    "    r = n if r is None else r\n",
    "    if r > n:\n",
    "        return\n",
    "    indices = list(range(n))\n",
    "    cycles = list(range(n, n-r, -1))\n",
    "    print(cycles)\n",
    "    input()\n",
    "    yield tuple(pool[i] for i in indices[:r])\n",
    "\n",
    "    while n:\n",
    "        for i in reversed(range(r)):\n",
    "            cycles[i] -= 1\n",
    "            if cycles[i] == 0:\n",
    "#                print(indices[i+1:],indices[i:i+1])\n",
    "#                input()\n",
    "                indices[i:] = indices[i+1:] + indices[i:i+1]\n",
    "                cycles[i] = n - i\n",
    "            else:\n",
    "                j = cycles[i]\n",
    "                indices[i], indices[-j] = indices[-j], indices[i]\n",
    "                yield tuple(pool[i] for i in indices[:r])\n",
    "                break\n",
    "        else:\n",
    "            return"
   ]
  },
  {
   "cell_type": "code",
   "execution_count": null,
   "metadata": {},
   "outputs": [],
   "source": [
    "list(permutations([1,2,3,4,5],3))"
   ]
  },
  {
   "cell_type": "markdown",
   "metadata": {},
   "source": [
    "Located on a line are N segments, numbered from 0 to N − 1, whose positions are given in arrays A and B. For each I (0 ≤ I < N) the position of segment I is from A[I] to B[I] (inclusive). The segments are sorted by their ends, which means that B[K] ≤ B[K + 1] for K such that 0 ≤ K < N − 1.\n",
    "\n",
    "Two segments I and J, such that I ≠ J, are overlapping if they share at least one common point. In other words, A[I] ≤ A[J] ≤ B[I] or A[J] ≤ A[I] ≤ B[J].\n",
    "\n",
    "The set of segments is non-overlapping if it contains no two overlapping segments. The goal is to find the size of a non-overlapping set containing the maximal number of segments.\n",
    "\n",
    "\n",
    "Write a function:\n",
    "\n",
    "def func(A, B)\n",
    "\n",
    "that, given two arrays A and B consisting of N integers, returns the size of a non-overlapping set containing a maximal number of segments.\n",
    "\n"
   ]
  },
  {
   "cell_type": "code",
   "execution_count": 1,
   "metadata": {},
   "outputs": [],
   "source": [
    "#Correctness 100% Performance 20% time complexity: O(N+Max(B))\n",
    "\n",
    "def NonOverlappingSegments(A,B):\n",
    "    if len(A)==0 or len(B)==0:\n",
    "        return 0\n",
    "    if len(A)==1:\n",
    "        return 1\n",
    "    non_overlap_list=[]\n",
    "    non_overlap_sublist=[]\n",
    "    \n",
    "    for i in range(len(B)):\n",
    "        for j in range(i+1,len(A)):\n",
    "            if B[i]<A[j]:\n",
    "#                print(\"Non Overlap\", j, A[j])\n",
    "                non_overlap_sublist.append(j)\n",
    "                break\n",
    "        non_overlap_list.append(non_overlap_sublist)\n",
    "        non_overlap_sublist=[]\n",
    "    length_list=[]\n",
    "    print(non_overlap_list)\n",
    "    for i in range(len(non_overlap_list)):\n",
    "        counter=1\n",
    "        index=non_overlap_list[i]\n",
    "        while True:\n",
    "            if index!=[]:\n",
    "                index=non_overlap_list[index[0]]\n",
    "                counter+=1\n",
    "            else:\n",
    "                break\n",
    "        length_list.append(counter)\n",
    "        \n",
    "    print(length_list)    \n",
    "    return max(length_list)\n",
    "                    \n",
    "    \n",
    "                    \n",
    "        \n",
    "        "
   ]
  },
  {
   "cell_type": "code",
   "execution_count": 2,
   "metadata": {},
   "outputs": [
    {
     "name": "stdout",
     "output_type": "stream",
     "text": [
      "[[2], [2], [3], [], []]\n",
      "[3, 3, 2, 1, 1]\n"
     ]
    },
    {
     "data": {
      "text/plain": [
       "3"
      ]
     },
     "execution_count": 2,
     "metadata": {},
     "output_type": "execute_result"
    }
   ],
   "source": [
    "NonOverlappingSegments([1,3,7,9,9],[5,6,8,9,10])"
   ]
  },
  {
   "cell_type": "markdown",
   "metadata": {},
   "source": [
    "There are N ropes numbered from 0 to N − 1, whose lengths are given in an array A, lying on the floor in a line. For each I (0 ≤ I < N), the length of rope I on the line is A[I].\n",
    "\n",
    "Two ropes I and I + 1 are adjacent. Two adjacent ropes can be tied together with a knot, and the length of the tied rope is the sum of lengths of both ropes. The resulting new rope can then be tied again.\n",
    "\n",
    "For a given integer K, the goal is to tie the ropes in such a way that the number of ropes whose length is greater than or equal to K is maximal.\n",
    "\n",
    "\n",
    "Write a function:\n",
    "\n",
    "def func(K, A)\n",
    "\n",
    "that, given an integer K and a non-empty array A of N integers, returns the maximum number of ropes of length greater than or equal to K that can be created.\n"
   ]
  },
  {
   "cell_type": "code",
   "execution_count": 3,
   "metadata": {},
   "outputs": [],
   "source": [
    "#Correctness 100% Performance 50% Detected time complexity: O(N**2)\n",
    "\n",
    "def MaximalRope(K,A):\n",
    "    if len(A)<2:\n",
    "        if A[0]>=K:\n",
    "            return 1\n",
    "        else:\n",
    "            return 0\n",
    "    index=0\n",
    "    B=[]\n",
    "    num_rope_list=[]\n",
    "    while index<len(A):\n",
    "#        print(A[index])\n",
    "        B.append(A[index])\n",
    "        if sum(B)<K:\n",
    "            index+=1\n",
    "        else:\n",
    "            temp_sub_list=[]\n",
    "            temp_length=0\n",
    "            for x in range(len(B)-1,-1,-1):\n",
    "#                print(\"test\", x, B)\n",
    "#                print(len(B))\n",
    "                temp_length+=B[x]\n",
    "                temp_sub_list.insert(0,B[x])\n",
    "                if temp_length<K:\n",
    "                    pass\n",
    "                else:\n",
    "                    break\n",
    "            B=temp_sub_list\n",
    "            num_rope_list.append(B)\n",
    "            B=[]\n",
    "            index+=1\n",
    "    print(num_rope_list)    \n",
    "    return len(num_rope_list)\n",
    "            \n",
    "        \n",
    "    \n",
    "    \n",
    "    \n",
    "    "
   ]
  },
  {
   "cell_type": "code",
   "execution_count": 4,
   "metadata": {},
   "outputs": [
    {
     "name": "stdout",
     "output_type": "stream",
     "text": [
      "[[2, 3], [4], [1, 3]]\n"
     ]
    },
    {
     "data": {
      "text/plain": [
       "3"
      ]
     },
     "execution_count": 4,
     "metadata": {},
     "output_type": "execute_result"
    }
   ],
   "source": [
    "MaximalRope(4,[1,2,3,4,1,1,3])"
   ]
  },
  {
   "cell_type": "code",
   "execution_count": 5,
   "metadata": {},
   "outputs": [
    {
     "data": {
      "text/plain": [
       "0"
      ]
     },
     "execution_count": 5,
     "metadata": {},
     "output_type": "execute_result"
    }
   ],
   "source": [
    "MaximalRope(2,[1])"
   ]
  },
  {
   "cell_type": "code",
   "execution_count": null,
   "metadata": {},
   "outputs": [],
   "source": [
    "NumberSolitaire([1, -2, 4, 3, -1, -3, -7, 4, -3,-4,-5,-6,-2,-6,-9])"
   ]
  },
  {
   "cell_type": "markdown",
   "metadata": {},
   "source": [
    "For a given array A of N integers and a sequence S of N integers from the set {−1, 1}, we define val(A, S) as follows:\n",
    "\n",
    "val(A, S) = |sum{ A[i]*S[i] for i = 0..N−1 }|\n",
    "\n",
    "(Assume that the sum of zero elements equals zero.)\n",
    "\n",
    "For a given array A, we are looking for such a sequence S that minimizes val(A,S).\n",
    "\n",
    "Write a function:\n",
    "\n",
    "def func(A)\n",
    "\n",
    "that, given an array A of N integers, computes the minimum value of val(A,S) from all possible values of val(A,S) for all possible sequences S of N integers from the set {−1, 1}.\n"
   ]
  },
  {
   "cell_type": "code",
   "execution_count": null,
   "metadata": {},
   "outputs": [],
   "source": [
    "def generateAll(S,i,n,final_list):\n",
    "    if i==n:\n",
    "        output_list=[]\n",
    "        for j in range(n):\n",
    "#            print(S[j], end=\" \")\n",
    "            output_list.append(S[j])\n",
    "#        print(\" \")\n",
    "#        print(output_list)\n",
    "        final_list.append(output_list)\n",
    "        return \n",
    "    S[i]=-1\n",
    "    generateAll(S,i+1,n,final_list)\n",
    "    S[i]=1\n",
    "    generateAll(S,i+1,n,final_list)"
   ]
  },
  {
   "cell_type": "code",
   "execution_count": null,
   "metadata": {},
   "outputs": [],
   "source": [
    "# correctness 100% performance 0% O(N**2 * max(abs(A)))\n",
    "def MinAbsSum(A):\n",
    "    if len(A)==0:\n",
    "        return 0\n",
    "    if len(A)==1:\n",
    "        return abs(A[0])\n",
    "    S=[None]*len(A)\n",
    "    final_list=[]\n",
    "    generateAll(S,0, len(A),final_list)\n",
    "#    print(final_list)\n",
    "    value_s=[]\n",
    "    for i in final_list:\n",
    "        vs=0\n",
    "        for j,k in zip(A,i):\n",
    "            vs=vs+j*k\n",
    "        value_s.append(abs(vs))\n",
    "#    print(min(value_s))\n",
    "    return min(value_s)\n",
    "    \n",
    "    \n",
    "    "
   ]
  },
  {
   "cell_type": "code",
   "execution_count": null,
   "metadata": {},
   "outputs": [],
   "source": [
    "MinAbsSum([1,5,2,-2])"
   ]
  },
  {
   "cell_type": "code",
   "execution_count": null,
   "metadata": {},
   "outputs": [],
   "source": [
    "MinAbsSum([1, 5, -2, 5, 2, 3])"
   ]
  },
  {
   "cell_type": "code",
   "execution_count": null,
   "metadata": {},
   "outputs": [],
   "source": []
  }
 ],
 "metadata": {
  "kernelspec": {
   "display_name": "Python 3",
   "language": "python",
   "name": "python3"
  },
  "language_info": {
   "codemirror_mode": {
    "name": "ipython",
    "version": 3
   },
   "file_extension": ".py",
   "mimetype": "text/x-python",
   "name": "python",
   "nbconvert_exporter": "python",
   "pygments_lexer": "ipython3",
   "version": "3.7.4"
  }
 },
 "nbformat": 4,
 "nbformat_minor": 2
}
