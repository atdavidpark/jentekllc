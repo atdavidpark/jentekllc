{
 "cells": [
  {
   "cell_type": "markdown",
   "metadata": {},
   "source": [
    "Note:\n",
    "\n",
    "This practice is aiming to beat human being based code challange in Scala, such as in person or via virtual whiteboard such as coderpad. To beat such code challange, priority is on functionality, meanings working 100% or most of scenario.\n",
    "\n",
    "This practice is not aiming at non human being, automatic coding challange\n",
    "\n",
    "If you need to do automatic coding challange, while your priority still is functionality, you should be using efficient algorithm to make the code as fast as possible to increase performance score.\n",
    "\n",
    "I wrote the code in Python (3), then refactor into Scala (2.12)\n",
    "\n"
   ]
  },
  {
   "cell_type": "markdown",
   "metadata": {},
   "source": [
    "Maximum sum subarray of size K"
   ]
  },
  {
   "cell_type": "code",
   "execution_count": 222,
   "metadata": {},
   "outputs": [
    {
     "data": {
      "text/plain": [
       "maxSum: (nums: Array[Int], k: Int)Int\n"
      ]
     },
     "execution_count": 222,
     "metadata": {},
     "output_type": "execute_result"
    }
   ],
   "source": [
    "/*\n",
    "Python:\n",
    "\n",
    "#Use sliding windows\n",
    "def maxSum(nums,k):\n",
    "    if len(nums)==0:\n",
    "        return 0\n",
    "    if k==0:\n",
    "        return 0\n",
    "    max_sum=0\n",
    "    for i in range(len(nums)):\n",
    "        max_sum=max(max_sum,sum(nums[i:i+k]))\n",
    "    return max_sum\n",
    "\n",
    "*/\n",
    "\n",
    "\n",
    "//Scala implementation\n",
    "def maxSum(nums: Array[Int], k: Int): Int= {\n",
    "    \n",
    "    if (nums.length==0)\n",
    "        return 0\n",
    "    if (k==0)\n",
    "        return 0\n",
    "    var max_sum=0\n",
    "    for (i<-0 until nums.length)\n",
    "        max_sum=max_sum.max(nums.slice(i,i+k).sum)\n",
    "    return max_sum\n",
    "    \n",
    "    \n",
    "    \n",
    "    \n",
    "}\n",
    "    "
   ]
  },
  {
   "cell_type": "code",
   "execution_count": 223,
   "metadata": {},
   "outputs": [
    {
     "data": {
      "text/plain": [
       "a: Array[Int] = Array(-5, 1, 2, 3, -4, 5, 2)\n"
      ]
     },
     "execution_count": 223,
     "metadata": {},
     "output_type": "execute_result"
    }
   ],
   "source": [
    "val a=Array(-5,1,2,3,-4,5,2)"
   ]
  },
  {
   "cell_type": "code",
   "execution_count": 224,
   "metadata": {},
   "outputs": [
    {
     "data": {
      "text/plain": [
       "res99: Int = 7\n"
      ]
     },
     "execution_count": 224,
     "metadata": {},
     "output_type": "execute_result"
    }
   ],
   "source": [
    "maxSum(a,2)"
   ]
  },
  {
   "cell_type": "markdown",
   "metadata": {},
   "source": [
    "Longest substring with ‘K’ distinct characters "
   ]
  },
  {
   "cell_type": "code",
   "execution_count": 225,
   "metadata": {},
   "outputs": [
    {
     "data": {
      "text/plain": [
       "longestSubstring: (s: String, k: Int)String\n"
      ]
     },
     "execution_count": 225,
     "metadata": {},
     "output_type": "execute_result"
    }
   ],
   "source": [
    "/*\n",
    "#Python:\n",
    "\n",
    "def longestSubstring(s,k):\n",
    "    sub_str=\"\"\n",
    "    for i in range(len(s)):\n",
    "        for j in range(i,len(s)):\n",
    "#            print(s[i:j+1])\n",
    "            if len(set(list(s[i:j+1])))==k:\n",
    "                if len(s[i:j+1])>len(sub_str):\n",
    "                    sub_str=s[i:j+1]\n",
    "    return sub_str\n",
    "*/         \n",
    "\n",
    "//Scala:\n",
    "\n",
    "def longestSubstring(s: String,k: Int): String={\n",
    "    var sub_str=\"\"\n",
    "    for (i<-0 until s.length)\n",
    "       for (j<-i until s.length)\n",
    "           if (s.toList.slice(i,j+1).toSet.toList.length==k)\n",
    "               if (s.toList.slice(i,j+1).length>sub_str.length)\n",
    "                    sub_str=s.toList.slice(i,j+1).mkString\n",
    "    return sub_str\n",
    "    \n",
    "    \n",
    "    \n",
    "}\n",
    "\n"
   ]
  },
  {
   "cell_type": "code",
   "execution_count": 226,
   "metadata": {},
   "outputs": [
    {
     "data": {
      "text/plain": [
       "res100: String = shhhhh\n"
      ]
     },
     "execution_count": 226,
     "metadata": {},
     "output_type": "execute_result"
    }
   ],
   "source": [
    "longestSubstring(\"dkashhhhhdajskdhh\",2)"
   ]
  },
  {
   "cell_type": "markdown",
   "metadata": {},
   "source": [
    "String anagrams"
   ]
  },
  {
   "cell_type": "code",
   "execution_count": 227,
   "metadata": {},
   "outputs": [
    {
     "data": {
      "text/plain": [
       "strAnagrams: (s: String)List[String]\n"
      ]
     },
     "execution_count": 227,
     "metadata": {},
     "output_type": "execute_result"
    }
   ],
   "source": [
    "/*\n",
    "#python:\n",
    "\n",
    "#P(n)=math.factorial(n)\n",
    "import math\n",
    "import random\n",
    "def strAnagrams(s):\n",
    "    if len(s)==0:\n",
    "        return None\n",
    "    anagram_set=set()\n",
    "    while len(anagram_set)<math.factorial(len(s)):\n",
    "        anagram_set.add(\"\".join(sorted(s,key=lambda x: random.randint(1,1000))))\n",
    "    anagram=list(anagram_set)\n",
    "    anagram.remove(s)\n",
    "#    print(anagram)\n",
    "    \n",
    "    return sorted(anagram)\n",
    "\n",
    "*/\n",
    "//Scala\n",
    "\n",
    "def strAnagrams(s:String):List[String]={\n",
    "    if (s.length==0)\n",
    "       return List(\"\")\n",
    "//    return List(\"test\")\n",
    "    val xs=List()\n",
    "    var y=s::xs\n",
    "    for (p<-s.permutations) if (s!=p)\n",
    "        y=p::y\n",
    "    y.sorted\n",
    "        \n",
    "}\n",
    "\n"
   ]
  },
  {
   "cell_type": "code",
   "execution_count": 228,
   "metadata": {},
   "outputs": [
    {
     "data": {
      "text/plain": [
       "res101: List[String] = List(abcd, abdc, acbd, acdb, adbc, adcb, bacd, badc, bcad, bcda, bdac, bdca, cabd, cadb, cbad, cbda, cdab, cdba, dabc, dacb, dbac, dbca, dcab, dcba)\n"
      ]
     },
     "execution_count": 228,
     "metadata": {},
     "output_type": "execute_result"
    }
   ],
   "source": [
    "strAnagrams(\"abcd\")"
   ]
  },
  {
   "cell_type": "markdown",
   "metadata": {},
   "source": [
    "Squaring a sorted array "
   ]
  },
  {
   "cell_type": "code",
   "execution_count": 229,
   "metadata": {},
   "outputs": [
    {
     "data": {
      "text/plain": [
       "import scala.collection.mutable.ArrayBuffer\n",
       "squareArr: (arr: Array[Int])Array[Int]\n"
      ]
     },
     "execution_count": 229,
     "metadata": {},
     "output_type": "execute_result"
    }
   ],
   "source": [
    "/*\n",
    "#python:\n",
    "\n",
    "def squareArr(arr):\n",
    "    return [i*i for i in arr]\n",
    "    \n",
    "*/\n",
    "\n",
    "//Scala:\n",
    "import scala.collection.mutable.ArrayBuffer\n",
    "def squareArr(arr: Array[Int]): Array[Int]={\n",
    "    //following yield statement is Array comprehension in Scala\n",
    "    var ret=for (i<-arr) yield i*i\n",
    "    var buff=ArrayBuffer[Int]()\n",
    "    for (x<-ret)\n",
    "        buff+=x\n",
    "    buff.toArray\n",
    "        \n",
    "}\n",
    "\n"
   ]
  },
  {
   "cell_type": "code",
   "execution_count": 230,
   "metadata": {},
   "outputs": [
    {
     "data": {
      "text/plain": [
       "squareArr: (arr: Array[Int])Array[Int]\n"
      ]
     },
     "execution_count": 230,
     "metadata": {},
     "output_type": "execute_result"
    }
   ],
   "source": [
    "//using Array instead of ArrayBuffer, with prepend :+ operator\n",
    "\n",
    "def squareArr(arr: Array[Int]): Array[Int]={\n",
    "    //following yield statement is Array comprehension in Scala\n",
    "    var ret=for (i<-arr) yield i*i\n",
    "    var b=Array[Int]()\n",
    "    for (x<-ret)\n",
    "        b:+=x\n",
    "    b\n",
    "        \n",
    "}"
   ]
  },
  {
   "cell_type": "code",
   "execution_count": 231,
   "metadata": {},
   "outputs": [
    {
     "data": {
      "text/plain": [
       "squareArr: (arr: Array[Int])Array[Int]\n"
      ]
     },
     "execution_count": 231,
     "metadata": {},
     "output_type": "execute_result"
    }
   ],
   "source": [
    "//Simply using map(x=>x*x)\n",
    "\n",
    "def squareArr(arr: Array[Int]): Array[Int]={\n",
    "     arr.map(x=>x*x)\n",
    "        \n",
    "}"
   ]
  },
  {
   "cell_type": "code",
   "execution_count": 232,
   "metadata": {},
   "outputs": [
    {
     "data": {
      "text/plain": [
       "res102: Array[Int] = Array(1, 4, 9)\n"
      ]
     },
     "execution_count": 232,
     "metadata": {},
     "output_type": "execute_result"
    }
   ],
   "source": [
    "squareArr(Array(1,2,3))"
   ]
  },
  {
   "cell_type": "markdown",
   "metadata": {},
   "source": [
    "Triplets that sum to zero "
   ]
  },
  {
   "cell_type": "code",
   "execution_count": 233,
   "metadata": {},
   "outputs": [
    {
     "data": {
      "text/plain": [
       "import scala.collection.mutable.ArrayBuffer\n",
       "findTripletSumZero: (arr: Array[Int])Array[Array[Int]]\n"
      ]
     },
     "execution_count": 233,
     "metadata": {},
     "output_type": "execute_result"
    }
   ],
   "source": [
    "/*\n",
    "#python:\n",
    "\n",
    "def findTripletSumZero(arr):\n",
    "    triplet=[]\n",
    "    for i in range(len(arr)):\n",
    "        for j in range(i,len(arr)):\n",
    "            if j+1<len(arr):\n",
    "                if arr[i]+arr[j]+arr[j+1]==0:\n",
    "                    triplet.append([arr[i],arr[j],arr[j+1]])\n",
    "    return triplet           \n",
    "                    \n",
    "*/\n",
    "\n",
    "//Scala:\n",
    "import scala.collection.mutable.ArrayBuffer\n",
    "def findTripletSumZero(arr: Array[Int]): Array[Array[Int]]={\n",
    "    var ret=ArrayBuffer[Array[Int]]()\n",
    "    var inter=ArrayBuffer[Int]()\n",
    "    \n",
    "    for (i<-0 until arr.length)\n",
    "        for (j<-i until arr.length)\n",
    "            if (j+1<arr.length)\n",
    "                if (arr(i)+arr(j)+arr(j+1)==0)\n",
    "                   {\n",
    "                    inter+=arr(i)\n",
    "                    inter+=arr(j)\n",
    "                    inter+=arr(j+1)\n",
    "                    ret+=inter.toArray\n",
    "                    inter=ArrayBuffer[Int]()\n",
    "                   }\n",
    "    ret.toArray\n",
    "}\n",
    "\n",
    "\n",
    "\n"
   ]
  },
  {
   "cell_type": "code",
   "execution_count": 234,
   "metadata": {},
   "outputs": [
    {
     "data": {
      "text/plain": [
       "findTripletSumZero: (arr: Array[Int])Array[Array[Int]]\n"
      ]
     },
     "execution_count": 234,
     "metadata": {},
     "output_type": "execute_result"
    }
   ],
   "source": [
    "//Or just use Array append +: or prepend :+, without ArrayBuffer\n",
    "def findTripletSumZero(arr: Array[Int]): Array[Array[Int]]={\n",
    "    var ret=Array[Array[Int]]()\n",
    "    var inter=Array[Int]()\n",
    "    \n",
    "    for (i<-0 until arr.length)\n",
    "        for (j<-i until arr.length)\n",
    "            if (j+1<arr.length)\n",
    "                if (arr(i)+arr(j)+arr(j+1)==0)\n",
    "                   {\n",
    "                    inter+:=arr(i)\n",
    "                    inter+:=arr(j)\n",
    "                    inter+:=arr(j+1)\n",
    "                    ret+:=inter\n",
    "                    inter=Array[Int]()\n",
    "                   }\n",
    "    ret\n",
    "}\n"
   ]
  },
  {
   "cell_type": "code",
   "execution_count": 235,
   "metadata": {},
   "outputs": [
    {
     "data": {
      "text/plain": [
       "res103: Array[Array[Int]] = Array(Array(3, -7, 4), Array(-7, 4, 3), Array(3, -7, 4))\n"
      ]
     },
     "execution_count": 235,
     "metadata": {},
     "output_type": "execute_result"
    }
   ],
   "source": [
    "findTripletSumZero(Array(4,2,3,4,-7,3))"
   ]
  },
  {
   "cell_type": "markdown",
   "metadata": {},
   "source": [
    "Comparing strings that contain backspaces which is assumed to be '#'"
   ]
  },
  {
   "cell_type": "code",
   "execution_count": 236,
   "metadata": {},
   "outputs": [
    {
     "data": {
      "text/plain": [
       "import util.control.Breaks._\n",
       "compareStrBackspace: (s: String, t: String)Boolean\n"
      ]
     },
     "execution_count": 236,
     "metadata": {},
     "output_type": "execute_result"
    }
   ],
   "source": [
    "/*\n",
    "#Python:\n",
    "\n",
    "def compareStrBackspace(s,t):\n",
    "    sl=list(s)\n",
    "    tl=list(t)\n",
    "    while True:\n",
    "#        print(sl)\n",
    "        sl_orig=len(sl)\n",
    "        counter=0\n",
    "        for i in range(sl_orig):\n",
    "            if sl[i]=='#':\n",
    "                if i<1:\n",
    "                    sl.pop(i)\n",
    "                    break\n",
    "                else:\n",
    "                    sl.pop(i)\n",
    "                    sl.pop(i-1)\n",
    "                    break\n",
    "            else:\n",
    "                counter+=1\n",
    "        if counter>=sl_orig:\n",
    "            break\n",
    "        \n",
    "    while True:\n",
    "#        print(tl)\n",
    "        tl_orig=len(tl)\n",
    "        counter=0\n",
    "        for i in range(tl_orig):\n",
    "            if tl[i]=='#':\n",
    "                if i<1:\n",
    "                    tl.pop(i)\n",
    "                    break\n",
    "                else:\n",
    "                    tl.pop(i)\n",
    "                    tl.pop(i-1)\n",
    "                    break\n",
    "            else:\n",
    "                counter+=1\n",
    "        if counter>=tl_orig:\n",
    "            break\n",
    "        \n",
    "    if sl==tl:\n",
    "        return True\n",
    "    else:\n",
    "        return False\n",
    "    \n",
    "*/\n",
    "\n",
    "//Scala:\n",
    "\n",
    "//Take away\n",
    "//break out of loop in scala needs to import util.control.Breaks._, need to define breakable block, \n",
    "//which break works only within the breakable block\n",
    "//scala drop is similar to python pop, however, to remove an element in specific index, like <list>.pop(index) in Python\n",
    "//scala will have to do\n",
    "// <sequence>.take(index)++sequence.drop(index+1) to remove element in sequence(index)\n",
    "\n",
    "import util.control.Breaks._\n",
    "def compareStrBackspace(s: String,t: String): Boolean={\n",
    "    var sl=s\n",
    "    var tl=t\n",
    "    var counter=0\n",
    "    while (counter<s.length)\n",
    "    {\n",
    "    breakable{\n",
    "    for (i<-0 until sl.length)\n",
    "          {\n",
    "              if (sl(i)=='#')\n",
    "                 if (i<1)\n",
    "                    {\n",
    "                     sl=sl.drop(1) \n",
    "                     break\n",
    "                    }\n",
    "                 else\n",
    "                    {\n",
    "                      sl=sl.take(i)++sl.drop(i+1)\n",
    "                      sl=sl.take(i-1)++sl.drop(i)\n",
    "                      break                        \n",
    "                    }\n",
    "              else\n",
    "                 counter=counter+1\n",
    "          }\n",
    "      }\n",
    "    }\n",
    "    counter=0\n",
    "    while (counter<t.length)\n",
    "      {\n",
    "        breakable {\n",
    "         for (i<-0 until tl.length)\n",
    "          {\n",
    "              if (tl(i)=='#')\n",
    "                 if (i<1)\n",
    "                    {\n",
    "                     tl=tl.drop(1) \n",
    "                     break\n",
    "                    }\n",
    "                 else\n",
    "                    {\n",
    "                      tl=tl.take(i)++tl.drop(i+1)\n",
    "                      tl=tl.take(i-1)++tl.drop(i)\n",
    "                      break                        \n",
    "                    }\n",
    "              else\n",
    "                  counter=counter+1\n",
    "          }\n",
    "        }\n",
    "      }\n",
    "    if (sl==tl) true else false\n",
    "\n",
    "    \n",
    "}\n"
   ]
  },
  {
   "cell_type": "code",
   "execution_count": 237,
   "metadata": {},
   "outputs": [
    {
     "data": {
      "text/plain": [
       "res104: Boolean = true\n"
      ]
     },
     "execution_count": 237,
     "metadata": {},
     "output_type": "execute_result"
    }
   ],
   "source": [
    "compareStrBackspace(\"a##c\",\"#a#c\")"
   ]
  },
  {
   "cell_type": "markdown",
   "metadata": {},
   "source": [
    "Define Linked List Cycle "
   ]
  },
  {
   "cell_type": "code",
   "execution_count": 238,
   "metadata": {},
   "outputs": [
    {
     "data": {
      "text/plain": [
       "defined class MyLinkList\n",
       "node0: MyLinkList[Nothing] = MyLinkList@6c500590\n",
       "node1: MyLinkList[Nothing] = MyLinkList@679557f2\n",
       "node2: MyLinkList[Nothing] = MyLinkList@4089dc58\n",
       "node0.element: Any = 1\n",
       "node1.element: Any = 2\n",
       "node2.element: Any = 3\n",
       "node0.next: MyLinkList[Nothing] = MyLinkList@679557f2\n",
       "node1.next: MyLinkList[Nothing] = MyLinkList@4089dc58\n",
       "node2.next: MyLinkList[Nothing] = MyLinkList@6c500590\n",
       "res105: Any = 1\n"
      ]
     },
     "execution_count": 238,
     "metadata": {},
     "output_type": "execute_result"
    }
   ],
   "source": [
    "/*\n",
    "#python:\n",
    "class MyLinkList(object):\n",
    "    def __init__(self,data):\n",
    "        self.next=None\n",
    "        self.data=data\n",
    "        \n",
    "node0=MyLinkList(1)\n",
    "node1=MyLinkList(2)\n",
    "node2=MyLinkList(3)\n",
    "node0.next=node1\n",
    "node2.next=node2\n",
    "#create a cycled linked list\n",
    "node2.next=node0\n",
    "\n",
    "*/\n",
    "//Scala conversion from Python:\n",
    "\n",
    "class MyLinkList[A]\n",
    "{\n",
    "    var element: Any=None\n",
    "    var next: MyLinkList[A]=this  \n",
    "}\n",
    "\n",
    "var node0=new MyLinkList\n",
    "var node1=new MyLinkList\n",
    "var node2=new MyLinkList\n",
    "\n",
    "node0.element=1\n",
    "node1.element=2\n",
    "node2.element=3\n",
    "\n",
    "node0.next=node1\n",
    "node1.next=node2\n",
    "//create a cycled linked list\n",
    "node2.next=node0\n",
    "\n",
    "//Traverse the list:\n",
    "\n",
    "node0.next.next.next.element\n",
    "\n"
   ]
  },
  {
   "cell_type": "markdown",
   "metadata": {},
   "source": [
    "\n",
    "A non-empty array A consisting of N integers is given. The consecutive elements of array A represent consecutive cars on a road.\n",
    "\n",
    "Array A contains only 0s and/or 1s:\n",
    "\n",
    "0 represents a car traveling east, 1 represents a car traveling west. The goal is to count passing cars. We say that a pair of cars (P, Q), where 0 ≤ P < Q < N, is passing when P is traveling to the east and Q is traveling to the west.\n"
   ]
  },
  {
   "cell_type": "code",
   "execution_count": 239,
   "metadata": {},
   "outputs": [
    {
     "data": {
      "text/plain": [
       "passingCarPair: (arr: Array[Int])Array[(Int, Int)]\n"
      ]
     },
     "execution_count": 239,
     "metadata": {},
     "output_type": "execute_result"
    }
   ],
   "source": [
    "/*\n",
    "#Python:\n",
    "\n",
    "def passingCarPair(arr):\n",
    "    result=[]\n",
    "    for i in range(len(arr)):\n",
    "        if arr[i]!=0:\n",
    "            pass\n",
    "        else:\n",
    "            for j in range(i+1,len(arr)):\n",
    "                if arr[j]==1:\n",
    "                    result.append((i,j))\n",
    "    return result\n",
    "\n",
    "*/\n",
    "\n",
    "//Scala:\n",
    "\n",
    "def passingCarPair(arr: Array[Int]): Array[(Int,Int)]={\n",
    "    var result=Array[(Int,Int)]()\n",
    "    for (i<-0 until arr.length)\n",
    "       {\n",
    "           if (arr(i)==0)\n",
    "               for (j<-i+1 until arr.length)\n",
    "                    if (arr(j)==1)\n",
    "                       result+:=(i,j)\n",
    "           \n",
    "       }\n",
    "    \n",
    "    \n",
    "//  This is to test syntax correctness of this method by uncomment below to run as is  \n",
    "//    Array((1,1))\n",
    "    result\n",
    "}\n",
    "\n"
   ]
  },
  {
   "cell_type": "code",
   "execution_count": 240,
   "metadata": {},
   "outputs": [
    {
     "data": {
      "text/plain": [
       "res106: Array[(Int, Int)] = Array((2,4), (2,3), (0,4), (0,3), (0,1))\n"
      ]
     },
     "execution_count": 240,
     "metadata": {},
     "output_type": "execute_result"
    }
   ],
   "source": [
    "passingCarPair(Array(0,1,0,1,1))"
   ]
  },
  {
   "cell_type": "markdown",
   "metadata": {},
   "source": [
    "A string S consisting of N characters is considered to be properly nested if any of the following conditions is true:\n",
    "\n",
    "S is empty; S has the form \"(U)\" or \"[U]\" or \"{U}\" where U is a properly nested string; S has the form \"VW\" where V and W are properly nested strings. For example, the string \"{[()()]}\" is properly nested but \"([)()]\" is not.\n",
    "\n"
   ]
  },
  {
   "cell_type": "code",
   "execution_count": 241,
   "metadata": {},
   "outputs": [
    {
     "data": {
      "text/plain": [
       "isProperlyClosed: (s: String)Boolean\n"
      ]
     },
     "execution_count": 241,
     "metadata": {},
     "output_type": "execute_result"
    }
   ],
   "source": [
    "/*\n",
    "#Python:\n",
    "\n",
    "def isProperlyClosed(s):\n",
    "    sl=list(s)\n",
    "    if len(sl)==0:\n",
    "        return True\n",
    "    if len(sl)==1:\n",
    "        return False\n",
    "    if sl[0]==\")\" or sl[0]==\"]\" or sl[0]==\"}\":\n",
    "        return False\n",
    "    for i in range(len(sl)):\n",
    "        if i==0:\n",
    "            prev=sl[i]\n",
    "        else:\n",
    "            if sl[i]=='}' and sl[i-1]=='{' or sl[i]==')' and sl[i-1]=='(' or sl[i]==']' and sl[i-1]=='[':\n",
    "                sl.pop(i)\n",
    "                sl.pop(i-1)\n",
    "                return isProperlyClosed(\"\".join(sl))\n",
    "    return False\n",
    "*/\n",
    "\n",
    "//Scala:\n",
    "\n",
    "def isProperlyClosed(s: String): Boolean =\n",
    "{\n",
    "    var sl=s\n",
    "        if (sl.length==0)\n",
    "            return true\n",
    "    if (sl.length==1)\n",
    "            return false\n",
    "    if (sl(0)==')' | sl(0)==']' | sl(0)=='}')\n",
    "            return false\n",
    "    for (i<- 0 until sl.length)\n",
    "        if (i>0)\n",
    "           if (sl(i)=='}' && sl(i-1)=='{' | sl(i)==')' && sl(i-1)=='(' | sl(i)==']' && sl(i-1)=='[')\n",
    "             {\n",
    "                //this is equivalent to Python pop(i)\n",
    "                sl=sl.take(i)++sl.drop(i+1)\n",
    "                //this is equivalent to Python pip(i-1)\n",
    "                sl=sl.take(i-1)++sl.drop(i)\n",
    "                return isProperlyClosed(sl)\n",
    "             }\n",
    "//  This is to test syntax correctness of this method by uncomment below to run as is      \n",
    "    true\n",
    "}"
   ]
  },
  {
   "cell_type": "code",
   "execution_count": 242,
   "metadata": {},
   "outputs": [
    {
     "data": {
      "text/plain": [
       "res107: Boolean = false\n"
      ]
     },
     "execution_count": 242,
     "metadata": {},
     "output_type": "execute_result"
    }
   ],
   "source": [
    "isProperlyClosed(\"())(()\")"
   ]
  },
  {
   "cell_type": "code",
   "execution_count": 243,
   "metadata": {},
   "outputs": [
    {
     "data": {
      "text/plain": [
       "res108: Boolean = true\n"
      ]
     },
     "execution_count": 243,
     "metadata": {},
     "output_type": "execute_result"
    }
   ],
   "source": [
    "isProperlyClosed(\"(){([])}\")"
   ]
  },
  {
   "cell_type": "code",
   "execution_count": 244,
   "metadata": {},
   "outputs": [
    {
     "data": {
      "text/plain": [
       "isProperlyClosed: (s: String)Boolean\n"
      ]
     },
     "execution_count": 244,
     "metadata": {},
     "output_type": "execute_result"
    }
   ],
   "source": [
    "/*\n",
    "#Python:\n",
    "#better and faster, not using recursion, but using stack and iteration\n",
    "\n",
    "def isProperlyClosed(s):\n",
    "    sl=list(s)\n",
    "    if len(sl)==0:\n",
    "        return True\n",
    "    if len(sl)==1:\n",
    "        return False\n",
    "    if sl[0]==\")\" or sl[0]==\"]\" or sl[0]==\"}\":\n",
    "        return False\n",
    "    stack=[]\n",
    "    for i in range(len(sl)):\n",
    "        if sl[i]=='{':\n",
    "            stack.append('{')\n",
    "        elif sl[i]=='[':\n",
    "            stack.append('[')\n",
    "        elif sl[i]=='(':\n",
    "            stack.append('(')\n",
    "        elif sl[i]=='}':\n",
    "            if len(stack)==0:\n",
    "                return False\n",
    "            if stack[-1]=='{':\n",
    "                stack.pop(-1)\n",
    "            else:\n",
    "                return False\n",
    "        elif sl[i]==']':\n",
    "            if len(stack)==0:\n",
    "                return False\n",
    "            if stack[-1]=='[':\n",
    "                stack.pop(-1)\n",
    "            else:\n",
    "                return False\n",
    "        elif sl[i]==')':   \n",
    "            if len(stack)==0:\n",
    "                return False\n",
    "            if stack[-1]=='(':\n",
    "                stack.pop(-1)\n",
    "            else:\n",
    "                return False\n",
    "    if len(stack)!=0:\n",
    "        return False\n",
    "    else:\n",
    "        return True\n",
    "\n",
    "\n",
    "*/\n",
    "\n",
    "//Scala:\n",
    "\n",
    "def isProperlyClosed(s: String): Boolean=\n",
    "{\n",
    "    var sl=s\n",
    "    if (sl.length==0)\n",
    "        return true\n",
    "    if (sl.length==1)\n",
    "        return false\n",
    "    if (sl(0)==')' | sl(0)==']' | sl(0)=='}')\n",
    "        return false\n",
    "       \n",
    "    var stack=Array[Char]()\n",
    "    for (i<-0 until sl.length)\n",
    "      {\n",
    "        sl(i) match\n",
    "          {\n",
    "              //append to the end of Array is :+, prepend is +:\n",
    "            case '{'| '[' | '('=> stack:+=sl(i)  \n",
    "             // do nothing _=>, like pass in Python\n",
    "            case _ => \n",
    "          }\n",
    "\n",
    "        if (sl(i)=='}')\n",
    "           {                   \n",
    "            if (stack.length==0)\n",
    "                return false\n",
    "            if (stack(stack.length-1)=='{')\n",
    "                //equvalent to Python pop(-1)                        \n",
    "                stack=stack.dropRight(1)\n",
    "          }\n",
    "        if (sl(i)==']')\n",
    "          {\n",
    "            if (stack.length==0)\n",
    "                return false\n",
    "            if (stack(stack.length-1)=='[')\n",
    "                //equvalent to Python pop(-1)                        \n",
    "                stack=stack.dropRight(1)\n",
    "           }\n",
    "        if (sl(i)==')')\n",
    "          {\n",
    "            if (stack.length==0)\n",
    "                return false\n",
    "            if (stack(stack.length-1)=='(')\n",
    "                {\n",
    "                //equvalent to Python pop(-1)  \n",
    "                stack=stack.dropRight(1)\n",
    "                }\n",
    "          }\n",
    "        }\n",
    "    if (stack.length!=0)\n",
    "        return false\n",
    "    else\n",
    "        return true                      \n",
    "                                        \n",
    "                                        \n",
    "//  This is to test syntax correctness of this method by uncomment below to run as is      \n",
    "//    true    \n",
    "    \n",
    "}\n",
    "\n"
   ]
  },
  {
   "cell_type": "code",
   "execution_count": 245,
   "metadata": {},
   "outputs": [
    {
     "data": {
      "text/plain": [
       "res109: Boolean = false\n"
      ]
     },
     "execution_count": 245,
     "metadata": {},
     "output_type": "execute_result"
    }
   ],
   "source": [
    "isProperlyClosed(\"())(()\")"
   ]
  },
  {
   "cell_type": "code",
   "execution_count": 246,
   "metadata": {},
   "outputs": [
    {
     "data": {
      "text/plain": [
       "res110: Boolean = true\n"
      ]
     },
     "execution_count": 246,
     "metadata": {},
     "output_type": "execute_result"
    }
   ],
   "source": [
    "isProperlyClosed(\"(){([])}\")"
   ]
  },
  {
   "cell_type": "code",
   "execution_count": 247,
   "metadata": {},
   "outputs": [
    {
     "data": {
      "text/plain": [
       "res111: Boolean = true\n"
      ]
     },
     "execution_count": 247,
     "metadata": {},
     "output_type": "execute_result"
    }
   ],
   "source": [
    "isProperlyClosed(\"[()]\")"
   ]
  },
  {
   "cell_type": "markdown",
   "metadata": {},
   "source": [
    "A non-empty array A consisting of N integers is given. Array A represents numbers on a tape.\n",
    "\n",
    "Any integer P, such that 0 < P < N, splits this tape into two non-empty parts: A[0], A[1], ..., A[P − 1] and A[P], A[P + 1], ..., A[N − 1].\n",
    "\n",
    "The difference between the two parts is the value of: |(A[0] + A[1] + ... + A[P − 1]) − (A[P] + A[P + 1] + ... + A[N − 1])|\n",
    "\n",
    "In other words, it is the absolute difference between the sum of the first part and the sum of the second part.\n",
    "\n",
    "\n",
    "def func(A)\n",
    "\n",
    "that, given a non-empty array A of N integers, returns the minimal difference that can be achieved.\n"
   ]
  },
  {
   "cell_type": "code",
   "execution_count": 248,
   "metadata": {},
   "outputs": [
    {
     "data": {
      "text/plain": [
       "import scala.math._\n",
       "TapeEquilibrium: (A: Array[Int])Int\n"
      ]
     },
     "execution_count": 248,
     "metadata": {},
     "output_type": "execute_result"
    }
   ],
   "source": [
    "/*\n",
    "#Python:\n",
    "\n",
    "def TapeEquilibrium(A):\n",
    "    if len(A)==0:\n",
    "        return 0\n",
    "    if len(A)==1:\n",
    "        return A[0]\n",
    "    diff_list=[]\n",
    "    for P in range(1,len(A)):\n",
    "        diff_list.append(abs(sum(A[:P])-sum(A[P:])))\n",
    "    if len(diff_list)==0:\n",
    "        return 0\n",
    "    return min(diff_list)\n",
    "    \n",
    "*/\n",
    "\n",
    "//scala:\n",
    "\n",
    "import scala.math._\n",
    "def TapeEquilibrium(A: Array[Int]): Int={\n",
    "    if (A.length==0)\n",
    "        return 0\n",
    "    if (A.length==1)\n",
    "        return A(0)\n",
    "    var diff_list=Array[Int]()\n",
    "    for (P<-1 to A.length)\n",
    "        diff_list:+=abs(A.slice(0,P).sum-A.slice(P,A.length).sum)\n",
    "     \n",
    "    diff_list.min\n",
    "    \n",
    "\n",
    "//  This is to test syntax correctness of this method by uncomment below to run as is      \n",
    "//  1            \n",
    "}\n"
   ]
  },
  {
   "cell_type": "code",
   "execution_count": 249,
   "metadata": {},
   "outputs": [
    {
     "data": {
      "text/plain": [
       "res112: Int = 1\n"
      ]
     },
     "execution_count": 249,
     "metadata": {},
     "output_type": "execute_result"
    }
   ],
   "source": [
    "TapeEquilibrium(Array(3,1,2,4,3))"
   ]
  },
  {
   "cell_type": "code",
   "execution_count": 250,
   "metadata": {},
   "outputs": [
    {
     "data": {
      "text/plain": [
       "import scala.math._\n",
       "TapeEquilibrium: (A: Array[Int])Int\n"
      ]
     },
     "execution_count": 250,
     "metadata": {},
     "output_type": "execute_result"
    }
   ],
   "source": [
    "/*\n",
    "#Python:\n",
    "def TapeEquilibrium(A):\n",
    "    if len(A)==0:\n",
    "        return 0\n",
    "    return min([abs(sum(A[:P])-sum(A)+sum(A[:P])) for P in range(1,len(A))])\n",
    "\n",
    "*/\n",
    "\n",
    "import scala.math._\n",
    "def TapeEquilibrium(A: Array[Int]): Int={\n",
    "    if (A.length==0)\n",
    "        return 0\n",
    "\n",
    "    var sum_list=for (P<-1 to A.length) yield abs(A.slice(0,P).sum-A.slice(P,A.length).sum)\n",
    "    sum_list.min\n",
    "    \n",
    "    \n",
    "}\n",
    "\n",
    "\n"
   ]
  },
  {
   "cell_type": "code",
   "execution_count": 251,
   "metadata": {},
   "outputs": [
    {
     "data": {
      "text/plain": [
       "res113: Int = 1\n"
      ]
     },
     "execution_count": 251,
     "metadata": {},
     "output_type": "execute_result"
    }
   ],
   "source": [
    "TapeEquilibrium(Array(3,1,2,4,3))"
   ]
  },
  {
   "cell_type": "markdown",
   "metadata": {},
   "source": [
    "An array A consisting of N different integers is given. The array contains integers in the range [1..(N + 1)], which means that exactly one element is missing.\n",
    "\n",
    "Your goal is to find that missing element.\n",
    "\n",
    "Write a function:\n",
    "\n",
    "def funcn(A)\n",
    "\n",
    "that, given an array A, returns the value of the missing element.\n"
   ]
  },
  {
   "cell_type": "code",
   "execution_count": 252,
   "metadata": {},
   "outputs": [
    {
     "data": {
      "text/plain": [
       "missingElement: (A: Array[Int])Int\n"
      ]
     },
     "execution_count": 252,
     "metadata": {},
     "output_type": "execute_result"
    }
   ],
   "source": [
    "/*\n",
    "#Python:\n",
    "\n",
    "def missingElement(A):\n",
    "    if len(A)==0:\n",
    "        return 1\n",
    "    A.sort()\n",
    "    n=0\n",
    "    for i in range(len(A)):\n",
    "        n=i\n",
    "        if A[i]!=i+1:\n",
    "            return i+1\n",
    "    return n+2\n",
    "        \n",
    "\n",
    "*/\n",
    "\n",
    "//Scala:\n",
    "\n",
    "def missingElement(A: Array[Int]): Int={\n",
    "    if (A.length==0)\n",
    "        return 1\n",
    "    \n",
    "    var A1=A.sorted\n",
    "    for (i<-0 until A1.length)\n",
    "    {\n",
    "        if (A1(i)!=i+1)\n",
    "            return i+1\n",
    "    }\n",
    "    return A.length+1\n",
    "    \n",
    "}"
   ]
  },
  {
   "cell_type": "code",
   "execution_count": 253,
   "metadata": {},
   "outputs": [
    {
     "data": {
      "text/plain": [
       "res114: Int = 5\n"
      ]
     },
     "execution_count": 253,
     "metadata": {},
     "output_type": "execute_result"
    }
   ],
   "source": [
    "missingElement(Array(2,1,3,4))"
   ]
  },
  {
   "cell_type": "markdown",
   "metadata": {},
   "source": [
    "A non-empty array A consisting of N integers is given.\n",
    "\n",
    "A permutation is a sequence containing each element from 1 to N once, and only once.\n",
    "\n",
    "The goal is to check whether array A is a permutation.\n",
    "\n",
    "Write a function:\n",
    "\n",
    "def func(A)\n",
    "\n",
    "that, given an array A, returns 1 if array A is a permutation and 0 if it is not.\n"
   ]
  },
  {
   "cell_type": "code",
   "execution_count": 254,
   "metadata": {},
   "outputs": [
    {
     "data": {
      "text/plain": [
       "isPermutation: (A: Array[Int])Int\n"
      ]
     },
     "execution_count": 254,
     "metadata": {},
     "output_type": "execute_result"
    }
   ],
   "source": [
    "/*\n",
    "#Python:\n",
    "def isPermutation(A):\n",
    "    if len(set(A))!=len(A):\n",
    "        return 0\n",
    "    A.sort()\n",
    "    for i in range(len(A)):\n",
    "        if A[i]!=i+1:\n",
    "            return 0\n",
    "    return 1\n",
    "*/    \n",
    "    \n",
    "//Scala:\n",
    "\n",
    "def isPermutation(A: Array[Int]): Int={\n",
    "    if (A.toSet.toArray.length!=A.length)\n",
    "        return 0\n",
    "    var A1=A.sorted\n",
    "    for (i<-0 until A1.length)\n",
    "        if (A1(i)!=i+1)\n",
    "            return 0\n",
    "    return 1\n",
    "    \n",
    "    \n",
    "}\n"
   ]
  },
  {
   "cell_type": "code",
   "execution_count": 255,
   "metadata": {},
   "outputs": [
    {
     "data": {
      "text/plain": [
       "res115: Int = 1\n"
      ]
     },
     "execution_count": 255,
     "metadata": {},
     "output_type": "execute_result"
    }
   ],
   "source": [
    "isPermutation(Array(1,3,2))"
   ]
  },
  {
   "cell_type": "code",
   "execution_count": 256,
   "metadata": {},
   "outputs": [
    {
     "data": {
      "text/plain": [
       "res116: Int = 0\n"
      ]
     },
     "execution_count": 256,
     "metadata": {},
     "output_type": "execute_result"
    }
   ],
   "source": [
    "isPermutation(Array(1,3,2,1))"
   ]
  },
  {
   "cell_type": "markdown",
   "metadata": {},
   "source": [
    "You are given N counters, initially set to 0, and you have two possible operations on them:\n",
    "\n",
    "increase(X) − counter X is increased by 1, max counter − all counters are set to the maximum value of any counter. A non-empty array A of M integers is given. This array represents consecutive operations:\n",
    "\n",
    "if A[K] = X, such that 1 ≤ X ≤ N, then operation K is increase(X), if A[K] = N + 1 then operation K is max counter.\n",
    "Write a function:\n",
    "\n",
    "def func(N, A)\n",
    "\n",
    "that, given an integer N and a non-empty array A consisting of M integers, returns a sequence of integers representing the values of the counters.\n"
   ]
  },
  {
   "cell_type": "code",
   "execution_count": 257,
   "metadata": {},
   "outputs": [
    {
     "data": {
      "text/plain": [
       "maxCounter: (N: Int, A: Array[Int])Array[Int]\n"
      ]
     },
     "execution_count": 257,
     "metadata": {},
     "output_type": "execute_result"
    }
   ],
   "source": [
    "/*\n",
    "#Python:\n",
    "\n",
    "def maxCounter(N,A):\n",
    "    if N<1:\n",
    "        return []\n",
    "    A_filter=list(filter(lambda x: x>=1 and x<=N+1,A))\n",
    "\n",
    "    \n",
    "    \n",
    "    n_counter=[0]*N\n",
    "    for i in range(len(A_filter)):\n",
    "#        print(i)\n",
    "        if A_filter[i]>=1 and A_filter[i]<=N:\n",
    "            n_counter[A_filter[i]-1]+=1\n",
    "        elif A_filter[i]==N+1:\n",
    "            n_counter=[max(n_counter)]*N\n",
    "        else:\n",
    "            pass\n",
    "    return n_counter\n",
    "*/\n",
    "\n",
    "//Scala:\n",
    "\n",
    "def maxCounter(N: Int,A: Array[Int]): Array[Int]=\n",
    "{\n",
    "    var n_counter=Array[Int]()\n",
    "    for (i<-0 until N)\n",
    "        n_counter+:=0\n",
    "    val A_filter=A.filter(x=>(x>=1 && x<=N+1))\n",
    "//    A_filter.foreach(println)\n",
    "    for (i<-0 until A_filter.length)\n",
    "        if (A_filter(i)>=1 && A_filter(i)<=N)\n",
    "            n_counter(A_filter(i)-1)=n_counter(A_filter(i)-1)+1\n",
    "        else\n",
    "           if (A_filter(i)==N+1)\n",
    "                for (j<-0 until N)\n",
    "                    n_counter(j)=n_counter.max\n",
    "\n",
    "    n_counter\n",
    "\n",
    "    \n",
    "}"
   ]
  },
  {
   "cell_type": "code",
   "execution_count": 258,
   "metadata": {},
   "outputs": [
    {
     "data": {
      "text/plain": [
       "res117: Array[Int] = Array(3, 2, 2, 4, 2)\n"
      ]
     },
     "execution_count": 258,
     "metadata": {},
     "output_type": "execute_result"
    }
   ],
   "source": [
    "maxCounter(5,Array(3,4,4,6,1,4,4))"
   ]
  },
  {
   "cell_type": "markdown",
   "metadata": {},
   "source": [
    "Write a function:\n",
    "\n",
    "def func(A)\n",
    "\n",
    "that, given an array A of N integers, returns the smallest positive integer (greater than 0) that does not occur in A.\n"
   ]
  },
  {
   "cell_type": "code",
   "execution_count": 259,
   "metadata": {},
   "outputs": [
    {
     "data": {
      "text/plain": [
       "import scala.collection.mutable.HashSet\n",
       "smallestInteger: (A: Array[Int])Int\n"
      ]
     },
     "execution_count": 259,
     "metadata": {},
     "output_type": "execute_result"
    }
   ],
   "source": [
    "/*\n",
    "#Python:\n",
    "def smallestInteger(A):\n",
    "    if len(A)==0:\n",
    "        return 1\n",
    "    if max(A)<1:\n",
    "        return 1\n",
    "    A_set=set(A)\n",
    "    start=1\n",
    "    while True:\n",
    "        if start not in A_set:\n",
    "            return start\n",
    "        else:\n",
    "            start+=1\n",
    "\n",
    "\n",
    "*/\n",
    "\n",
    "//scala:\n",
    "import scala.collection.mutable.HashSet\n",
    "def smallestInteger(A: Array[Int]): Int=\n",
    "{\n",
    "    if (A.max<1)\n",
    "        return 1\n",
    "    var myset=HashSet[Int]()\n",
    "    for (i<-A)\n",
    "        myset.add(i)\n",
    "    var start=1\n",
    "    while (true)\n",
    "        if (!myset.contains(start))\n",
    "            return start\n",
    "        else\n",
    "            start=start+1\n",
    "    return start\n",
    "    \n",
    "    \n",
    "}"
   ]
  },
  {
   "cell_type": "code",
   "execution_count": 260,
   "metadata": {},
   "outputs": [
    {
     "data": {
      "text/plain": [
       "res118: Int = 5\n"
      ]
     },
     "execution_count": 260,
     "metadata": {},
     "output_type": "execute_result"
    }
   ],
   "source": [
    "smallestInteger(Array(1, 3, 6, 4, 1, 2))"
   ]
  },
  {
   "cell_type": "code",
   "execution_count": 261,
   "metadata": {},
   "outputs": [
    {
     "data": {
      "text/plain": [
       "res119: Int = 4\n"
      ]
     },
     "execution_count": 261,
     "metadata": {},
     "output_type": "execute_result"
    }
   ],
   "source": [
    "smallestInteger(Array(1, 2,3))"
   ]
  },
  {
   "cell_type": "code",
   "execution_count": 262,
   "metadata": {},
   "outputs": [
    {
     "data": {
      "text/plain": [
       "res120: Int = 1\n"
      ]
     },
     "execution_count": 262,
     "metadata": {},
     "output_type": "execute_result"
    }
   ],
   "source": [
    "smallestInteger(Array(-1,-2))"
   ]
  },
  {
   "cell_type": "markdown",
   "metadata": {},
   "source": [
    "A DNA sequence can be represented as a string consisting of the letters A, C, G and T, which correspond to the types of successive nucleotides in the sequence. Each nucleotide has an impact factor, which is an integer. Nucleotides of types A, C, G and T have impact factors of 1, 2, 3 and 4, respectively. You are going to answer several queries of the form: What is the minimal impact factor of nucleotides contained in a particular part of the given DNA sequence?\n",
    "\n",
    "Write a function:\n",
    "\n",
    "def func(S, P, Q)\n",
    "\n",
    "that, given a non-empty string S consisting of N characters and two non-empty arrays P and Q consisting of M integers, returns an array consisting of M integers specifying the consecutive answers to all queries.\n",
    "\n",
    "Result array should be returned as an array of integers."
   ]
  },
  {
   "cell_type": "code",
   "execution_count": 263,
   "metadata": {},
   "outputs": [
    {
     "data": {
      "text/plain": [
       "import scala.math._\n",
       "get_min_impact: (s: String)Int\n",
       "GenomicRangeQuery: (S: String, P: Array[Int], Q: Array[Int])Array[Int]\n"
      ]
     },
     "execution_count": 263,
     "metadata": {},
     "output_type": "execute_result"
    }
   ],
   "source": [
    "/*\n",
    "#python:\n",
    "def get_min_impact(s):\n",
    "    if s[0]=='A':\n",
    "        ret=1\n",
    "    elif s[0]=='C':\n",
    "        ret=2\n",
    "    elif s[0]=='G':\n",
    "        ret=3\n",
    "    else:\n",
    "        ret=4\n",
    "    return ret\n",
    "\n",
    "def GenomicRangeQuery(S,P,Q):\n",
    "    M=len(P)\n",
    "    result=[0]*M\n",
    "    if min(P)>=0 and max(P)<=len(S)-1 and min(Q)>=0 and max(Q)<=len(S)-1:\n",
    "        pass\n",
    "    else:\n",
    "        return result \n",
    "    A,C,G,T=1,2,3,4\n",
    "\n",
    "\n",
    "    S_sort=\"\".join(sorted(S))\n",
    "    for i in range(M):\n",
    "        if abs(P[i]-Q[i])+1>len(S_sort):\n",
    "            result[i]=get_min_impact(S_sort)\n",
    "        else:\n",
    "            start=min(P[i],Q[i])\n",
    "            stop=max(P[i],Q[i])\n",
    "            result[i]=get_min_impact(\"\".join(sorted(S[start:stop+1])))\n",
    "    return result\n",
    "*/\n",
    "\n",
    "//scala:\n",
    "import scala.math._\n",
    "def get_min_impact(s: String): Int={\n",
    "    var ret:Int=0\n",
    "    s(0) match\n",
    "    {\n",
    "        case 'A'=>ret=1\n",
    "        case 'C'=>ret=2\n",
    "        case 'G'=>ret=3\n",
    "        case _ =>ret=4        \n",
    "        \n",
    "    }    \n",
    "    ret    \n",
    "}\n",
    "\n",
    "def GenomicRangeQuery(S: String,P: Array[Int],Q: Array[Int]): Array[Int]={\n",
    "    val M=P.length\n",
    "    var result=Array[Int]()\n",
    "    for (i<-0 until M)\n",
    "        result+:=0\n",
    "    if (!(P.min>=0 && P.max<=S.length-1 && Q.min>=0 && Q.max<=S.length-1))\n",
    "        return result \n",
    "//    A,C,G,T=1,2,3,4\n",
    "     val A=1\n",
    "     val C=2\n",
    "     val G=3\n",
    "     val T=4\n",
    "    \n",
    "     var start=0\n",
    "     var stop=0\n",
    "     for (i<-0 until M)\n",
    "       {\n",
    "        if (abs(P(i)-Q(i))+1>S.sorted.length)\n",
    "            result(i)=get_min_impact(S.sorted)\n",
    "        else\n",
    "            start=P(i).min(Q(i))\n",
    "            stop=P(i).max(Q(i))\n",
    "            result(i)=get_min_impact(S.slice(start,stop+1).sorted)  \n",
    "       }\n",
    "    result\n",
    "//Array(1)\n",
    "    \n",
    "}\n"
   ]
  },
  {
   "cell_type": "code",
   "execution_count": 264,
   "metadata": {},
   "outputs": [
    {
     "data": {
      "text/plain": [
       "S: String = CAGCCTA\n",
       "P: Array[Int] = Array(2, 5, 0)\n",
       "Q: Array[Int] = Array(4, 5, 6)\n"
      ]
     },
     "execution_count": 264,
     "metadata": {},
     "output_type": "execute_result"
    }
   ],
   "source": [
    "val S = \"CAGCCTA\" \n",
    "val P=Array(2,5,0)\n",
    "val Q=Array(4,5,6)"
   ]
  },
  {
   "cell_type": "code",
   "execution_count": 265,
   "metadata": {},
   "outputs": [
    {
     "data": {
      "text/plain": [
       "res121: Array[Int] = Array(2, 4, 1)\n"
      ]
     },
     "execution_count": 265,
     "metadata": {},
     "output_type": "execute_result"
    }
   ],
   "source": [
    "GenomicRangeQuery(S,P,Q)"
   ]
  },
  {
   "cell_type": "markdown",
   "metadata": {},
   "source": [
    "A non-empty array A consisting of N integers is given. A pair of integers (P, Q), such that 0 ≤ P < Q < N, is called a slice of array A (notice that the slice contains at least two elements). The average of a slice (P, Q) is the sum of A[P] + A[P + 1] + ... + A[Q] divided by the length of the slice. To be precise, the average equals (A[P] + A[P + 1] + ... + A[Q]) / (Q − P + 1).\n",
    "\n",
    "Write a function:\n",
    "\n",
    "def func(A)\n",
    "\n",
    "that, given a non-empty array A consisting of N integers, returns the starting position of the slice with the minimal average. If there is more than one slice with a minimal average, you should return the smallest starting position of such a slice.\n"
   ]
  },
  {
   "cell_type": "code",
   "execution_count": 268,
   "metadata": {},
   "outputs": [
    {
     "data": {
      "text/plain": [
       "movingAverage: (A: Array[Int])Int\n"
      ]
     },
     "execution_count": 268,
     "metadata": {},
     "output_type": "execute_result"
    }
   ],
   "source": [
    "/*\n",
    "#python\n",
    "def movingAverage(A):\n",
    "    min_avg=None\n",
    "    ret=None\n",
    "    if len(A)<3:\n",
    "        return 0\n",
    "    for i in range(len(A)):\n",
    "        for j in range(i+2,len(A)+1):\n",
    "#            print(sum(A[i:j])/len(A[i:j]))\n",
    "#            print(i,j)\n",
    "            if min_avg==None:\n",
    "                min_avg=sum(A[i:j])/len(A[i:j])\n",
    "                ret=i\n",
    "            else:\n",
    "                if min_avg>sum(A[i:j])/len(A[i:j]):\n",
    "                    min_avg=sum(A[i:j])/len(A[i:j])\n",
    "                    ret=i\n",
    "    return ret\n",
    "\n",
    "\n",
    "*/\n",
    "\n",
    "//Scala:\n",
    "\n",
    "def movingAverage(A: Array[Int]): Int={\n",
    "    var min_avg:Double=99999.0\n",
    "    var ret:Int=99999\n",
    "    if (A.length<3)\n",
    "        return 0\n",
    "    for (i<-0 until A.length)\n",
    "       for (j<-i+2 until A.length+1)\n",
    "        {\n",
    "          if (min_avg==99999.0)\n",
    "              {\n",
    "              min_avg=A.slice(i,j).sum.toFloat/A.slice(i,j).length\n",
    "              ret=i\n",
    "              }\n",
    "          else\n",
    "              if (min_avg>A.slice(i,j).sum.toFloat/A.slice(i,j).length)\n",
    "                 {\n",
    "                 min_avg=A.slice(i,j).sum.toFloat/A.slice(i,j).length\n",
    "                 ret=i\n",
    "                 }\n",
    "          }\n",
    "     ret     \n",
    "    \n",
    "}"
   ]
  },
  {
   "cell_type": "code",
   "execution_count": 269,
   "metadata": {},
   "outputs": [
    {
     "data": {
      "text/plain": [
       "res124: Int = 2\n"
      ]
     },
     "execution_count": 269,
     "metadata": {},
     "output_type": "execute_result"
    }
   ],
   "source": [
    "movingAverage(Array(-3, -5, -8, -4, -10))"
   ]
  },
  {
   "cell_type": "code",
   "execution_count": 270,
   "metadata": {},
   "outputs": [
    {
     "data": {
      "text/plain": [
       "res125: Int = 1\n"
      ]
     },
     "execution_count": 270,
     "metadata": {},
     "output_type": "execute_result"
    }
   ],
   "source": [
    "movingAverage(Array(4,2,2,5,1,5,8))"
   ]
  },
  {
   "cell_type": "markdown",
   "metadata": {},
   "source": [
    "Write a function:\n",
    "\n",
    "def func(A, B, K)\n",
    "\n",
    "that, given three integers A, B and K, returns the number of integers within the range [A..B] that are divisible by K, i.e.:\n",
    "\n",
    "{ i : A ≤ i ≤ B, i mod K = 0 }\n"
   ]
  },
  {
   "cell_type": "code",
   "execution_count": 271,
   "metadata": {},
   "outputs": [
    {
     "data": {
      "text/plain": [
       "divisible: (A: Int, B: Int, K: Int)Int\n"
      ]
     },
     "execution_count": 271,
     "metadata": {},
     "output_type": "execute_result"
    }
   ],
   "source": [
    "/*\n",
    "#Python:\n",
    "\n",
    "#100% correctness 100% performance O(1)\n",
    "def divisible(A,B,K):\n",
    "    if A==B:\n",
    "        if A%K==0:\n",
    "            return 1\n",
    "        else:\n",
    "            return 0\n",
    "    \n",
    "    if A%K==0:\n",
    "        start=A\n",
    "    elif A<K:\n",
    "        start=K\n",
    "    else:\n",
    "        start=A-A%K+K\n",
    "    \n",
    "#    print(start)\n",
    "    counter=0\n",
    "    if B<start:\n",
    "        counter=0\n",
    "    elif B==start:\n",
    "        counter=1\n",
    "    else:\n",
    "        counter=(B-start)//K+1\n",
    "#        for i in range(start,B+1,K):\n",
    "#            counter+=1\n",
    "    \n",
    "    return counter\n",
    "    \n",
    "*/\n",
    "\n",
    "//Scala:\n",
    "def divisible(A:Int,B:Int, K:Int): Int={\n",
    "    //do not forget a space between = and -1\n",
    "    var start:Int= -1\n",
    "    var counter=0\n",
    "    if (A==B)\n",
    "       if (A%K==0)\n",
    "            return 1\n",
    "       else\n",
    "            return 0\n",
    "    \n",
    "\n",
    "    if (A%K==0)\n",
    "        start=A\n",
    "    else\n",
    "        if (A<K)\n",
    "            start=K\n",
    "        else\n",
    "            start=A-A%K+K\n",
    "    \n",
    "    \n",
    "\n",
    "    if (B<start)\n",
    "            counter=0\n",
    "    else\n",
    "        if (B==start)\n",
    "            counter=1\n",
    "        else\n",
    "            counter=(B-start)/K+1\n",
    "    \n",
    "    counter\n",
    "    \n",
    "}\n"
   ]
  },
  {
   "cell_type": "code",
   "execution_count": 272,
   "metadata": {},
   "outputs": [
    {
     "data": {
      "text/plain": [
       "res126: Int = 3\n"
      ]
     },
     "execution_count": 272,
     "metadata": {},
     "output_type": "execute_result"
    }
   ],
   "source": [
    "divisible(6,11,2)"
   ]
  },
  {
   "cell_type": "code",
   "execution_count": null,
   "metadata": {},
   "outputs": [],
   "source": [
    "scala.math.Random.nextInt(100)"
   ]
  },
  {
   "cell_type": "code",
   "execution_count": null,
   "metadata": {},
   "outputs": [],
   "source": [
    "import util.Random\n"
   ]
  },
  {
   "cell_type": "code",
   "execution_count": null,
   "metadata": {},
   "outputs": [],
   "source": [
    "Random.nextInt(1000)"
   ]
  },
  {
   "cell_type": "code",
   "execution_count": null,
   "metadata": {},
   "outputs": [],
   "source": [
    "import util.Random.nextInt\n",
    "Stream.continually(nextInt(100)).take(10)"
   ]
  },
  {
   "cell_type": "code",
   "execution_count": null,
   "metadata": {},
   "outputs": [],
   "source": [
    "Seq.fill(100)(Random.nextInt)"
   ]
  },
  {
   "cell_type": "code",
   "execution_count": null,
   "metadata": {},
   "outputs": [],
   "source": [
    "def init (nRows: Int, nCols: Int) = Array.tabulate(nRows,nCols)( (x,y) => 0f )"
   ]
  },
  {
   "cell_type": "code",
   "execution_count": null,
   "metadata": {},
   "outputs": [],
   "source": [
    "var a = init(2,3)"
   ]
  },
  {
   "cell_type": "code",
   "execution_count": null,
   "metadata": {},
   "outputs": [],
   "source": [
    "var myMatrix=Array.tabulate(3,3)((x,y)=>random)"
   ]
  },
  {
   "cell_type": "code",
   "execution_count": null,
   "metadata": {},
   "outputs": [],
   "source": [
    "myMatrix(0)(0)"
   ]
  },
  {
   "cell_type": "markdown",
   "metadata": {},
   "source": [
    "Located on a line are N segments, numbered from 0 to N − 1, whose positions are given in arrays A and B. For each I (0 ≤ I < N) the position of segment I is from A[I] to B[I] (inclusive). The segments are sorted by their ends, which means that B[K] ≤ B[K + 1] for K such that 0 ≤ K < N − 1.\n",
    "\n",
    "Two segments I and J, such that I ≠ J, are overlapping if they share at least one common point. In other words, A[I] ≤ A[J] ≤ B[I] or A[J] ≤ A[I] ≤ B[J].\n",
    "\n",
    "The set of segments is non-overlapping if it contains no two overlapping segments. The goal is to find the size of a non-overlapping set containing the maximal number of segments.\n",
    "\n",
    "Write a function:\n",
    "\n",
    "object func { def solution(a: Array[Int], b: Array[Int]): Int }\n",
    "\n",
    "that, given two arrays A and B consisting of N integers, returns the size of a non-overlapping set containing a maximal number of segments.\n"
   ]
  },
  {
   "cell_type": "code",
   "execution_count": 273,
   "metadata": {},
   "outputs": [
    {
     "data": {
      "text/plain": [
       "import util.control.Breaks._\n",
       "NonOverlappingSegments: (A: Array[Int], B: Array[Int])Int\n"
      ]
     },
     "execution_count": 273,
     "metadata": {},
     "output_type": "execute_result"
    }
   ],
   "source": [
    "// Correctness 100% Performance 40%, time complexity:  O(N + max(B))\n",
    "\n",
    "import util.control.Breaks._\n",
    "\n",
    "def NonOverlappingSegments(A: Array[Int],B: Array[Int]): Int={\n",
    "//    println(A.length)\n",
    "//    println(B.length)\n",
    "    if (A.length==0 | B.length==0)\n",
    "        return 0\n",
    "    if (A.length==1 | B.length==1)\n",
    "        return 1\n",
    "    var non_overlap_list: Array[Array[Int]]=Array[Array[Int]]()\n",
    "    var non_overlap_sublist: Array[Int]=Array[Int]()\n",
    "    \n",
    "//    non_overlap_sublist=Array(1,2,3,4)\n",
    "    \n",
    "    \n",
    "//    non_overlap_sublist.foreach(println)\n",
    "    \n",
    "//    for (i<-non_overlap_sublist)\n",
    "//        println(i)\n",
    "    \n",
    "    for (i<-0 until B.length)\n",
    "      {\n",
    "         breakable {\n",
    "//         println(\"test1\")\n",
    "         for (j<-i+1 until A.length)    \n",
    "          {\n",
    "              if (A(j)>B(i))\n",
    "                  {\n",
    "//                      println(A(j))\n",
    "                      non_overlap_sublist:+=j\n",
    "                      break\n",
    "                  }\n",
    "              \n",
    "          }\n",
    "         }\n",
    "//print(\"test:  \")\n",
    "//   non_overlap_sublist.foreach(println)\n",
    "//print(\"\\n \")\n",
    "        \n",
    "         non_overlap_list:+=non_overlap_sublist\n",
    "         non_overlap_sublist=Array[Int]()\n",
    "      }\n",
    "    var counter:Int=1\n",
    "    var index:Int=0\n",
    "    var counter_list=Array[Int]()\n",
    "//    for (x<- non_overlap_list)\n",
    "//    non_overlap_list=non_overlap_list.filter(_.length>0)\n",
    "    breakable {\n",
    "    for (x<- 0 until non_overlap_list.length)\n",
    "        {\n",
    "//           x.map(y=>print(y))\n",
    "//         non_overlap_list(x).map(y=>println(y))  \n",
    "        \n",
    "//        \n",
    "            counter=1\n",
    "            if (non_overlap_list(x).length>0)\n",
    "                {\n",
    "                index=non_overlap_list(x)(0)\n",
    "                counter=counter+1\n",
    "                }\n",
    "            else\n",
    "                {\n",
    "                counter_list:+=counter\n",
    "                break\n",
    "                }\n",
    "//            println(index)\n",
    "//            println(non_overlap_list.length)\n",
    "            while (non_overlap_list(index).length>0)\n",
    "//            while (false)\n",
    "            {     \n",
    "//                  println(index)\n",
    "                index=non_overlap_list(index)(0)\n",
    "//                println(index)\n",
    "                counter=counter+1\n",
    "//         non_overlap_list(x).map(y=>println(y))   \n",
    "//           x(0)            \n",
    "//          x          \n",
    "            }\n",
    "        counter_list:+=counter\n",
    "        }\n",
    "    }\n",
    "//        counter_list.map(x=>println(x))\n",
    "        counter_list.max\n",
    "//    1\n",
    "    \n",
    "    \n",
    "}"
   ]
  },
  {
   "cell_type": "code",
   "execution_count": 274,
   "metadata": {},
   "outputs": [
    {
     "data": {
      "text/plain": [
       "res127: Int = 3\n"
      ]
     },
     "execution_count": 274,
     "metadata": {},
     "output_type": "execute_result"
    }
   ],
   "source": [
    "NonOverlappingSegments(Array(1,3,7,9,9),Array(5,6,8,9,10))"
   ]
  },
  {
   "cell_type": "markdown",
   "metadata": {},
   "source": [
    "There are N ropes numbered from 0 to N − 1, whose lengths are given in an array A, lying on the floor in a line. For each I (0 ≤ I < N), the length of rope I on the line is A[I].\n",
    "\n",
    "Two ropes I and I + 1 are adjacent. Two adjacent ropes can be tied together with a knot, and the length of the tied rope is the sum of lengths of both ropes. The resulting new rope can then be tied again.\n",
    "\n",
    "For a given integer K, the goal is to tie the ropes in such a way that the number of ropes whose length is greater than or equal to K is maximal.\n",
    "\n",
    "Write a function:\n",
    "\n",
    "class func { public int solution(int K, int[] A); }\n",
    "\n",
    "that, given an integer K and a non-empty array A of N integers, returns the maximum number of ropes of length greater than or equal to K that can be created.\n"
   ]
  },
  {
   "cell_type": "code",
   "execution_count": 275,
   "metadata": {},
   "outputs": [
    {
     "data": {
      "text/plain": [
       "import util.control.Breaks._\n",
       "MaximalRope: (K: Int, A: Array[Int])Int\n"
      ]
     },
     "execution_count": 275,
     "metadata": {},
     "output_type": "execute_result"
    }
   ],
   "source": [
    "//Correctness 100% Performance 25% \n",
    "\n",
    "import util.control.Breaks._\n",
    "def MaximalRope(K: Int,A: Array[Int]): Int={\n",
    "    if (A.length<2)\n",
    "       if (A(0)>=K)\n",
    "          return 1\n",
    "       else\n",
    "          return 0\n",
    "    \n",
    "       var index=0\n",
    "       var num_rope_list:Array[Array[Int]]=Array[Array[Int]]()\n",
    "       var B:Array[Int]=Array[Int]()\n",
    "       var temp_sub_list:Array[Int]=Array[Int]()\n",
    "       var temp_length:Int=0\n",
    "       while (index<A.length)\n",
    "       {\n",
    " //          println(A(index))\n",
    "           B:+=A(index)\n",
    "           if (B.sum<K)\n",
    "               index=index+1\n",
    "           else\n",
    "             {\n",
    "               temp_sub_list=Array[Int]()\n",
    "               temp_length=0\n",
    "               breakable {\n",
    "               for (x<-B.length-1 until -1 by -1)\n",
    "                   {\n",
    "                       temp_sub_list+:=B(x)\n",
    "                       temp_length=temp_length+B(x)\n",
    "                       if (temp_length>=K)\n",
    "                           break\n",
    "                   }\n",
    "               }\n",
    "                B=temp_sub_list\n",
    "//                B.map(x=>println(x))\n",
    "//                print(\"----\")\n",
    "                num_rope_list:+=B\n",
    "                B=Array[Int]()\n",
    "                index=index+1\n",
    "//                num_rope_list.map(x=>x.map(y=>println(y)))\n",
    "             } \n",
    "     \n",
    "       }\n",
    "//        for (x<-num_rope_list)\n",
    "//          {\n",
    "//            for (y<-x)\n",
    "//               print(y, \" \")\n",
    "//            println(\" \")\n",
    "//          }\n",
    "        num_rope_list.length   \n",
    "    \n",
    "    \n",
    "    \n",
    "}"
   ]
  },
  {
   "cell_type": "code",
   "execution_count": 276,
   "metadata": {},
   "outputs": [
    {
     "data": {
      "text/plain": [
       "res128: Int = 0\n"
      ]
     },
     "execution_count": 276,
     "metadata": {},
     "output_type": "execute_result"
    }
   ],
   "source": [
    "MaximalRope(2,Array(1))"
   ]
  },
  {
   "cell_type": "code",
   "execution_count": 277,
   "metadata": {},
   "outputs": [
    {
     "data": {
      "text/plain": [
       "res129: Int = 3\n"
      ]
     },
     "execution_count": 277,
     "metadata": {},
     "output_type": "execute_result"
    }
   ],
   "source": [
    "MaximalRope(4,Array(1,2,3,4,1,1,3))"
   ]
  },
  {
   "cell_type": "markdown",
   "metadata": {},
   "source": [
    "For a given array A of N integers and a sequence S of N integers from the set {−1, 1}, we define val(A, S) as follows:\n",
    "\n",
    "val(A, S) = |sum{ A[i]*S[i] for i = 0..N−1 }|\n",
    "\n",
    "(Assume that the sum of zero elements equals zero.)\n",
    "\n",
    "For a given array A, we are looking for such a sequence S that minimizes val(A,S).\n",
    "\n",
    "Write a function:\n",
    "\n",
    "def func(A)\n",
    "\n",
    "that, given an array A of N integers, computes the minimum value of val(A,S) from all possible values of val(A,S) for all possible sequences S of N integers from the set {−1, 1}.\n"
   ]
  },
  {
   "cell_type": "code",
   "execution_count": 278,
   "metadata": {},
   "outputs": [
    {
     "data": {
      "text/plain": [
       "import scala.collection.mutable.ArrayBuffer\n",
       "generateAll: (S: Array[Int], i: Int, n: Int, final_list: scala.collection.mutable.ArrayBuffer[Array[Int]])Unit\n",
       "import scala.math._\n",
       "MinAbsSum: (A: Array[Int])Int\n"
      ]
     },
     "execution_count": 278,
     "metadata": {},
     "output_type": "execute_result"
    }
   ],
   "source": [
    "/*\n",
    "def generateAll(S,i,n,final_list):\n",
    "    if i==n:\n",
    "        output_list=[]\n",
    "        for j in range(n):\n",
    "#            print(S[j], end=\" \")\n",
    "            output_list.append(S[j])\n",
    "#        print(\" \")\n",
    "#        print(output_list)\n",
    "        final_list.append(output_list)\n",
    "        return \n",
    "    S[i]=-1\n",
    "    generateAll(S,i+1,n,final_list)\n",
    "    S[i]=1\n",
    "    generateAll(S,i+1,n,final_list)\n",
    "    \n",
    "    \n",
    "def MinAbsSum(A):\n",
    "    if len(A)==0:\n",
    "        return 0\n",
    "    if len(A)==1:\n",
    "        return abs(A[0])\n",
    "    S=[None]*len(A)\n",
    "    final_list=[]\n",
    "    generateAll(S,0, len(A),final_list)\n",
    "#    print(final_list)\n",
    "    value_s=[]\n",
    "    for i in final_list:\n",
    "        vs=0\n",
    "        for j,k in zip(A,i):\n",
    "            vs=vs+j*k\n",
    "        value_s.append(abs(vs))\n",
    "#    print(min(value_s))\n",
    "    return min(value_s)\n",
    "    \n",
    "    \n",
    "*/\n",
    "\n",
    "//Correct, but timedout errors\n",
    "\n",
    "import scala.collection.mutable.ArrayBuffer\n",
    "def generateAll(S: Array[Int],i:Int,n:Int,final_list:ArrayBuffer[Array[Int]]): Unit={\n",
    "    var output_list:Array[Int]=Array[Int]()\n",
    "    if (i==n)\n",
    "       {\n",
    "           \n",
    "           for (j<-0 until n)\n",
    "               {\n",
    "                 output_list:+=S(j)                    \n",
    "               }\n",
    "        final_list+=output_list\n",
    "        return            \n",
    "       }\n",
    "    S(i)= -1\n",
    "    generateAll(S,i+1,n,final_list)\n",
    "    S(i)= 1\n",
    "    generateAll(S,i+1,n,final_list)\n",
    "}\n",
    "\n",
    "import scala.math._\n",
    "def MinAbsSum(A: Array[Int]): Int ={\n",
    "    if (A.length==0)\n",
    "        return 0\n",
    "    if (A.length==1)\n",
    "        return abs(A(0))\n",
    "    var S:Array[Int]=Array[Int]()\n",
    "    for (i<-0 until A.length)\n",
    "        S:+=0\n",
    "    var final_list:ArrayBuffer[Array[Int]]=ArrayBuffer[Array[Int]]()\n",
    "    generateAll(S,0,A.length,final_list)\n",
    "    var value_s:Array[Int]=Array[Int]()\n",
    "    for (i<-final_list)\n",
    "       {\n",
    "           var vs=0\n",
    "           for ((x,y)<-A.zip(i))\n",
    "               {\n",
    "                   vs=vs+x*y\n",
    "               }\n",
    "           value_s:+=abs(vs)\n",
    "           \n",
    "           \n",
    "       }\n",
    "//    value_s.map(x=>println(x))\n",
    "    return value_s.min\n",
    "    \n",
    "    \n",
    "}"
   ]
  },
  {
   "cell_type": "code",
   "execution_count": 279,
   "metadata": {},
   "outputs": [
    {
     "data": {
      "text/plain": [
       "res130: Int = 0\n"
      ]
     },
     "execution_count": 279,
     "metadata": {},
     "output_type": "execute_result"
    }
   ],
   "source": [
    "MinAbsSum(Array(1,5,2,-2))"
   ]
  },
  {
   "cell_type": "code",
   "execution_count": 280,
   "metadata": {},
   "outputs": [
    {
     "data": {
      "text/plain": [
       "res131: Int = 0\n"
      ]
     },
     "execution_count": 280,
     "metadata": {},
     "output_type": "execute_result"
    }
   ],
   "source": [
    "MinAbsSum(Array(1, 5, -2, 5, 2, 3))"
   ]
  },
  {
   "cell_type": "code",
   "execution_count": null,
   "metadata": {},
   "outputs": [],
   "source": []
  }
 ],
 "metadata": {
  "kernelspec": {
   "display_name": "spylon-kernel",
   "language": "scala",
   "name": "spylon-kernel"
  },
  "language_info": {
   "codemirror_mode": "text/x-scala",
   "file_extension": ".scala",
   "help_links": [
    {
     "text": "MetaKernel Magics",
     "url": "https://metakernel.readthedocs.io/en/latest/source/README.html"
    }
   ],
   "mimetype": "text/x-scala",
   "name": "scala",
   "pygments_lexer": "scala",
   "version": "0.4.1"
  }
 },
 "nbformat": 4,
 "nbformat_minor": 2
}
